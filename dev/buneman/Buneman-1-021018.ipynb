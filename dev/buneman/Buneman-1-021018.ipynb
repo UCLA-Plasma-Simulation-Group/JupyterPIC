{
 "cells": [
  {
   "cell_type": "markdown",
   "metadata": {
    "button": false,
    "new_sheet": false,
    "run_control": {
     "read_only": false
    }
   },
   "source": [
    "# Buneman and weak cold beam instabilities with UPIC-ES"
   ]
  },
  {
   "cell_type": "markdown",
   "metadata": {
    "button": false,
    "new_sheet": false,
    "run_control": {
     "read_only": false
    }
   },
   "source": [
    "## General dispersion relation"
   ]
  },
  {
   "cell_type": "markdown",
   "metadata": {
    "button": false,
    "new_sheet": false,
    "run_control": {
     "read_only": false
    }
   },
   "source": [
    "Consider two cold species, which we will generically label species 1 and species 2, each with constant drift velocity $\\vec{v}_{0,1}$ and $\\vec{v}_{0,2}$ and fluctuating velocity $\\tilde{\\vec{v}}_1$ and $\\tilde{\\vec{v}}_2$, respectively. The linearized Navier-Stokes equation for each species is then\n",
    "\n",
    "$$ \\frac{d}{d t} \\tilde{\\vec{v}}_s = \\frac{\\partial}{\\partial t} \\tilde{\\vec{v}}_s + \\vec{v}_{0,s} \\cdot \\nabla \\tilde{\\vec{v}}_s = \\frac{q_s}{m_s} \\tilde{\\vec{E}}. $$\n",
    "\n",
    "In addition, the continuity equation for each species is\n",
    "\n",
    "$$ \\frac{\\partial}{\\partial t} \\tilde{n}_s + n_{0,s} \\nabla \\cdot \\tilde{\\vec{v}}_s + \\vec{v}_{0,s} \\cdot \\nabla \\tilde{n}_s = 0. $$\n",
    "\n",
    "Poisson's equation then yields\n",
    "\n",
    "$$ \\nabla \\cdot \\tilde{\\vec{E}} = 4\\pi \\sum_{s}q_s \\tilde{n}_s. $$\n",
    "\n",
    "If we assume a plane wave solution of the form $\\tilde{\\vec{E}} = \\vec{E}_0 e^{i(\\vec{k} \\cdot \\vec{r} - \\omega t)}$, then the dynamical equation turns into\n",
    "\n",
    "$$ (-i\\omega + i \\vec{k} \\cdot \\vec{v}_{0,s})\\tilde{\\vec{v}}_s = \\frac{q_s}{m_s} \\tilde{\\vec{E}} \\\\\n",
    "\\Rightarrow \\tilde{\\vec{v}}_s = \\frac{q_s \\tilde{\\vec{E}}}{i m_s (-i\\omega + i \\vec{k} \\cdot \\vec{v}_{0,s})}. $$\n",
    "\n",
    "Similarly, the continuity equation can be rewritten as\n",
    "\n",
    "$$ -i\\omega \\tilde{n}_s + i n_{0,s} \\vec{k} \\cdot \\tilde{\\vec{v}}_s + i \\vec{k} \\cdot \\vec{v}_{0,s} \\tilde{n}_s = 0 \\\\\n",
    "\\Rightarrow \\tilde{n}_s = \\frac{n_{0,s} \\vec{k} \\cdot \\tilde{\\vec{v}}_s}{\\omega - \\vec{k} \\cdot \\vec{v}_{0,s}} = \\frac{-q_s n_{0,s} \\vec{k} \\cdot \\tilde{\\vec{E}}}{i m_s (\\omega - \\vec{k} \\cdot \\vec{v}_{0,s})^2}. $$\n",
    "\n",
    "If we substitute this expression for $\\tilde{n}_s$ into Poisson's equation, after rearranging we find that\n",
    "\n",
    "$$ \\left(1 - \\sum_s\\frac{\\omega_{p,s}^2}{(\\omega - \\vec{k} \\cdot \\vec{v}_{0,s})^2}\\right)i \\vec{k} \\cdot \\tilde{\\vec{E}} = 0. $$\n",
    "\n",
    "Recognizing that $\\nabla \\cdot \\tilde{\\vec{D}} = \\nabla \\cdot (\\epsilon \\tilde{\\vec{E}}) = \\epsilon i \\vec{k} \\cdot \\tilde{\\vec{E}}$, the term in parenthesis is then our dielectric constant. Setting this equal to zero gives the dispersion relation as\n",
    "\n",
    "\\begin{equation}\n",
    "1 - \\frac{\\omega_{p,1}^2}{(\\omega - \\vec{k} \\cdot \\vec{v}_{0,1})^2} - \\frac{\\omega_{p,2}^2}{(\\omega - \\vec{k} \\cdot \\vec{v}_{0,2})^2} = 0. \n",
    "\\end{equation}\n",
    "\n",
    "This equation can be used for various types of two-stream instabilities, for which the parameters $\\omega_{p,s}$ and $\\vec{v}_{0,s}$ can be adjusted. Now let us consider the case where the two species are identical with opposite drift velocities of the same magnitude."
   ]
  },
  {
   "cell_type": "markdown",
   "metadata": {
    "button": false,
    "new_sheet": false,
    "run_control": {
     "read_only": false
    }
   },
   "source": [
    "## Buneman instability"
   ]
  },
  {
   "cell_type": "markdown",
   "metadata": {
    "button": false,
    "new_sheet": false,
    "run_control": {
     "read_only": false
    }
   },
   "source": [
    "Consider a stationary background of ions with the electron plasma moving with a constant drift velocity $\\vec{v}_0$. This could be produced, for example, by a current-carrying plasma. Then the dispersion relation is reduced to\n",
    "\n",
    "$$ \n",
    "1 = \\omega_{pe}^2 \\left(\\frac{m_e/m_i}{\\omega^2} + \\frac{1}{(\\omega - \\vec{k} \\cdot \\vec{v}_0)^2}\\right).\n",
    "$$ \n",
    "\n",
    "This quartic equation can be cast into a simpler form by defining $x \\equiv \\omega/\\omega_{pe}$ and $\\alpha \\equiv \\vec{k} \\cdot \\vec{v}_0/\\omega_{pe}$ to get\n",
    "\n",
    "$$ \n",
    "1 = \\frac{m_e/m_i}{x^2} + \\frac{1}{(x-\\alpha)^2}.\n",
    "$$ "
   ]
  },
  {
   "cell_type": "markdown",
   "metadata": {
    "button": false,
    "new_sheet": false,
    "run_control": {
     "read_only": false
    }
   },
   "source": [
    "#### Parameters\n",
    "\n",
    "From the above equation, it is seen that the two free parameters in the problem are the ratio of electron to ion mass, $m_e/m_i$, and $\\alpha = \\vec{k} \\cdot \\vec{v}_0/\\omega_{pe}$, or simply the ratio $\\vec{k} \\cdot \\vec{v}_0/n_0$.\n",
    "\n",
    "#### Solution to the dispersion relation\n",
    "\n",
    "If we define the right-hand side of the equation as\n",
    "\n",
    "$$ \n",
    "\\chi (x) = \\frac{m_e/m_i}{x^2} + \\frac{1}{(x-\\alpha)^2},\n",
    "$$ \n",
    "\n",
    "then we seek for solutions to $\\chi (x) = 1$. In the below figure, we see that two of the roots for $\\omega$ are always real, and the other two roots may be real or complex depending on the value of $\\alpha$. To find when the $\\omega$ roots begin to be complex, we seek to minimize $\\chi(x)$. Setting $\\frac{m_e}{m_i} \\approx \\frac{1}{1836}$ and solving $\\chi '(x)=0$ yields $x_{min} \\approx 0.075\\alpha$. Then setting $\\chi(x_{min}) \\geq 1$ means that to have complex roots we need $\\alpha \\lesssim 1.12$. "
   ]
  },
  {
   "cell_type": "code",
   "execution_count": null,
   "metadata": {
    "button": false,
    "new_sheet": false,
    "run_control": {
     "read_only": false
    },
    "scrolled": false
   },
   "outputs": [],
   "source": [
    "import numpy as np\n",
    "import matplotlib.pyplot as plt\n",
    "from ipywidgets import interact, fixed, FloatSlider\n",
    "%matplotlib inline\n",
    "\n",
    "def plot_chi(alpha, mass_ratio):\n",
    "    x = np.arange(-2.0, 3.0, 0.001)\n",
    "    chi = mass_ratio / x ** 2 + 1 / (x - alpha) ** 2\n",
    "    \n",
    "    plt.figure(figsize=(10,8))\n",
    "    plt.plot(x, chi)\n",
    "    plt.plot([-2.0, 3.0],[1.0, 1.0],'k--')\n",
    "    plt.xlim([-2, 3])\n",
    "    plt.ylim([0, 2])\n",
    "    plt.tick_params(axis='both', labelsize=20)\n",
    "    plt.xlabel('$\\omega / \\omega_{pe}$', size=20)\n",
    "    plt.ylabel('$\\chi(x)$', size = 20)\n",
    "    plt.show()\n",
    "\n",
    "    \n",
    "interact(plot_chi, alpha=FloatSlider(min=0.9, max=1.5, step=.01, description=r'$\\alpha$', value = 1.12), mass_ratio=fixed(1.0/1836.0))"
   ]
  },
  {
   "cell_type": "markdown",
   "metadata": {
    "button": false,
    "collapsed": true,
    "new_sheet": false,
    "run_control": {
     "read_only": false
    }
   },
   "source": [
    "If we let $\\omega = \\omega_R+i \\omega_I$, then solving for $\\omega_I$ gives the growth rate. The real and imaginary parts of the frequency are shown in the below figure."
   ]
  },
  {
   "cell_type": "markdown",
   "metadata": {
    "button": false,
    "new_sheet": false,
    "run_control": {
     "read_only": false
    }
   },
   "source": [
    "<img src=\"omega_roots.png\">"
   ]
  },
  {
   "cell_type": "code",
   "execution_count": null,
   "metadata": {
    "button": false,
    "new_sheet": false,
    "run_control": {
     "read_only": false
    }
   },
   "outputs": [],
   "source": [
    "## Here we make acell to make the plot above\n",
    "import sys\n",
    "\n",
    "## comment out the line below if you are running this notebook under Docker.  If you do that then \n",
    "## you don't need to import OSIRIS again.  If you are running this cell by itself, you need\n",
    "## the following lines\n",
    "#sys.path.append(\"../../analysis\")\n",
    "import osiris\n",
    "##\n",
    "##\n",
    "##\n",
    "\n",
    "import mpmath\n",
    "\n",
    "def buneman_growth_rate(alphaarray,rmass):\n",
    "\n",
    "    nalpha=alphaarray.shape[0]\n",
    "\n",
    "    alphamin=alphaarray[0]\n",
    "    alphamax=alphaarray[nalpha-1]\n",
    "\n",
    "    prev_root=complex(0,0)\n",
    "\n",
    "    growth_rate=np.zeros(nalpha)\n",
    "    growth_rate_r = np.zeros(nalpha)\n",
    "\n",
    "    def buneman_disp(x):\n",
    "        return (x**-(-rmass+x**2)*(x-alphaarray[0])**2)\n",
    "    new_root=mpmath.findroot(buneman_disp,prev_root,solver='newton')\n",
    "    growth_rate[0]=new_root.imag\n",
    "    prev_root=complex(new_root.real,new_root.imag)\n",
    "#    print(repr(prev_root))\n",
    "\n",
    "    for i in range(1,nalpha):\n",
    "        # print(repr(i))\n",
    "        def buneman_disp2(x):\n",
    "            return (x**2-(-rmass+x**2)*(x-alphaarray[i])**2)\n",
    "\n",
    "        new_root =  mpmath.findroot(buneman_disp2, prev_root,solver='muller')\n",
    "        growth_rate[i]=new_root.imag\n",
    "        growth_rate_r[i] = new_root.real\n",
    "        prev_root=complex(new_root.real,new_root.imag)\n",
    "\n",
    "    return growth_rate, growth_rate_r\n",
    "import numpy as np\n",
    "import matplotlib.pyplot as plt\n",
    "from ipywidgets import interact, fixed, FloatSlider\n",
    "%matplotlib inline\n",
    "\n",
    "def plot_growth(mass_ratio):\n",
    "    alpha = np.arange(0, 2.0, 0.01)\n",
    "    # growth_rate = alpha\n",
    "    # growth_rate = 1.0 * alpha*alpha\n",
    "    growth_rate, growth_rate_r = buneman_growth_rate(alpha,mass_ratio)\n",
    "    plt.figure(figsize=(10,8))\n",
    "    plt.plot(alpha,growth_rate,'r.',label='Growth Rate')\n",
    "    plt.plot(alpha,growth_rate_r,'g',label='Real Frequency')\n",
    "#     plt.plot([-2.0, 3.0],[1.0, 1.0],'k--')\n",
    "    plt.xlim([0, 1.2])\n",
    "    plt.ylim([0, 0.25])\n",
    "    plt.tick_params(axis='both', labelsize=18)\n",
    "    plt.ylabel('$\\omega / \\omega_{pe}$', size=24)\n",
    "    plt.xlabel(r'$\\alpha$', size = 24)\n",
    "    plt.legend(fontsize=20)\n",
    "    plt.grid(True)\n",
    "    plt.show()\n",
    "\n",
    "    \n",
    "interact(plot_growth, mass_ratio=FloatSlider(min=0.005, max=0.1, step=.002, description='$m/M$', value = 0.001))"
   ]
  },
  {
   "cell_type": "markdown",
   "metadata": {
    "button": false,
    "new_sheet": false,
    "run_control": {
     "read_only": false
    }
   },
   "source": [
    "# Simulations with a Particle-in-Cell Code"
   ]
  },
  {
   "cell_type": "code",
   "execution_count": null,
   "metadata": {
    "button": false,
    "new_sheet": false,
    "run_control": {
     "read_only": false
    }
   },
   "outputs": [],
   "source": [
    "#Edit some things below"
   ]
  },
  {
   "cell_type": "markdown",
   "metadata": {
    "button": false,
    "new_sheet": false,
    "run_control": {
     "read_only": false
    }
   },
   "source": [
    "In this project, you will be simulating plasmas with the electrostatic code UPIC-ES.   The normalization of the code is $\\omega_p = 1$, and the grid size $\\Delta x = 1$.  Therefore, velocity is measured in units of [$\\Delta x \\omega_p$].\n",
    "\n",
    "\n",
    "Each plasma electron is initialized with positions (only in x) such that the density is uniform. The ions are initialized at the same positions but with a larger mass.  Each electron is also initialized with velocities ($v_1$, $v_2$, $v_3$) or momentum ($mv_1$, $mv_2$, $mv_3$) from a Maxwellian in each direction. The particles then begin to move in the self-consistent fields that their charge density produce, from Poisson's law:\n",
    "\n",
    "\\begin{equation}\n",
    "\\nabla^2 \\phi = \\rho\n",
    "\\end{equation}\n",
    "\n",
    "\n",
    "\n",
    "You will be looking at plots of the electric field, $\\vec{E}$, and the electrostatic potential, $\\phi$. "
   ]
  },
  {
   "cell_type": "markdown",
   "metadata": {
    "button": false,
    "new_sheet": false,
    "run_control": {
     "read_only": false
    }
   },
   "source": [
    "### The following lines must always be executed before running anything else.\n",
    "\n",
    "Reminder: Hit Shift+Enter to run a cell, or select the cell and click on the \"Run\" button in the top menu bar"
   ]
  },
  {
   "cell_type": "code",
   "execution_count": null,
   "metadata": {
    "button": false,
    "new_sheet": false,
    "run_control": {
     "read_only": false
    }
   },
   "outputs": [],
   "source": [
    "import osiris\n",
    "import numpy as np\n",
    "from scipy.interpolate import interp1d\n",
    "import matplotlib.pyplot as plt\n",
    "from mpmath import *\n",
    "%matplotlib inline\n",
    "from analysis import *\n",
    "from h5_utilities import *\n",
    "import os\n",
    "\n",
    "title_font = {'fontname':'serif', 'size':'20', 'color':'black', 'weight':'normal',\n",
    "              'verticalalignment':'bottom'}\n",
    "axis_font = {'fontname':'serif', 'size':'34'}\n",
    "plt.rc('font',size=20,family=\"serif\")"
   ]
  },
  {
   "cell_type": "markdown",
   "metadata": {
    "button": false,
    "new_sheet": false,
    "run_control": {
     "read_only": false
    }
   },
   "source": [
    "## Case 1 :  $V_0=3 \\Delta x \\omega_p$\n",
    "\n",
    "### Visualize the theory\n",
    "\n",
    "The dispersion relation for the Buneman instability does not have an analytical solution. The theory curve is produced through root finding, then constructing an interpolation function for later use.  Here we produce the theory curve for our particular simulation, which has a beam velocity of 3 $\\Delta x \\omega_{pe}$."
   ]
  },
  {
   "cell_type": "code",
   "execution_count": null,
   "metadata": {
    "button": false,
    "new_sheet": false,
    "run_control": {
     "read_only": false
    },
    "scrolled": false
   },
   "outputs": [],
   "source": [
    "alpha=np.linspace(0,3,num=200)\n",
    "rmass=1.0/100.0\n",
    "growth_rate=osiris.buneman_growth_rate(alpha,rmass)\n",
    "\n",
    "growth_rate_func=interp1d(alpha,np.abs(growth_rate),kind='cubic')\n",
    "\n",
    "v0=3.0\n",
    "\n",
    "karray=np.arange(0.01,1.0,0.01)\n",
    "nk=49\n",
    "growth_rate=np.zeros(nk)\n",
    "growth_rate=growth_rate_func(karray*v0)\n",
    "plt.figure(figsize=(10,10))\n",
    "plt.plot(karray,growth_rate,label='Theory: $v_0 = '+repr(v0)+'$,\\n'+'mass ratio $m/M = '+repr(rmass)+'$')\n",
    "\n",
    "plt.xlabel('Wavenumber [$1/\\Delta x$]',**axis_font)\n",
    "plt.ylabel('Growth Rate [$\\omega_{pe}$]',**axis_font)\n",
    "plt.legend()\n",
    "plt.show()"
   ]
  },
  {
   "cell_type": "markdown",
   "metadata": {
    "button": false,
    "new_sheet": false,
    "run_control": {
     "read_only": false
    }
   },
   "source": [
    "For a mass ratio of 1/100, we have unstable modes for $\\alpha \\lesssim 1.34$, or $k \\lesssim 0.45 \\Delta x^{-1}$.  The most unstable mode occurs at $\\alpha \\approx 1.04$, or $k \\approx 0.35 \\Delta x^{-1}$."
   ]
  },
  {
   "cell_type": "markdown",
   "metadata": {
    "button": false,
    "new_sheet": false,
    "run_control": {
     "read_only": false
    }
   },
   "source": [
    "### Run the simulation:"
   ]
  },
  {
   "cell_type": "code",
   "execution_count": null,
   "metadata": {
    "button": false,
    "new_sheet": false,
    "run_control": {
     "read_only": false
    }
   },
   "outputs": [],
   "source": [
    "dirname = 'buneman'\n",
    "osiris.run_upic_es(rundir=dirname,inputfile='buneman.txt')"
   ]
  },
  {
   "cell_type": "markdown",
   "metadata": {
    "button": false,
    "new_sheet": false,
    "run_control": {
     "read_only": false
    }
   },
   "source": [
    "Run the cell below to look at the x-component of the electric field as a function of time for the various modes in the simulation."
   ]
  },
  {
   "cell_type": "code",
   "execution_count": null,
   "metadata": {
    "button": false,
    "new_sheet": false,
    "run_control": {
     "read_only": false
    }
   },
   "outputs": [],
   "source": [
    "# read the history file, plot it vs time and space\n",
    "\n",
    "workdir = os.getcwd()\n",
    "dirname ='buneman'\n",
    "filename=workdir+'/'+dirname+'/Ex.h5'\n",
    "# print(filename)\n",
    "test4=read_hdf(filename)\n",
    "# here we fourier analyze the data in space\n",
    "#\n",
    "# k_data=np.fft.fft(test.data,axis=1)\n",
    "k_data=np.fft.fft(test4.data,axis=1)\n",
    "# k_data_2=np.fft.fft(k_data,axis=0)\n",
    "\n",
    "test4.data=np.abs(k_data)\n",
    "\n",
    "test4.axes[0].axis_max=2.0*3.1415926\n",
    "\n",
    "\n",
    "# test4.data=np.log10(np.real(test4.data)+1e-10)\n",
    "plt.figure(figsize=(10,10))\n",
    "plotme(test4)\n",
    "k_bound=0.446664\n",
    "k_max=0.34713\n",
    "plt.plot([k_bound,k_bound],[0,200],'b--',label='Instability Boundary') \n",
    "plt.plot([k_max,k_max],[0,200],'r--',label='Peak Location')\n",
    "plt.xlim(0,1)\n",
    "plt.ylim(0,190)\n",
    "plt.xlabel('Wavenumber [$1/\\Delta x$]')\n",
    "plt.ylabel('Time [$1/\\omega_p$]')\n",
    "# plt.ylim(0,50)\n",
    "# plt.ylim(tlim[0],tlim[1])\n",
    "plt.legend(loc='lower right',prop={'size': 12})\n",
    "plt.show()"
   ]
  },
  {
   "cell_type": "markdown",
   "metadata": {
    "button": false,
    "new_sheet": false,
    "run_control": {
     "read_only": false
    }
   },
   "source": [
    "You can observe that the signal occurs near the modes where instability is predicted.   The blue vertical line indicates where the growth rate goes to 0 (at $k \\approx 0.45$).  There should be no instability to the right of the plot.  The red vertical line indicates the location of the most unstable mode ($k \\approx 0.35$).   \n",
    "\n",
    "* Do the simulation results agree with theory?\n",
    "    \n",
    "* What are the sources of the noise for signals whose wavenumber to the right of the BLUE line?\n",
    "\n",
    "* Do you recognize any patterns in the mode strengths going from left to right?  What might explain those patterns?\n",
    "\n",
    "-----\n",
    "Next we'll look at the mode histories in greater detail, and compare the simulation data against theory.\n",
    "\n",
    "Plot the electric field modes individually and compare their growth rate to the theoretical growth rate.\n",
    "\n",
    "The most unstable mode occurs at mode 14, but the theory agrees well for modes 8-14"
   ]
  },
  {
   "cell_type": "code",
   "execution_count": null,
   "metadata": {
    "button": false,
    "new_sheet": false,
    "run_control": {
     "read_only": false
    }
   },
   "outputs": [],
   "source": [
    "# This cell we try to compare data with theory:\n",
    "\n",
    "nx=test4.data.shape[1]\n",
    "nt=test4.data.shape[0]\n",
    "# print(repr(nt))\n",
    "dk=2*3.1415926/nx\n",
    "# print('Delta k = '+repr(dk))\n",
    "\n",
    "\n",
    "# To compare with theory, just specify the mode you want to look at here\n",
    "#\n",
    "display_mode = 10\n",
    "bracket = False\n",
    "#\n",
    "#\n",
    "\n",
    "v0=3.0\n",
    "\n",
    "alpha = v0 * dk * (display_mode)\n",
    "# growth_rate = 0.0\n",
    "# if (alpha<np.sqrt(2)): \n",
    "growth_rate=growth_rate_func(alpha)[()]\n",
    "\n",
    "taxis=np.linspace(0,test4.axes[1].axis_max,nt)\n",
    "stream_theory=np.zeros(nt)\n",
    "stream_theory_plus=np.zeros(nt)\n",
    "stream_theory_minus=np.zeros(nt)\n",
    "init_amplitude=1e-7\n",
    "for it in range(0,nt):\n",
    "    stream_theory[it]=init_amplitude*np.exp(growth_rate*taxis[it])\n",
    "    stream_theory_plus[it]=init_amplitude*np.exp(1.15*growth_rate*taxis[it])\n",
    "    stream_theory_minus[it]=init_amplitude*np.exp(0.85*growth_rate*taxis[it])\n",
    "\n",
    "plt.figure(figsize=(12,8))\n",
    "plt.semilogy(taxis,test4.data[:,display_mode],label='PIC simulation, mode ='+repr(display_mode))\n",
    "plt.semilogy(taxis,stream_theory,'r',label='theory, growth rate ='+'%.3f'%growth_rate)\n",
    "\n",
    "if (bracket):\n",
    "    plt.semilogy(taxis,stream_theory_plus,'g.')\n",
    "\n",
    "    plt.semilogy(taxis,stream_theory_minus,'g.')\n",
    "\n",
    "\n",
    "plt.ylim((1e-7,1000))\n",
    "plt.legend()\n",
    "plt.xlabel('Time $[1/\\omega_{pe}]$',**axis_font)\n",
    "plt.ylabel('Time History [a.u.]', **axis_font)\n",
    "  \n",
    "    \n",
    "plt.show()"
   ]
  },
  {
   "cell_type": "markdown",
   "metadata": {
    "button": false,
    "new_sheet": false,
    "run_control": {
     "read_only": false
    }
   },
   "source": [
    "Plot the evolution of the electrostatic potential in real space.\n",
    "\n",
    "* Is there a point in time at which the potential ceases to grow?  Do you expect the field to grow without bounds or is there a physical reason for the growth to stop?"
   ]
  },
  {
   "cell_type": "code",
   "execution_count": null,
   "metadata": {
    "button": false,
    "new_sheet": false,
    "run_control": {
     "read_only": false
    }
   },
   "outputs": [],
   "source": [
    "dirname = 'buneman'\n",
    "\n",
    "osiris.plot_xt_arb(rundir=dirname, field='pot',tlim=[0,250])"
   ]
  },
  {
   "cell_type": "markdown",
   "metadata": {
    "button": false,
    "new_sheet": false,
    "run_control": {
     "read_only": false
    }
   },
   "source": [
    "Finally, here we visualize the evolution of the electron phase space (x,vx).\n",
    "\n",
    "* Examine the evolution of the phase space near the time where the potential stops to grow. What is going on at this time in the simulation?\n",
    "\n",
    "* Think about using the words \"linear\" and \"nonlinear\" to describe these phenomena."
   ]
  },
  {
   "cell_type": "code",
   "execution_count": null,
   "metadata": {
    "button": false,
    "new_sheet": false,
    "run_control": {
     "read_only": false
    }
   },
   "outputs": [],
   "source": [
    "dirname='buneman'\n",
    "\n",
    "osiris.phasespace_movie(rundir=dirname)"
   ]
  },
  {
   "cell_type": "markdown",
   "metadata": {
    "button": false,
    "new_sheet": false,
    "run_control": {
     "read_only": false
    }
   },
   "source": [
    "----\n",
    "## Weak Cold Beam Instability (Bump on Tail)\n",
    "\n",
    "Next we transition to another instability that involves nearly identical mathematics to the Buneman instability.\n",
    "\n",
    "Consider a stationary electron-ion plasma with a fast, weak beam of electrons passing through it. Here \"fast\" implies $v_b \\gg \\bar{v}_e, \\bar{v}_i$, \"weak\" implies $n_b/n_0 \\ll 1$, and \"cold\" implies $v_b \\gg \\bar{v}_b$. Since $\\omega_{pi} \\ll \\omega_{pe}$, we neglect the ion contribution to the dispersion relation and obtain\n",
    "\n",
    "\\begin{align*}\n",
    "1 = \\frac{\\omega_{pe}^2}{\\omega^2} + \\frac{\\omega_{pb}^2}{(\\omega-\\vec{k} \\cdot \\vec{v}_b)^2}.\n",
    "\\end{align*}\n",
    "\n",
    "Defining $x \\equiv \\omega/\\omega_{pb}$ and $\\alpha \\equiv \\vec{k} \\cdot \\vec{v}_b/\\omega_{pb}$, along with recognizing that $\\omega_{pe}^2/\\omega_{pb}^2 = n_0/n_b$, we then get that\n",
    "\n",
    "\\begin{align*}\n",
    "1 = \\frac{n_0/n_b}{x^2} + \\frac{1}{(x-\\alpha)^2}.\n",
    "\\end{align*}\n",
    "\n",
    "This is the exact same equation reached in the Buneman analysis, but with $m_e/m_i$ replaced by $n_0/n_b$.\n",
    "\n",
    "### Parameters\n",
    "\n",
    "From the above equation, it is seen that the two free parameters in the problem are the ratio of background to beam density, $n_0/n_b$, and $\\alpha = \\vec{k} \\cdot \\vec{v}_b/\\omega_{pb}$, or simply the ratio $\\vec{k} \\cdot \\vec{v}_b/n_b$.\n",
    "\n",
    "### Solution to the dispersion relation\n",
    "\n",
    "Analysis proceeds exactly as in the discussion for the Buneman instability, but now $n_0/n_b \\gg 1$. This results in complex values of $\\omega$ for much larger allowable values of $\\alpha$ than before. For example, with $n_0/n_b = 2000$, $\\omega$ is complex for $\\alpha \\lesssim 50$."
   ]
  },
  {
   "cell_type": "markdown",
   "metadata": {
    "button": false,
    "new_sheet": false,
    "run_control": {
     "read_only": false
    }
   },
   "source": [
    "## Case 2 :  $v_b=10 \\Delta x \\omega_p$, $n_0/n_b = 100$\n",
    "\n",
    "### Visualize the theory\n",
    "\n",
    "The dispersion relation for the Buneman instability does not have an analytical solution. The theory curve is produced through root finding, then constructing an interpolation function for later use.  Here we produce the theory curve for our particular simulation, which has a beam velocity of 3 $\\Delta x \\omega_{pe}$."
   ]
  },
  {
   "cell_type": "code",
   "execution_count": null,
   "metadata": {
    "button": false,
    "new_sheet": false,
    "run_control": {
     "read_only": false
    },
    "scrolled": false
   },
   "outputs": [],
   "source": [
    "alpha=np.linspace(0,20,num=200)\n",
    "rmass=100.0\n",
    "growth_rate=osiris.buneman_growth_rate(alpha,rmass)\n",
    "\n",
    "growth_rate_func=interp1d(alpha,np.abs(growth_rate),kind='cubic')\n",
    "\n",
    "v0=10.0\n",
    "\n",
    "c=100.0\n",
    "karray=np.arange(0.01,2,0.01)\n",
    "nk=49\n",
    "growth_rate=np.zeros(nk)\n",
    "growth_rate=growth_rate_func(karray*v0)\n",
    "plt.figure(figsize=(10,10))\n",
    "plt.plot(karray,growth_rate,label='Theory: $v_0 = '+repr(v0)+'$,\\n'+'den ratio $n_0/n_b = '+repr(c)+'$')\n",
    "\n",
    "plt.xlabel('Wavenumber [$1/\\Delta x$]',**axis_font)\n",
    "plt.ylabel('Growth Rate [$\\omega_{pe}$]',**axis_font)\n",
    "plt.legend()\n",
    "plt.show()"
   ]
  },
  {
   "cell_type": "markdown",
   "metadata": {
    "button": false,
    "new_sheet": false,
    "run_control": {
     "read_only": false
    }
   },
   "source": [
    "For a density ratio of 100, we have unstable modes for $\\alpha \\lesssim 13.4$, or $k \\lesssim 1.34 \\Delta x^{-1}$.  The most unstable mode occurs at $\\alpha \\approx 10.4$, or $k \\approx 1.04 \\Delta x^{-1}$."
   ]
  },
  {
   "cell_type": "markdown",
   "metadata": {
    "button": false,
    "new_sheet": false,
    "run_control": {
     "read_only": false
    }
   },
   "source": [
    "### Run the simulation:"
   ]
  },
  {
   "cell_type": "code",
   "execution_count": null,
   "metadata": {
    "button": false,
    "new_sheet": false,
    "run_control": {
     "read_only": false
    }
   },
   "outputs": [],
   "source": [
    "dirname = 'wcb'\n",
    "osiris.run_upic_es(rundir=dirname,inputfile='wcb.txt')"
   ]
  },
  {
   "cell_type": "markdown",
   "metadata": {
    "button": false,
    "new_sheet": false,
    "run_control": {
     "read_only": false
    }
   },
   "source": [
    "Run the cell below to look at the x-component of the electric field as a function of time for the various modes in the simulation."
   ]
  },
  {
   "cell_type": "code",
   "execution_count": null,
   "metadata": {
    "button": false,
    "new_sheet": false,
    "run_control": {
     "read_only": false
    }
   },
   "outputs": [],
   "source": [
    "# read the history file, plot it vs time and space\n",
    "\n",
    "workdir = os.getcwd()\n",
    "dirname ='wcb'\n",
    "filename=workdir+'/'+dirname+'/Ex.h5'\n",
    "# print(filename)\n",
    "test4=read_hdf(filename)\n",
    "# here we fourier analyze the data in space\n",
    "#\n",
    "# k_data=np.fft.fft(test.data,axis=1)\n",
    "k_data=np.fft.fft(test4.data,axis=1)\n",
    "# k_data_2=np.fft.fft(k_data,axis=0)\n",
    "\n",
    "test4.data=np.abs(k_data)\n",
    "\n",
    "test4.axes[0].axis_max=2.0*3.1415926\n",
    "\n",
    "\n",
    "# test4.data=np.log10(np.real(test4.data)+1e-10)\n",
    "plt.figure(figsize=(10,10))\n",
    "plotme(test4)\n",
    "k_bound=16.7167\n",
    "k_max=14.994\n",
    "plt.plot([k_bound,k_bound],[0,200],'b--',label='Instability Boundary')\n",
    "plt.plot([k_max,k_max],[0,200],'r--',label='Peak Location')\n",
    "plt.xlim(0,1)\n",
    "plt.ylim(0,190)\n",
    "plt.xlabel('Wavenumber [$1/\\Delta x$]')\n",
    "plt.ylabel('Time [$1/\\omega_p$]')\n",
    "# plt.ylim(0,50)\n",
    "# plt.ylim(tlim[0],tlim[1])\n",
    "plt.legend(loc='lower right',prop={'size': 12})\n",
    "plt.show()"
   ]
  },
  {
   "cell_type": "markdown",
   "metadata": {
    "button": false,
    "new_sheet": false,
    "run_control": {
     "read_only": false
    }
   },
   "source": [
    "Hmm, looks weird.  Why do we only get the 4th mode unstable?"
   ]
  },
  {
   "cell_type": "code",
   "execution_count": null,
   "metadata": {
    "button": false,
    "new_sheet": false,
    "run_control": {
     "read_only": false
    }
   },
   "outputs": [],
   "source": [
    "# This cell we try to compare data with theory:\n",
    "\n",
    "nx=test4.data.shape[1]\n",
    "nt=test4.data.shape[0]\n",
    "# print(repr(nt))\n",
    "dk=2*3.1415926/nx\n",
    "# print('Delta k = '+repr(dk))\n",
    "\n",
    "\n",
    "# To compare with theory, just specify the mode you want to look at here\n",
    "#\n",
    "display_mode = 4\n",
    "bracket = False\n",
    "#\n",
    "#\n",
    "\n",
    "v0=10.0\n",
    "\n",
    "alpha = v0 * dk * (display_mode)\n",
    "# growth_rate = 0.0\n",
    "# if (alpha<np.sqrt(2)): \n",
    "growth_rate=growth_rate_func(alpha)[()]\n",
    "\n",
    "taxis=np.linspace(0,test4.axes[1].axis_max,nt)\n",
    "stream_theory=np.zeros(nt)\n",
    "stream_theory_plus=np.zeros(nt)\n",
    "stream_theory_minus=np.zeros(nt)\n",
    "init_amplitude=1e-7\n",
    "for it in range(0,nt):\n",
    "    stream_theory[it]=init_amplitude*np.exp(growth_rate*taxis[it])\n",
    "    stream_theory_plus[it]=init_amplitude*np.exp(1.15*growth_rate*taxis[it])\n",
    "    stream_theory_minus[it]=init_amplitude*np.exp(0.85*growth_rate*taxis[it])\n",
    "\n",
    "plt.figure(figsize=(12,8))\n",
    "plt.semilogy(taxis,test4.data[:,display_mode],label='PIC simulation, mode ='+repr(display_mode))\n",
    "plt.semilogy(taxis,stream_theory,'r',label='theory, growth rate ='+'%.3f'%growth_rate)\n",
    "\n",
    "if (bracket):\n",
    "    plt.semilogy(taxis,stream_theory_plus,'g.')\n",
    "\n",
    "    plt.semilogy(taxis,stream_theory_minus,'g.')\n",
    "\n",
    "\n",
    "plt.ylim((1e-7,1000))\n",
    "plt.legend()\n",
    "plt.xlabel('Time $[1/\\omega_{pe}]$',**axis_font)\n",
    "plt.ylabel('Time History [a.u.]', **axis_font)\n",
    "  \n",
    "    \n",
    "plt.show()"
   ]
  },
  {
   "cell_type": "markdown",
   "metadata": {
    "button": false,
    "new_sheet": false,
    "run_control": {
     "read_only": false
    }
   },
   "source": [
    "Plot the evolution of the electrostatic potential in real space.\n",
    "\n",
    "* Is there a point in time at which the potential ceases to grow?  Do you expect the field to grow without bounds or is there a physical reason for the growth to stop?"
   ]
  },
  {
   "cell_type": "code",
   "execution_count": null,
   "metadata": {
    "button": false,
    "new_sheet": false,
    "run_control": {
     "read_only": false
    }
   },
   "outputs": [],
   "source": [
    "dirname = 'wcb'\n",
    "\n",
    "osiris.plot_xt_arb(rundir=dirname, field='pot',tlim=[0,250])"
   ]
  },
  {
   "cell_type": "markdown",
   "metadata": {
    "button": false,
    "new_sheet": false,
    "run_control": {
     "read_only": false
    }
   },
   "source": [
    "Finally, here we visualize the evolution of the electron phase space (x,vx).\n",
    "\n",
    "* Examine the evolution of the phase space near the time where the potential stops to grow. What is going on at this time in the simulation?\n",
    "\n",
    "* Think about using the words \"linear\" and \"nonlinear\" to describe these phenomena."
   ]
  },
  {
   "cell_type": "code",
   "execution_count": null,
   "metadata": {
    "button": false,
    "new_sheet": false,
    "run_control": {
     "read_only": false
    }
   },
   "outputs": [],
   "source": [
    "dirname='wcb'\n",
    "\n",
    "osiris.phaseinteract_upic(rundir=dirname)"
   ]
  },
  {
   "cell_type": "code",
   "execution_count": null,
   "metadata": {
    "button": false,
    "new_sheet": false,
    "run_control": {
     "read_only": false
    }
   },
   "outputs": [],
   "source": [
    "dirname='buneman'\n",
    "import os\n",
    "import re\n",
    "print(os.getcwd())\n",
    "path=os.getcwd()+'\\\\'+dirname+'/DIAG/Vx_x/'\n",
    "# print(path)\n",
    "files=sorted(os.listdir(path))\n",
    "# print(len(files))\n",
    "# print(files)\n",
    "m = re.search('x_(.+?).', files[1])\n",
    "start=files[1].find('_x_')+3\n",
    "end=files[1].find('.')\n",
    "print(files[1][start:end])\n",
    "file_interval=int(files[1][start:end])\n",
    "print(file_interval)\n"
   ]
  },
  {
   "cell_type": "code",
   "execution_count": null,
   "metadata": {},
   "outputs": [],
   "source": [
    "import sys\n",
    "\n",
    "#sys.path.append('/Users/Frank Tsung/Documents/Github/pyVisOS/')\n",
    "import osh5io\n",
    "import osh5def\n",
    "import osh5vis\n",
    "\n",
    "import osh5utils"
   ]
  },
  {
   "cell_type": "code",
   "execution_count": null,
   "metadata": {},
   "outputs": [],
   "source": [
    "import sys\n",
    "import numpy as np\n",
    "\n",
    "#sys.path.append('/Users/Frank Tsung/Documents/Github/pyVisOS/')\n",
    "import osh5io\n",
    "import osh5def\n",
    "import osh5vis\n",
    "\n",
    "import osh5utils\n",
    "\n",
    "import matplotlib.pyplot as plt\n",
    "import matplotlib.colors as colors\n",
    "\n",
    "from ipywidgets import interact, interactive, fixed, interact_manual\n",
    "import ipywidgets as widgets\n",
    "\n",
    "\n",
    "\n",
    "SMALL_SIZE = 20\n",
    "MEDIUM_SIZE = 24\n",
    "BIGGER_SIZE = 28\n",
    "\n",
    "plt.rc('font',size=SMALL_SIZE)\n",
    "plt.rc('axes',titlesize=SMALL_SIZE)\n",
    "plt.rc('axes',labelsize=MEDIUM_SIZE)\n",
    "plt.rc('xtick',labelsize=SMALL_SIZE)\n",
    "plt.rc('ytick',labelsize=SMALL_SIZE)\n",
    "plt.rc('legend',fontsize=SMALL_SIZE)\n",
    "plt.rc('figure',titlesize=BIGGER_SIZE)\n",
    "\n",
    "\n",
    "\n",
    "def phasespace_movie(rundir):\n",
    "#2345\n",
    "    import os\n",
    "    \n",
    "    \n",
    "    def something(rundir,file_no):\n",
    "        \n",
    "        my_path=os.getcwd()\n",
    "        #print(my_path)\n",
    "        working_dir=my_path+'/'+rundir\n",
    "        #print(working_dir)\n",
    "        efield_dir=working_dir+'/DIAG/Ex/'\n",
    "        phase_space_dir=working_dir+'\\\\DIAG\\\\Vx_x\\\\'\n",
    "        ex_prefix='Ex-0_'\n",
    "        phase_prefix='vx_x_'\n",
    "        plt.figure(figsize=(12,6))\n",
    "        \n",
    "        filename1=phase_space_dir+phase_prefix+repr(file_no).zfill(6)+'.h5'\n",
    "        filename2=efield_dir+ex_prefix+repr(file_no).zfill(6)+'.h5'\n",
    "        \n",
    "        #print(filename1)\n",
    "        #print(filename2)\n",
    "        \n",
    "        phase_space=np.abs(osh5io.read_h5(filename1))\n",
    "        # print(repr(phase_space))\n",
    "        ex=osh5io.read_h5(filename2)\n",
    "        \n",
    "        phase_plot=plt.subplot(121)\n",
    "        #print(repr(phase_space.axes[0].min))\n",
    "        #print(repr(phase_space.axes[1].min))\n",
    "        title=phase_space.data_attrs['LONG_NAME']\n",
    "        time=phase_space.run_attrs['TIME'][0]\n",
    "        ext_stuff=[phase_space.axes[1].min,phase_space.axes[1].max,phase_space.axes[0].min,phase_space.axes[0].max]\n",
    "        phase_contour=plt.contourf(phase_space,levels=[0.1,1,2,3,5,10,100,1000,100000],extent=ext_stuff,cmap='Spectral',vmin=1e-1,vmax=100000,\n",
    "                    norm=colors.LogNorm(vmin=0.1,vmax=100000))\n",
    "        phase_plot.set_title('Phase Space' +' , t='+repr(time)+' $\\omega_{pe}^{-1}$')\n",
    "        phase_plot.set_xlabel('Position [$\\Delta x$]')\n",
    "        phase_plot.set_ylabel('Velocity [$\\omega_{pe} \\Delta x$]')\n",
    "        #plt.colorbar()\n",
    "        #osh5vis.oscontour(phase_space,levels=[10**-5,10**-3,10**-1,1,10,100],colors='black',linestyles='dashed',vmin=1e-5,vmax=1000)\n",
    "        plt.contour(phase_space,levels=[0.1,1,2,3,5,10,100,1000,100000],extent=ext_stuff,colors='black',linestyles='dashed')\n",
    "        plt.colorbar(phase_contour)\n",
    "        ex_plot = plt.subplot(122)\n",
    "        \n",
    "        plt.plot(ex[0,:])\n",
    "        plt.ylim([-2,2])\n",
    "        ex_plot.set_xlabel('Position [$\\Delta x$]')\n",
    "        ex_plot.set_ylabel('Electric Field')\n",
    "        plt.tight_layout()\n",
    "        plt.show()\n",
    "#2345        \n",
    "    my_path=os.getcwd()\n",
    "    working_dir=my_path+'/'+rundir    \n",
    "    phase_space_dir=working_dir+'/DIAG/Vx_x/'\n",
    "    files=sorted(os.listdir(phase_space_dir))\n",
    "    start=files[1].find('_x_')+3\n",
    "    end=files[1].find('.')\n",
    "    print(files[1][start:end])\n",
    "    file_interval=int(files[1][start:end])\n",
    "    file_max=(len(files)-1)*file_interval\n",
    "    \n",
    "    interact(something,rundir=fixed(rundir),file_no=widgets.IntSlider(min=0,max=file_max,step=file_interval,value=0))\n",
    "    #something(rundir=rundirname,file_no=20)\n",
    "\n",
    "        \n",
    "\n",
    "             \n",
    "# phasespace_movie('buneman')     \n",
    "# plt.tight_layout()\n",
    "# plt.show()\n",
    "        \n",
    "    "
   ]
  },
  {
   "cell_type": "code",
   "execution_count": null,
   "metadata": {},
   "outputs": [],
   "source": [
    "osiris.phasespace_movie('buneman')"
   ]
  },
  {
   "cell_type": "code",
   "execution_count": null,
   "metadata": {},
   "outputs": [],
   "source": []
  }
 ],
 "metadata": {
  "kernelspec": {
   "display_name": "Python 3",
   "language": "python",
   "name": "python3"
  },
  "language_info": {
   "codemirror_mode": {
    "name": "ipython",
    "version": 3
   },
   "file_extension": ".py",
   "mimetype": "text/x-python",
   "name": "python",
   "nbconvert_exporter": "python",
   "pygments_lexer": "ipython3",
   "version": "3.6.3"
  }
 },
 "nbformat": 4,
 "nbformat_minor": 2
}
