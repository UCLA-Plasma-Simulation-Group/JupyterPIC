{
 "cells": [
  {
   "cell_type": "markdown",
   "metadata": {},
   "source": [
    "# RPA Demonstration\n",
    "## (Rev: 05/28/2019)\n",
    "\n",
    "RPA Demo\n",
    "\n",
    "This is a notebook designed to look at a paper that contained some 1D simulations.  The main reference of this work is the RPA paper by Yan et al, the full reference is:\n",
    "\n",
    "Yan et al, Phys. Rev. Lett., ${\\bf 100}$, 135003 (2008)."
   ]
  },
  {
   "cell_type": "markdown",
   "metadata": {},
   "source": []
  },
  {
   "cell_type": "markdown",
   "metadata": {},
   "source": [
    "The goal of this paper is to demonstrate high intensity laser interaction using simple 1D simulations.  One recent paper which contained 1D simulations is the work by Yan et al which demonstrates the possibility of generating ions with small energy spread using circularly polarized laser.\n",
    "\n",
    "In this case we will perform some 1D simulations using laser with normalized vector potential > 1 with different polarizations (both linear and circular) on a overdense plasma slab with very low thickness, and look at the evolution of the energetic ions under the influence of these lasers."
   ]
  },
  {
   "cell_type": "markdown",
   "metadata": {},
   "source": [
    "OSIRIS simulations are done in normalized units. \n",
    "\n",
    "* Time:  $t' = t \\omega_{p}$\n",
    "\n",
    "* Frequency: $\\omega' = \\frac{\\omega}{\\omega_{p}}$ \n",
    "\n",
    "* Position: $\\vec{x}' = \\frac{\\omega_{p}}{c} \\vec{x}$  \n",
    "\n",
    "* Momenta: $\\vec{u}' = \\frac{\\vec{p}}{m_{e} c} = \\frac{\\vec{\\gamma v}}{c} = \\frac{\\vec{u}} {c}$  \n",
    "\n",
    "* Electric field: $\\vec{E}' = e \\frac{c / \\omega_{p}}{m_{e} c^2} \\vec{E}$  \n",
    "\n",
    "* Magnetic field: $\\vec{B}' = e \\frac{c / \\omega_{p}}{m_{e} c^2} \\vec{B}$  \n"
   ]
  },
  {
   "cell_type": "code",
   "execution_count": 1,
   "metadata": {},
   "outputs": [],
   "source": [
    "# **********************************\n",
    "# First Run This Cell to \n",
    "# import the necessary libraries\n",
    "# **********************************\n",
    "#\n",
    "# Please run this cell before running anything, and run this cell again if you have restarted the \n",
    "# python kernel.\n",
    "#\n",
    "# This cell imports useful routines to diagnose the simulations here\n",
    "#\n",
    "\n",
    "%matplotlib inline\n",
    "import osiris\n",
    "from osiris import tajima\n",
    "from rpa_helper import *\n",
    "import numpy as np\n",
    "import matplotlib.pyplot as plt\n",
    "from osh5vis import osplot\n",
    "from osh5io import *\n",
    "from osh5utils import fft\n",
    "from ipywidgets import interact_manual,Layout,interact, FloatSlider\n",
    "import ipywidgets as widgets\n",
    "interact_calc=interact_manual.options(manual_name=\"Make New Input and Run\")"
   ]
  },
  {
   "cell_type": "markdown",
   "metadata": {},
   "source": [
    "## Here we illustrate and explore the OSIRIS pulse shape"
   ]
  },
  {
   "cell_type": "code",
   "execution_count": 12,
   "metadata": {},
   "outputs": [
    {
     "data": {
      "application/vnd.jupyter.widget-view+json": {
       "model_id": "e8ad50eda5ad4a889b8f1b3c22106300",
       "version_major": 2,
       "version_minor": 0
      },
      "text/plain": [
       "interactive(children=(FloatSlider(value=1.57, description='$t_{rise}$', max=5.0, step=0.05), FloatSlider(value…"
      ]
     },
     "metadata": {},
     "output_type": "display_data"
    }
   ],
   "source": [
    "# This cell shows the laser envelope shape for given t_rise, t_fall, and Lt.  \n",
    "#\n",
    "interact(laser_envelope, trise=FloatSlider(min=0.00, max=5, step=.05, description='$t_{rise}$', value = 1.57),\n",
    "         tflat=FloatSlider(min=0.00, max=5, step=.05, description='$Lt$', value = 0),\n",
    "         tfall=FloatSlider(min=0.00, max=5, step=.05, description='$t_{fall}$', value = 1.57));"
   ]
  },
  {
   "cell_type": "markdown",
   "metadata": {},
   "source": [
    "### Below is a simulation using a circularly polarized light, like those in the paper."
   ]
  },
  {
   "cell_type": "code",
   "execution_count": 14,
   "metadata": {
    "scrolled": false
   },
   "outputs": [
    {
     "name": "stdout",
     "output_type": "stream",
     "text": [
      "runosiris completed normally\n"
     ]
    }
   ],
   "source": [
    "## Hit <shift>+<return> to run case A\n",
    "\n",
    "dirname = 'yan-circ'\n",
    "osiris.runosiris(rundir=dirname,inputfile='yan-circ.txt')\n",
    "# plot_maxgamma_t(dirname)"
   ]
  },
  {
   "cell_type": "markdown",
   "metadata": {},
   "source": [
    "Run the next cell to look at the results of the simulation. Click along the slider to see later timesteps. "
   ]
  },
  {
   "cell_type": "code",
   "execution_count": 4,
   "metadata": {},
   "outputs": [
    {
     "data": {
      "application/vnd.jupyter.widget-view+json": {
       "model_id": "97d611130b6f45ad8f6a38f5dbcfde33",
       "version_major": 2,
       "version_minor": 0
      },
      "text/plain": [
       "interactive(children=(IntSlider(value=0, description='file_no', max=945, step=5), Output()), _dom_classes=('wi…"
      ]
     },
     "metadata": {},
     "output_type": "display_data"
    }
   ],
   "source": [
    "## Hit <shift>+<return> to visualize case A\n",
    "\n",
    "dirname = './yan-circ'\n",
    "rpa_movie(rundir=dirname)"
   ]
  },
  {
   "cell_type": "code",
   "execution_count": 23,
   "metadata": {},
   "outputs": [],
   "source": [
    "# \n",
    "# STEP 2:  Construct something slightly more sophiscated\n",
    "#\n",
    "\n",
    "import analysis\n",
    "import scipy\n",
    "\n",
    "from osh5vis import osplot\n",
    "from osh5io import read_h5\n",
    "from osh5utils import fft\n",
    "import osh5utils\n",
    "import osh5io\n",
    "import osh5def\n",
    "\n",
    "#\n",
    "#\n",
    "# Here are some basic functions to generate filenames for Grid, Phase Space, and Particle data, respectively\n",
    "#\n",
    "#\n",
    "\n",
    "def file_name_field(path,field,file_no):\n",
    "    filename=path+'/FLD/'+field+'/'+field+'-'+repr(file_no).zfill(6)+'.h5'\n",
    "    # print(filename)\n",
    "    return(filename)\n",
    "    \n",
    " \n",
    "def file_name_phase(path,field,species,file_no):\n",
    "    filename=path+'/PHA/'+field+'/'+species+'/'+field+'-'+species+'-'+repr(file_no).zfill(6)+'.h5'\n",
    "    # print(filename)\n",
    "    return(filename)\n",
    "\n",
    "def file_name_density(path,field,species,file_no):\n",
    "    filename=path+'/DENSITY/'+species+'/'+field+'/'+field+'-'+species+'-'+repr(file_no).zfill(6)+'.h5'\n",
    "    # print(filename)\n",
    "    return(filename)\n",
    "\n",
    "\n",
    "\n",
    "\n",
    "def laser_basic(rundir,file_no,show=False,*args,**kwpassthrough):\n",
    "    #\n",
    "    #\n",
    "        plasma_field_name = 'e1'\n",
    "        laser_field_name = 'e3'\n",
    "    #\n",
    "    #\n",
    "\n",
    "        \n",
    "        e1=file_name_field(rundir,'e1',file_no)\n",
    "        e2=file_name_field(rundir,'e2',file_no)\n",
    "      \n",
    "        # b1_data=osh5io.read_h5(b1)\n",
    "        # b2_data=osh5io.read_h5(b2)\n",
    "        # b3_data=osh5io.read_h5(b3)\n",
    "        \n",
    "        e1_data=osh5io.read_h5(e1)\n",
    "        e2_data=osh5io.read_h5(e2)\n",
    "        \n",
    "        \n",
    "        # bsq=b1\n",
    "        # bsq=(b1_data*b1_data+b2_data*b2_data+b3_data*b3_data)\n",
    "\n",
    "\n",
    "        # electron_rho = osh5io.read_h5(electron_density)\n",
    "        \n",
    "        # ion_p1x1 = osh5io.read_h5(ion_phase)\n",
    "        # ion_p1p2 = osh5io.read_h5(ion_dist)\n",
    "        # ion_phase_perp = osh5io.read_h5(ion_p2x1)\n",
    "        \n",
    "        # rho_i = osh5io.read_h5(ion_density)\n",
    "        # rho_i_0 = osh5io.read_h5(ion_density_init)\n",
    "   \n",
    "        \n",
    "      \n",
    "\n",
    "        fig = plt.figure(figsize=(8,4) )\n",
    "    \n",
    "        # electron_phase_plot = plt.subplot(223)\n",
    "        # electron_p1x1=np.abs(electron_p1x1)\n",
    "        # data_max=electron_p1x1.max()\n",
    "        # osh5vis.osplot(electron_p1x1, title='Electron Phase Space (x1,p1)', *args,**kwpassthrough,\n",
    "        #                norm=matplotlib.colors.LogNorm(vmax=data_max,vmin=data_max/10000))\n",
    "        # electron_rho=np.abs(electron_rho)\n",
    "        \n",
    "        # osh5vis.osplot(np.abs(electron_rho),title='Electron Density (x1,x2)',ylim=[10.9,20.9],cmap='terrain')\n",
    "        # plt.axhline(y=15.901939,color='r')\n",
    "        # osh5vis.osplot(np.abs(electron_rho[0,:]),title='Electron Density (x1,x2)',*args,**kwpassthrough,ylim=[-1,0.2])\n",
    "\n",
    "     \n",
    "        \n",
    "        \n",
    "        \n",
    "        plt.title('Time = '+str(e1_data.run_attrs['TIME'][0])  )\n",
    "        plt.subplot(121)\n",
    "        plt.plot(e2_data.axes[0],e2_data)    \n",
    "            \n",
    "\n",
    "        plt.subplot(122)\n",
    "        # print(e1_data)\n",
    "        plt.plot(e1_data.axes[0],e1_data)\n",
    "        if(show == True):\n",
    "            plt.tight_layout()\n",
    "            plt.show()\n",
    "        else:\n",
    "            print('saving file')\n",
    "            fig.savefig(rundir+'/movie-1-'+repr(file_no).zfill(6)+'.png')\n",
    "            plt.close(fig)\n",
    "#\n",
    "\n",
    "\n",
    "def laser_basic_2(rundir,file_no,show=False,*args,**kwpassthrough):\n",
    "    #\n",
    "    #\n",
    "        plasma_field_name = 'e1'\n",
    "        laser_field_name = 'e3'\n",
    "    #\n",
    "    #\n",
    "        species_1_name = 'electrons'\n",
    "\n",
    "\n",
    "        electron_phase = file_name_phase(rundir,'p1x1',species_1_name,file_no)\n",
    "        electron_dist = file_name_phase(rundir,'p1p2',species_1_name,file_no)\n",
    "        \n",
    "        \n",
    "        # ion_phase = file_name_phase(rundir,'p1x1',species_2_name,file_no)\n",
    "        # ion_dist = file_name_phase(rundir,'p1p2',species_2_name,file_no)\n",
    "        # ion_p2x1 = file_name_phase(rundir,'p2x1',species_2_name,file_no)\n",
    "        \n",
    "        \n",
    "        # ion_density = file_name_density(rundir,'charge',species_2_name,file_no)\n",
    "        electron_density = file_name_density(rundir,'charge',species_1_name,file_no)\n",
    "        # ion_density_init = file_name_density(rundir,'charge',species_2_name,0)\n",
    "        \n",
    "        \n",
    "        # b1=file_name_field(rundir,'b1',file_no)\n",
    "        # b2=file_name_field(rundir,'b2',file_no)\n",
    "        # b3=file_name_field(rundir,'b3',file_no)\n",
    "        \n",
    "        e1=file_name_field(rundir,'e1',file_no)\n",
    "        e2=file_name_field(rundir,'e2',file_no)\n",
    "        e3=file_name_field(rundir,'e3',file_no)\n",
    "        \n",
    "        # b1_data=osh5io.read_h5(b1)\n",
    "        # b2_data=osh5io.read_h5(b2)\n",
    "        # b3_data=osh5io.read_h5(b3)\n",
    "        \n",
    "        e1_data=osh5io.read_h5(e1)\n",
    "        e2_data=osh5io.read_h5(e2)\n",
    "        e3_data=osh5io.read_h5(e3)\n",
    "        \n",
    "        ele_phase = osh5io.read_h5(electron_phase)\n",
    "        \n",
    "        \n",
    "        # bsq=b1\n",
    "        # bsq=(b1_data*b1_data+b2_data*b2_data+b3_data*b3_data)\n",
    "\n",
    "\n",
    "        # electron_rho = osh5io.read_h5(electron_density)\n",
    "        \n",
    "        # ion_p1x1 = osh5io.read_h5(ion_phase)\n",
    "        # ion_p1p2 = osh5io.read_h5(ion_dist)\n",
    "        # ion_phase_perp = osh5io.read_h5(ion_p2x1)\n",
    "        \n",
    "        # rho_i = osh5io.read_h5(ion_density)\n",
    "        # rho_i_0 = osh5io.read_h5(ion_density_init)\n",
    "   \n",
    "        \n",
    "      \n",
    "\n",
    "        fig = plt.figure(figsize=(8,8) )\n",
    "    \n",
    "        # electron_phase_plot = plt.subplot(223)\n",
    "        # electron_p1x1=np.abs(electron_p1x1)\n",
    "        # data_max=electron_p1x1.max()\n",
    "        # osh5vis.osplot(electron_p1x1, title='Electron Phase Space (x1,p1)', *args,**kwpassthrough,\n",
    "        #                norm=matplotlib.colors.LogNorm(vmax=data_max,vmin=data_max/10000))\n",
    "        # electron_rho=np.abs(electron_rho)\n",
    "        \n",
    "        # osh5vis.osplot(np.abs(electron_rho),title='Electron Density (x1,x2)',ylim=[10.9,20.9],cmap='terrain')\n",
    "        # plt.axhline(y=15.901939,color='r')\n",
    "        # osh5vis.osplot(np.abs(electron_rho[0,:]),title='Electron Density (x1,x2)',*args,**kwpassthrough,ylim=[-1,0.2])\n",
    "\n",
    "     \n",
    "        plt.subplot(221)\n",
    "        plt.title('Laser (Raw), Time = '+str(e1_data.run_attrs['TIME'][0])  )\n",
    "        # e2_data = np.abs(osh5utils.hilbert(e2_data))\n",
    "        plt.plot(e2_data.axes[0],e2_data.data)\n",
    "        \n",
    "        plt.subplot(223)\n",
    "        plt.title('Laser FFT, Time = '+str(e1_data.run_attrs['TIME'][0])  )\n",
    "        e2_data = np.abs(osh5utils.fft(e2_data))\n",
    "        # e2_data = np.abs(osh5utils.hilbert(e2_data))\n",
    "        plt.plot(e2_data.axes[0],e2_data.data) \n",
    "        plt.xlim(0,20)\n",
    "            \n",
    "\n",
    "        plt.subplot(222)\n",
    "        # print(e1_data)\n",
    "        plt.title('Wake, Time = '+str(e1_data.run_attrs['TIME'][0])  )\n",
    "        plt.plot(e1_data.axes[0],e1_data)\n",
    "        \n",
    "        plt.subplot(224)\n",
    "        osh5vis.osplot(ele_phase)\n",
    "\n",
    "       \n",
    "        if(show == True):\n",
    "            plt.tight_layout()\n",
    "            plt.show()\n",
    "        else:\n",
    "            print('saving file')\n",
    "            fig.savefig(rundir+'/movie-2-'+repr(file_no).zfill(6)+'.png')\n",
    "            plt.close(fig)\n",
    "#\n",
    "\n",
    "\n",
    "\n",
    "\n",
    "def rpa_basic_3(rundir,file_no,show=False,*args,**kwpassthrough):\n",
    "    #\n",
    "    #\n",
    "        plasma_field_name = 'e1'\n",
    "        laser_field_name = 'e2'\n",
    "    #\n",
    "    #\n",
    "        species_1_name = 'electrons'\n",
    "        species_2_name = 'ions'\n",
    "\n",
    "        electron_phase = file_name_phase(rundir,'p1x1',species_1_name,file_no)\n",
    "        electron_dist = file_name_phase(rundir,'p1p2',species_1_name,file_no)\n",
    "        \n",
    "        \n",
    "        ion_phase = file_name_phase(rundir,'p1x1',species_2_name,file_no)\n",
    "        # ion_dist = file_name_phase(rundir,'p1p2',species_2_name,file_no)\n",
    "        # ion_p2x1 = file_name_phase(rundir,'p2x1',species_2_name,file_no)\n",
    "        \n",
    "        \n",
    "        ion_density = file_name_density(rundir,'charge',species_2_name,file_no)\n",
    "        electron_density = file_name_density(rundir,'charge',species_1_name,file_no)\n",
    "        # ion_density_init = file_name_density(rundir,'charge',species_2_name,0)\n",
    "        \n",
    "        \n",
    "        # b1=file_name_field(rundir,'b1',file_no)\n",
    "        # b2=file_name_field(rundir,'b2',file_no)\n",
    "        # b3=file_name_field(rundir,'b3',file_no)\n",
    "        \n",
    "        e1=file_name_field(rundir,'e1',file_no)\n",
    "        e2=file_name_field(rundir,'e2',file_no)\n",
    "        e3=file_name_field(rundir,'e3',file_no)\n",
    "        \n",
    "        # b1_data=osh5io.read_h5(b1)\n",
    "        # b2_data=osh5io.read_h5(b2)\n",
    "        # b3_data=osh5io.read_h5(b3)\n",
    "        \n",
    "        e1_data=osh5io.read_h5(e1)\n",
    "        e2_data=osh5io.read_h5(e2)\n",
    "        e3_data=osh5io.read_h5(e3)\n",
    "        \n",
    "        # ele_phase = osh5io.read_h5(electron_phase)\n",
    "        \n",
    "        ion_phase = osh5io.read_h5(ion_phase)\n",
    "        \n",
    "        \n",
    "        # bsq=b1\n",
    "        # bsq=(b1_data*b1_data+b2_data*b2_data+b3_data*b3_data)\n",
    "\n",
    "\n",
    "        # electron_rho = osh5io.read_h5(electron_density)\n",
    "        \n",
    "        # ion_p1x1 = osh5io.read_h5(ion_phase)\n",
    "        # ion_p1p2 = osh5io.read_h5(ion_dist)\n",
    "        # ion_phase_perp = osh5io.read_h5(ion_p2x1)\n",
    "        \n",
    "        # rho_i = osh5io.read_h5(ion_density)\n",
    "        # rho_i_0 = osh5io.read_h5(ion_density_init)\n",
    "   \n",
    "        \n",
    "      \n",
    "\n",
    "        fig = plt.figure(figsize=(8,8) )\n",
    "    \n",
    "        # electron_phase_plot = plt.subplot(223)\n",
    "        # electron_p1x1=np.abs(electron_p1x1)\n",
    "        # data_max=electron_p1x1.max()\n",
    "        # osh5vis.osplot(electron_p1x1, title='Electron Phase Space (x1,p1)', *args,**kwpassthrough,\n",
    "        #                norm=matplotlib.colors.LogNorm(vmax=data_max,vmin=data_max/10000))\n",
    "        # electron_rho=np.abs(electron_rho)\n",
    "        \n",
    "        # osh5vis.osplot(np.abs(electron_rho),title='Electron Density (x1,x2)',ylim=[10.9,20.9],cmap='terrain')\n",
    "        # plt.axhline(y=15.901939,color='r')\n",
    "        # osh5vis.osplot(np.abs(electron_rho[0,:]),title='Electron Density (x1,x2)',*args,**kwpassthrough,ylim=[-1,0.2])\n",
    "\n",
    "     \n",
    "        plt.subplot(221)\n",
    "        plt.title('Laser (Raw), Time = '+str(e1_data.run_attrs['TIME'][0])  )\n",
    "        # e2_data = np.abs(osh5utils.hilbert(e2_data))\n",
    "        plt.plot(e2_data.axes[0],e2_data.data)\n",
    "        \n",
    "        plt.subplot(223)\n",
    "        # plt.title('Laser Envelope, Time = '+str(e1_data.run_attrs['TIME'][0])  )\n",
    "        # e2_data = np.abs(osh5utils.fft(e2_data))\n",
    "        # e2_data = np.abs(osh5utils.hilbert(e2_data))\n",
    "        # plt.plot(e2_data.axes[0],e2_data.data) \n",
    "        plt.title('Ion Energy Distribution')\n",
    "        plt.plot(ion_phase.axes[0],np.sum(ion_phase,axis=1))\n",
    "        # plt.xlim(0,20)\n",
    "            \n",
    "\n",
    "        plt.subplot(222)\n",
    "        # print(e1_data)\n",
    "        plt.title('Wake, Time = '+str(e1_data.run_attrs['TIME'][0])  )\n",
    "        plt.plot(e1_data.axes[0],e1_data)\n",
    "        \n",
    "        plt.subplot(224)\n",
    "        osh5vis.osplot(ion_phase)\n",
    "        # plt.plot(np.sum(ion_phase,axis=1),ion_phase.axes[0])\n",
    "\n",
    "       \n",
    "        if(show == True):\n",
    "            plt.tight_layout()\n",
    "            plt.show()\n",
    "        else:\n",
    "            print('saving file')\n",
    "            fig.savefig(rundir+'/movie-3-'+repr(file_no).zfill(6)+'.png')\n",
    "            plt.close(fig)\n",
    "#\n"
   ]
  },
  {
   "cell_type": "markdown",
   "metadata": {},
   "source": [
    "### Below is a simulation using a linearly polarized light.  "
   ]
  },
  {
   "cell_type": "code",
   "execution_count": 26,
   "metadata": {},
   "outputs": [
    {
     "data": {
      "image/png": "[encoded data removed]",
      "text/plain": [
       "<Figure size 576x576 with 5 Axes>"
      ]
     },
     "metadata": {
      "needs_background": "light"
     },
     "output_type": "display_data"
    }
   ],
   "source": [
    "rpa_basic_3(dirname+'/MS/',700,show=True)"
   ]
  },
  {
   "cell_type": "code",
   "execution_count": 2,
   "metadata": {
    "scrolled": false
   },
   "outputs": [
    {
     "name": "stdout",
     "output_type": "stream",
     "text": [
      "runosiris completed normally\n"
     ]
    }
   ],
   "source": [
    "## Hit <shift>+<return> to run case A\n",
    "\n",
    "dirname = 'yan-lin-2'\n",
    "osiris.runosiris(rundir=dirname,inputfile='yan-lin-2.txt')\n",
    "# plot_maxgamma_t(dirname)"
   ]
  },
  {
   "cell_type": "code",
   "execution_count": 3,
   "metadata": {},
   "outputs": [
    {
     "data": {
      "application/vnd.jupyter.widget-view+json": {
       "model_id": "37348da53ff641909e181b39df90f967",
       "version_major": 2,
       "version_minor": 0
      },
      "text/plain": [
       "interactive(children=(IntSlider(value=0, description='file_no', max=945, step=5), Output()), _dom_classes=('wi…"
      ]
     },
     "metadata": {},
     "output_type": "display_data"
    }
   ],
   "source": [
    "## Hit <shift>+<return> to visualize case A\n",
    "\n",
    "dirname = './yan-lin-2'\n",
    "rpa_movie(rundir=dirname)"
   ]
  },
  {
   "cell_type": "markdown",
   "metadata": {},
   "source": [
    "## Simulation Sandbox\n",
    "\n",
    "The cell below allows the user to change the simulation parameters in a very limited and controlled setting to explore the RPA problem using OSIRIS.  Below I am showing a widget we developed for a different problem (LWFA, or Tajima/Dawson)."
   ]
  },
  {
   "cell_type": "code",
   "execution_count": 2,
   "metadata": {},
   "outputs": [
    {
     "data": {
      "application/vnd.jupyter.widget-view+json": {
       "model_id": "be012365e30d4770b8763dab9e204072",
       "version_major": 2,
       "version_minor": 0
      },
      "text/plain": [
       "interactive(children=(Text(value='yan-circ.txt', description='Template Input File:', layout=Layout(width='55%'…"
      ]
     },
     "metadata": {},
     "output_type": "display_data"
    }
   ],
   "source": [
    "## Hit <shift>+<return> to start the widget, which contains a interface to change OSIRIS parameters\n",
    "\n",
    "rpa_widget()"
   ]
  },
  {
   "cell_type": "code",
   "execution_count": 3,
   "metadata": {},
   "outputs": [
    {
     "data": {
      "application/vnd.jupyter.widget-view+json": {
       "model_id": "647b22c6aa9c4c93aed89857dd874d7d",
       "version_major": 2,
       "version_minor": 0
      },
      "text/plain": [
       "interactive(children=(IntSlider(value=0, description='file_no', max=945, step=5), Output()), _dom_classes=('wi…"
      ]
     },
     "metadata": {},
     "output_type": "display_data"
    }
   ],
   "source": [
    "dirname = './case1'\n",
    "rpa_movie(rundir=dirname)"
   ]
  },
  {
   "cell_type": "code",
   "execution_count": null,
   "metadata": {},
   "outputs": [],
   "source": []
  }
 ],
 "metadata": {
  "kernelspec": {
   "display_name": "Python 3",
   "language": "python",
   "name": "python3"
  },
  "language_info": {
   "codemirror_mode": {
    "name": "ipython",
    "version": 3
   },
   "file_extension": ".py",
   "mimetype": "text/x-python",
   "name": "python",
   "nbconvert_exporter": "python",
   "pygments_lexer": "ipython3",
   "version": "3.7.6"
  }
 },
 "nbformat": 4,
 "nbformat_minor": 2
}
