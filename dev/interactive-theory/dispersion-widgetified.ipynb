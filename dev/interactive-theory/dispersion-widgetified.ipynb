{
 "cells": [
  {
   "cell_type": "code",
   "execution_count": 1,
   "metadata": {},
   "outputs": [],
   "source": [
    "from scipy.optimize import fsolve \n",
    "import numpy as np\n",
    "import matplotlib.pyplot as plt\n",
    "from ipywidgets import *\n",
    "%matplotlib inline"
   ]
  },
  {
   "cell_type": "markdown",
   "metadata": {},
   "source": [
    "# Light wave dispersion relation"
   ]
  },
  {
   "cell_type": "code",
   "execution_count": 2,
   "metadata": {},
   "outputs": [
    {
     "data": {
      "application/vnd.jupyter.widget-view+json": {
       "model_id": "1d77f4d80e664c78ac804cb017b92450",
       "version_major": 2,
       "version_minor": 0
      },
      "text/plain": [
       "interactive(children=(FloatSlider(value=1.0, description='wp', max=2.0), FloatSlider(value=0.25, description='…"
      ]
     },
     "metadata": {},
     "output_type": "display_data"
    }
   ],
   "source": [
    "def epwdisp(wp,vth):\n",
    "    #\n",
    "    # Plotting w(k) = sqrt[w_p^2 + 3 * v_the^2 * k^2]\n",
    "    #\n",
    "    x = np.linspace(-25,25,100)\n",
    "    y = np.sqrt(wp**2 + 3 * vth**2 * x**2)\n",
    "    plt.plot(x,y)\n",
    "    plt.xlabel('k [$c/\\omega_p$]'); plt.ylabel('$\\omega$ (in units of $\\omega_p$)'); plt.xlim(-25,25); plt.ylim(0,4)\n",
    "    plt.grid(b=True, which='major', axis='both')\n",
    "    plt.show()\n",
    "    \n",
    "interact(epwdisp,wp=(0.0,2.0),vth=(0.0,0.5,0.01),continuous_update=False);"
   ]
  },
  {
   "cell_type": "markdown",
   "metadata": {},
   "source": [
    "# Light wave dispersion relation"
   ]
  },
  {
   "cell_type": "code",
   "execution_count": 3,
   "metadata": {},
   "outputs": [
    {
     "data": {
      "application/vnd.jupyter.widget-view+json": {
       "model_id": "3a6142cfb4e4483c93c9b236f2fce856",
       "version_major": 2,
       "version_minor": 0
      },
      "text/plain": [
       "interactive(children=(FloatSlider(value=1.0, description='wp', max=2.0), Output()), _dom_classes=('widget-inte…"
      ]
     },
     "metadata": {},
     "output_type": "display_data"
    }
   ],
   "source": [
    "def emdisp(wp):\n",
    "    N = 5\n",
    "    k = np.linspace(-N,N,N*20)\n",
    "    #w_p = 1\n",
    "    c = 1\n",
    "    w = np.sqrt(wp**2 + c**2 * k**2)\n",
    "    cline = k\n",
    "    plt.plot(k,w, label='$\\omega$(k)')\n",
    "    plt.plot(k,cline, label='slope = c')\n",
    "    plt.xlabel('k [$c/\\omega_p$]')\n",
    "    plt.ylabel('$\\omega$ (in units of $\\omega_p$)')\n",
    "    plt.xlim(-N,N)\n",
    "    plt.ylim(0,N+1)\n",
    "    plt.grid(b=True, which='major', axis='both')\n",
    "    plt.legend(loc=0)\n",
    "    plt.show()\n",
    "    \n",
    "interact(emdisp,wp=(0.0,2.0),continuous_update=False);"
   ]
  },
  {
   "cell_type": "markdown",
   "metadata": {},
   "source": [
    "# R and L mode dispersion relations"
   ]
  },
  {
   "cell_type": "code",
   "execution_count": 3,
   "metadata": {},
   "outputs": [],
   "source": [
    "#\n",
    "# SETUP\n",
    "#\n",
    "\n",
    "# \"k\" here means \"ck\"\n",
    "karray=np.arange(0,10,0.05)\n",
    "nk=karray.shape[0]\n",
    "\n",
    "def rwave_disp(w,omegap,omegac,ck):\n",
    "    ratio=omegac/omegap\n",
    "    y=(ck*ck)/(omegap*omegap) - (w*w)/(omegap*omegap) + 1/(1-omegac/w)\n",
    "    return y\n",
    "\n",
    "def lwave_disp(w,omegap,omegac,ck):\n",
    "    ratio=omegac/omegap\n",
    "    y=(ck*ck)/(omegap*omegap) - (w*w)/(omegap*omegap) + 1/(1+omegac/w)\n",
    "    return y\n",
    "\n",
    "warrayL=np.zeros(karray.shape[0]); warrayR1=np.zeros(karray.shape[0]); warrayR2=np.zeros(karray.shape[0]);\n",
    "wLarray=np.zeros(karray.shape[0]); wR1array=np.zeros(karray.shape[0]); wR2array=np.zeros(karray.shape[0]); "
   ]
  },
  {
   "cell_type": "code",
   "execution_count": 4,
   "metadata": {},
   "outputs": [
    {
     "data": {
      "application/vnd.jupyter.widget-view+json": {
       "model_id": "d1688e4b0f3b4151a0b3ec45e6c6dbc8",
       "version_major": 2,
       "version_minor": 0
      },
      "text/plain": [
       "interactive(children=(FloatSlider(value=1.0, description='wp', max=2.0), FloatSlider(value=0.5, description='w…"
      ]
     },
     "metadata": {},
     "output_type": "display_data"
    }
   ],
   "source": [
    "def rldisp(wp,wc):\n",
    "    #############\n",
    "    # here we specify the plasma conditions \n",
    "    #wp=1\n",
    "    #wc=0.5\n",
    "    #############\n",
    "\n",
    "    wR=0.5*(wc+np.sqrt(4*wp*wp+wc*wc))\n",
    "    wL=0.5*(np.sqrt(4*wp*wp+wc*wc)-wc)\n",
    "\n",
    "    wLarray[:]=wL\n",
    "    wR1array[:]=0.01\n",
    "    wR2array[:]=wR\n",
    "    #wHarray[:]=np.sqrt(wp*wp+wc*wc)\n",
    "\n",
    "    warrayL[0]=wL\n",
    "    warrayR1[0]=0.01\n",
    "    warrayR2[0]=wR\n",
    "    for ik in range(1,nk):\n",
    "        warrayR2[ik]=fsolve(rwave_disp,warrayR2[ik-1],args=(wp,wc,karray[ik]))\n",
    "        warrayR1[ik]=fsolve(rwave_disp,warrayR1[ik-1],args=(wp,wc,karray[ik]))\n",
    "        warrayL[ik]=fsolve(lwave_disp,warrayL[ik-1],args=(wp,wc,karray[ik]))\n",
    "\n",
    "    plt.plot(karray,warrayR1,'r',label='R-wave dispersion')\n",
    "    plt.plot(karray,warrayR2,'r')\n",
    "    plt.plot(karray,warrayL,'b',label='L-wave dispersion')\n",
    "    plt.plot(karray,wR2array,'r--',label='$\\omega_R$')\n",
    "    plt.plot(karray,wLarray,'b--',label='$\\omega_L$')\n",
    "    plt.plot(karray, karray,'g--',label='$\\omega/k=c$')\n",
    "    plt.xlabel('wave number $[ck/\\omega_{pe}]$')\n",
    "    plt.ylabel('frequency $[\\omega_{pe}]$')\n",
    "    plt.title('R wave dispersion relation')\n",
    "    plt.legend()\n",
    "    plt.xlim([karray[0],karray[nk-1]])\n",
    "    plt.ylim([0,5])#karray[nk-1]+1.0])\n",
    "    plt.grid(b=True, which='major', axis='both')\n",
    "    plt.legend(loc=0, fontsize=8)\n",
    "    plt.show()\n",
    "    \n",
    "interact(rldisp,wp=(0.0,2.0),wc=(0.0,1.0),continuous_update=False);"
   ]
  },
  {
   "cell_type": "markdown",
   "metadata": {},
   "source": [
    "# X and O mode dispersion Relations"
   ]
  },
  {
   "cell_type": "code",
   "execution_count": 6,
   "metadata": {},
   "outputs": [],
   "source": [
    "#\n",
    "# SETUP\n",
    "#\n",
    "\n",
    "# \"k\" here means \"ck\"\n",
    "karray=np.arange(0,5,0.05)\n",
    "nk=karray.shape[0]\n",
    "\n",
    "def xwave_disp(w,omegap,omegac,ck):\n",
    "    ratio=omegac/omegap\n",
    "    y=(ck*ck)/(omegap*omegap)-(w*w)/(omegap*omegap)+(w*w/(omegap*omegap)-1)/(w*w/(omegap*omegap)-(1+ratio*ratio))\n",
    "    return y\n",
    "\n",
    "warrayL=np.zeros(karray.shape[0])\n",
    "warrayR=np.zeros(karray.shape[0])\n",
    "wLarray=np.zeros(karray.shape[0])\n",
    "wRarray=np.zeros(karray.shape[0])\n",
    "wHarray=np.zeros(karray.shape[0])\n"
   ]
  },
  {
   "cell_type": "code",
   "execution_count": 7,
   "metadata": {},
   "outputs": [
    {
     "data": {
      "application/vnd.jupyter.widget-view+json": {
       "model_id": "96432c4475574d37a6c15e8567a031e5",
       "version_major": 2,
       "version_minor": 0
      },
      "text/plain": [
       "interactive(children=(FloatSlider(value=1.0, description='wp', max=2.0), FloatSlider(value=0.5, description='w…"
      ]
     },
     "metadata": {},
     "output_type": "display_data"
    }
   ],
   "source": [
    "def xodisp(wp,wc):\n",
    "    # here we specify the plasma conditions \n",
    "    #\n",
    "    #wp=1\n",
    "    #wc=0.7\n",
    "    #\n",
    "    #\n",
    "\n",
    "    wR=0.5*(wc+np.sqrt(4*wp*wp+wc*wc))\n",
    "    wL=0.5*(np.sqrt(4*wp*wp+wc*wc)-wc)\n",
    "\n",
    "    wLarray[:]=wL\n",
    "    wRarray[:]=wR\n",
    "    wHarray[:]=np.sqrt(wp*wp+wc*wc)\n",
    "\n",
    "    warrayL[0]=wL\n",
    "    warrayR[0]=wR\n",
    "    for ik in range(1,nk):\n",
    "        warrayL[ik]=fsolve(xwave_disp,warrayL[ik-1],args=(wp,wc,karray[ik]))\n",
    "        warrayR[ik]=fsolve(xwave_disp,warrayR[ik-1],args=(wp,wc,karray[ik]))\n",
    "\n",
    "    plt.figure(figsize=(8,4))\n",
    "    \n",
    "    plt.subplot(1, 2, 1)\n",
    "    plt.plot(karray,warrayR,'b',label='$\\omega$ > $\\omega_R$')\n",
    "    plt.plot(karray,warrayL,'r',label=' $\\omega_L$ < $\\omega$ < $\\omega_H$')\n",
    "    plt.plot(karray,wLarray,'--',label='$\\omega_L$')\n",
    "    plt.plot(karray,wRarray,'--',label='$\\omega_R$')\n",
    "    plt.plot(karray,wHarray,'--',label='$\\omega_H$')\n",
    "    plt.plot(karray, karray,'--', color='fuchsia',label='$\\omega/k=c$')\n",
    "    plt.xlabel('wave number $[ck/\\omega_{pe}]$')\n",
    "    plt.ylabel('frequency $[\\omega_{pe}]$')\n",
    "    plt.title('X wave dispersion relation,')\n",
    "    plt.legend()\n",
    "    plt.xlim([0,karray[nk-1]])\n",
    "    plt.ylim([0,6])#karray[nk-1]+1.0])\n",
    "    plt.grid(b=True, which='major', axis='both')\n",
    "    plt.legend(loc=0, fontsize=8)\n",
    "    #plt.show()\n",
    "    \n",
    "    # Plotting w(k)\n",
    "    N = 5\n",
    "    k = np.linspace(0,N,N*20)\n",
    "    c = 1\n",
    "    w = np.sqrt(wp**2 + c**2 * k**2)\n",
    "    cline = k\n",
    "    plt.subplot(1, 2, 2)\n",
    "    plt.plot(k,w, label='$\\omega$(k)')\n",
    "    plt.plot(k,cline, label='slope = c')\n",
    "    plt.xlabel('k [$c/\\omega_p$]')\n",
    "    plt.ylabel('$\\omega$ (in units of $\\omega_p$)')\n",
    "    plt.xlim(0,N)\n",
    "    plt.ylim(0,N+1)\n",
    "    plt.grid(b=True, which='major', axis='both')\n",
    "    plt.legend(loc=0)\n",
    "    \n",
    "    plt.tight_layout()\n",
    "    plt.show()\n",
    "    \n",
    "interact(xodisp,wp=(0.0,2.0),wc=(0.0,1.0),continuous_update=False);"
   ]
  },
  {
   "cell_type": "code",
   "execution_count": null,
   "metadata": {},
   "outputs": [],
   "source": []
  }
 ],
 "metadata": {
  "kernelspec": {
   "display_name": "Python 3",
   "language": "python",
   "name": "python3"
  },
  "language_info": {
   "codemirror_mode": {
    "name": "ipython",
    "version": 3
   },
   "file_extension": ".py",
   "mimetype": "text/x-python",
   "name": "python",
   "nbconvert_exporter": "python",
   "pygments_lexer": "ipython3",
   "version": "3.6.6"
  }
 },
 "nbformat": 4,
 "nbformat_minor": 2
}
