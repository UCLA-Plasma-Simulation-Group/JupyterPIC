{
 "cells": [
  {
   "cell_type": "markdown",
   "metadata": {},
   "source": [
    "# Tajima and Dawson\n",
    "\n",
    "This notebook enables one to reproduce the simulations of T. Tajima and J. M. Dawson, \"Laser Electron Accelerator.\" Phys. Rev. Lett. **43**, 267 (1979)."
   ]
  },
  {
   "cell_type": "markdown",
   "metadata": {},
   "source": [
    "These are 1D simulations with a relativistic electromagnetic PIC code.\n",
    "\n",
    "* $L_x = 512\\Delta$\n",
    "* $c = 5 v_e$\n",
    "* $k_x = 2\\pi / 15\\Delta$\n",
    "* number of electrons = 5120\n",
    "* particle size = $1\\Delta$\n",
    "\n",
    "where:\n",
    "* $\\Delta$ is the unit spatial grid distance\n",
    "* $v_e$ is the electron thermal speed\n",
    "\n",
    "The following relations are kept fixed:\n",
    "* $eE_0/m\\omega = eB_0/m\\omega = c$\n",
    "* $L_t = \\pi c/\\omega_p$\n",
    "* $p_0 = eE_0/\\omega$\n",
    "* $\\omega = (\\omega_p^2 + k_x^2c^2)^{1/2}$\n",
    "\n",
    "where:\n",
    "* $E_0$ and $B_0$ are the pump wave electric and magnetic field amplitudes\n",
    "* $p_0$ is the corresponding amplitude for the momentum modulation\n"
   ]
  },
  {
   "cell_type": "markdown",
   "metadata": {},
   "source": [
    "Cases are run for $c = [5, 7.25, 10, 14.7]\\omega_p\\Delta$.\n",
    "* $E_y = E_0\\sin k_x(x-x_0)$\n",
    "* $B_z = B_0\\sin k_x(x-x_0)$\n",
    "* $p_y = p^{random}+p_0\\cos k_x(x-x_0)$"
   ]
  },
  {
   "cell_type": "markdown",
   "metadata": {},
   "source": [
    "\"In this series of simulations, a run with larger $c$ means larger $\\omega$, longer photon train $L_t$, and stronger $E_0$, since $\\omega_p$ is taken to be constant.\""
   ]
  },
  {
   "cell_type": "markdown",
   "metadata": {},
   "source": [
    "OSIRIS simulations are done in normalized units. \n",
    "\n",
    "* Time:  $t' = t \\omega_{p}$\n",
    "\n",
    "* Frequency: $\\omega' = \\frac{\\omega}{\\omega_{p}}$ \n",
    "\n",
    "* Position: $\\vec{x}' = \\frac{\\omega_{p}}{c} \\vec{x}$  \n",
    "\n",
    "* Momenta: $\\vec{u}' = \\frac{\\vec{p}}{m_{e} c} = \\frac{\\vec{\\gamma v}}{c} = \\frac{\\vec{u}} {c}$  \n",
    "\n",
    "* Electric field: $\\vec{E}' = e \\frac{c / \\omega_{p}}{m_{e} c^2} \\vec{E}$  \n",
    "\n",
    "* Magnetic field: $\\vec{B}' = e \\frac{c / \\omega_{p}}{m_{e} c^2} \\vec{B}$  \n"
   ]
  },
  {
   "cell_type": "markdown",
   "metadata": {},
   "source": [
    "We will set a few variables:\n",
    "\n",
    "* By definition in the article, $c = a\\omega_p\\Delta$ with $a=[5, 7.25, 10, 14.7]$\n",
    "* Normalizations for OSIRIS will be set with $\\omega_{p} = 1$ and $c = 1$.\n",
    "* $v_e = 0.2c = 0.2a\\omega_p\\Delta$\n",
    "* If $c$ is going to be temporarily variable, set $\\Delta$ to be something specific: $\\Delta = 0.2$\n",
    "* $L_x = 512\\Delta = 102.4$\n",
    "* 5120 particles gives 10 particles per cell"
   ]
  },
  {
   "cell_type": "code",
   "execution_count": 12,
   "metadata": {},
   "outputs": [],
   "source": [
    "# We first import necessary libraries\n",
    "\n",
    "import sys\n",
    "b= sys.path\n",
    "sys.path=['/home/jovyan/analysis'] + b\n",
    "import osiris\n",
    "import numpy as np\n",
    "import matplotlib.pyplot as plt\n",
    "from matplotlib.colors import LogNorm\n",
    "from osh5vis import new_fig, osplot\n",
    "from osh5io import read_h5\n",
    "from osh5utils import fft\n",
    "import glob\n",
    "from ipywidgets import interact_manual,fixed,Layout\n",
    "import ipywidgets as widgets\n",
    "interact_calc=interact_manual.options(manual_name=\"Make New Input and Run\")\n",
    "import os\n",
    "from osiris import tajima\n",
    "\n",
    "#Define some functions for later\n",
    "\n",
    "def plot_maxgamma_t(simdir):\n",
    "    \n",
    "    maxg, time = [], []\n",
    "    for f in sorted(glob.glob(simdir + '/MS/PHA/p1x1/electrons/*.h5')):\n",
    "        data = read_h5(f)\n",
    "        ind = np.nonzero(data)\n",
    "        maxg.append(np.sqrt(1+(data.axes[0][max(ind[0])])**2))\n",
    "        time.append(data.run_attrs['TIME'])\n",
    "    print('max gamma = ', max(maxg))\n",
    "    \n",
    "def newifile(iname='case0.txt', oname='case1.txt', uth=0.1, \n",
    "             a0=1.0, omega0=2.0, t_flat=3.14, t_rise=0, t_fall=0,\n",
    "            nx_p=1024, xmax=102.4, ndump=1):\n",
    "\n",
    "    with open(iname) as osdata:\n",
    "        data = osdata.readlines()\n",
    "\n",
    "    for i in range(len(data)):\n",
    "        if 'uth(1:3)' in data[i]:\n",
    "            data[i] = 'uth(1:3) = '+str(uth)+'d0 , '+str(uth)+'d0 , '+str(uth)+'d0,\\n'\n",
    "        if 'uth_bnd(1:3,1,1)' in data[i]:\n",
    "            data[i] = 'uth_bnd(1:3,1,1) = '+str(uth)+'d0 , '+str(uth)+'d0 , '+str(uth)+'d0,\\n'\n",
    "        if 'uth_bnd(1:3,2,1)' in data[i]:\n",
    "            data[i] = 'uth_bnd(1:3,2,1) = '+str(uth)+'d0 , '+str(uth)+'d0 , '+str(uth)+'d0,\\n'\n",
    "        if 'a0 =' in data[i] and 'omega0' not in data[i]:\n",
    "            data[i] = 'a0 = '+str(a0)+',\\n'\n",
    "        if 'omega0 =' in data[i]:\n",
    "            data[i] = 'omega0 = '+str(omega0)+',\\n'\n",
    "        if 't_flat =' in data[i]:\n",
    "            data[i] = 't_flat = '+str(t_flat)+',\\n'\n",
    "        if 't_rise =' in data[i]:\n",
    "            data[i] = 't_rise = '+str(t_rise)+',\\n'\n",
    "        if 't_fall =' in data[i]:\n",
    "            data[i] = 't_fall = '+str(t_fall)+',\\n'\n",
    "        if 'nx_p(1:1) =' in data[i]:\n",
    "            data[i] = 'nx_p(1:1) = '+str(nx_p)+',\\n'\n",
    "        if 'dt =' in data[i]:\n",
    "            dt = (0.98 * xmax / nx_p)\n",
    "            data[i] = 'dt = '+str(dt)+'e0'+',\\n'\n",
    "        if 'xmax(1:1) =' in data[i] and 'ps_xmax(1:1)' not in data[i]:\n",
    "            data[i] = 'xmax(1:1) = '+str(xmax)+'e0,\\n'\n",
    "        if 'x(1:2,1) =' in data[i] and 'fx(1:2,1)' not in data[i]:\n",
    "            data[i] = 'x(1:2,1) = 0.0, '+str(xmax)+',\\n'\n",
    "        if 'ndump =' in data[i]:\n",
    "            data[i] = 'ndump = '+str(ndump)+',\\n'\n",
    "\n",
    "    with open(oname,'w') as f:\n",
    "        for line in data:\n",
    "            f.write(line)\n",
    "    \n",
    "    print('New file '+oname+' is written.')\n",
    "    dirname = oname.strip('.txt')\n",
    "    print('Running OSIRIS in directory '+dirname+'...')\n",
    "    osiris.runosiris(rundir=dirname,inputfile=oname,print_out='yes')\n",
    "    plot_maxgamma_t(dirname)\n",
    "    print('Done')"
   ]
  },
  {
   "cell_type": "markdown",
   "metadata": {},
   "source": [
    "### Run the canonical case from the paper."
   ]
  },
  {
   "cell_type": "code",
   "execution_count": 5,
   "metadata": {
    "scrolled": false
   },
   "outputs": [
    {
     "name": "stdout",
     "output_type": "stream",
     "text": [
      "runosiris completed normally\n"
     ]
    }
   ],
   "source": [
    "dirname = 'case0'\n",
    "osiris.runosiris(rundir=dirname,inputfile='case0.txt')"
   ]
  },
  {
   "cell_type": "markdown",
   "metadata": {},
   "source": [
    "Run the next cell to look at the results of the simulation. Click along the slider to see later timesteps. "
   ]
  },
  {
   "cell_type": "code",
   "execution_count": 2,
   "metadata": {},
   "outputs": [
    {
     "data": {
      "application/vnd.jupyter.widget-view+json": {
       "model_id": "86c89c5b88864bbb85a1485daa2b7ee1",
       "version_major": 2,
       "version_minor": 0
      },
      "text/plain": [
       "interactive(children=(IntSlider(value=0, description='file_no', max=1260, step=5), Output()), _dom_classes=('w…"
      ]
     },
     "metadata": {},
     "output_type": "display_data"
    }
   ],
   "source": [
    "dirname = './case0'\n",
    "tajima(rundir=dirname)"
   ]
  },
  {
   "cell_type": "markdown",
   "metadata": {},
   "source": [
    "In the next cell we try to replicate Figure 2a in the paper."
   ]
  },
  {
   "cell_type": "code",
   "execution_count": 3,
   "metadata": {},
   "outputs": [
    {
     "data": {
      "image/png": "[encoded data removed]",
      "text/plain": [
       "<Figure size 432x288 with 1 Axes>"
      ]
     },
     "metadata": {
      "needs_background": "light"
     },
     "output_type": "display_data"
    }
   ],
   "source": [
    "dirname = './case0'\n",
    "plt.figure()\n",
    "osplot(np.abs(fft(read_h5(dirname+'/MS/FLD/e2/e2-000030.h5'))), xlim=[0, 6], ylim=[0, 50])\n",
    "osplot(np.abs(fft(read_h5(dirname+'/MS/FLD/e2/e2-000205.h5'))), xlim=[0, 6], ylim=[0, 50])\n",
    "osplot(np.abs(fft(read_h5(dirname+'/MS/FLD/e2/e2-000410.h5'))), xlim=[0, 6], ylim=[0, 50])\n",
    "plt.title('$E_2$')\n",
    "plt.legend(['t=5.9', 't=40', 't=80'])\n",
    "plt.show()"
   ]
  },
  {
   "cell_type": "markdown",
   "metadata": {},
   "source": [
    "### Parameters to test for Figure 2"
   ]
  },
  {
   "cell_type": "markdown",
   "metadata": {},
   "source": [
    "Now we want to run cases with different values of $c$ used in the paper. We need to find the corresponding OSIRIS input parameters.\n",
    "1. Laser frequency:\n",
    "$$\\omega = (\\omega_p^2 + k_x^2c^2)^{1/2}$$\n",
    "$$\\frac{\\omega^2}{\\omega_p^2} = 1 + a^2k_x^2\\Delta^2$$\n",
    "Since $k_x\\Delta = \\frac{2\\pi}{15}$, we have \n",
    "$$\\frac{\\omega^2}{\\omega_p^2} = 1 + a^2\\left(\\frac{2\\pi}{15}\\right)^2$$"
   ]
  },
  {
   "cell_type": "markdown",
   "metadata": {},
   "source": [
    "2. Laser antenna:\n",
    "$$a_0 = \\frac{E_0}{\\omega}$$\n",
    "Since $E_0$ is kept to be $E_0 = \\frac{m\\omega c}{e}$, then \n",
    "$$a_0 = \\frac{mc}{e}$$\n",
    "For $m = e = 1$, \n",
    "$$a_0 = a\\omega_p\\Delta $$"
   ]
  },
  {
   "cell_type": "markdown",
   "metadata": {},
   "source": [
    "3. Laser train length: \n",
    "$$L_t = \\pi \\frac{c}{\\omega_p}$$\n",
    "$$L_t = \\pi a \\Delta$$"
   ]
  },
  {
   "cell_type": "code",
   "execution_count": 14,
   "metadata": {},
   "outputs": [
    {
     "name": "stdout",
     "output_type": "stream",
     "text": [
      "For c =  5.00, v_e = 0.20, a0 = 1.00, w/wp = 2.32, Lt = 3.14\n",
      "For c =  7.25, v_e = 0.20, a0 = 1.45, w/wp = 3.20, Lt = 4.56\n",
      "For c = 10.00, v_e = 0.20, a0 = 2.00, w/wp = 4.31, Lt = 6.28\n",
      "For c = 14.70, v_e = 0.20, a0 = 2.94, w/wp = 6.24, Lt = 9.24\n"
     ]
    }
   ],
   "source": [
    "def find_input_param(c_vec):\n",
    "    dx = 0.2\n",
    "    for i in c:\n",
    "        ve = 0.2\n",
    "        a0 = i*dx\n",
    "        w = np.sqrt(1 + (i**2)*(2*np.pi/15)**2)\n",
    "        Lt = i*np.pi*dx\n",
    "        print('For c = {:5.2f}, v_e = {:4.2f}, a0 = {:4.2f}, w/wp = {:4.2f}, Lt = {:4.2f}'.format(i,ve,a0,w,Lt))\n",
    "        \n",
    "c = [5, 7.25, 10, 14.7]\n",
    "find_input_param(c)\n",
    "        \n",
    "        "
   ]
  },
  {
   "cell_type": "markdown",
   "metadata": {},
   "source": [
    "In the widget below, enter these parameters and a name for the output. When the button is clicked, the function will run OSIRIS and print the maximum electron energy achieved. The output is saved in a directory with the same name as the output text file. \n",
    "\n",
    "There is the option below to make advanced changes to the input deck but the default values will match the simulations in the paper."
   ]
  },
  {
   "cell_type": "code",
   "execution_count": 13,
   "metadata": {},
   "outputs": [
    {
     "data": {
      "application/vnd.jupyter.widget-view+json": {
       "model_id": "136176cff26b4e719f5f59d212a7e142",
       "version_major": 2,
       "version_minor": 0
      },
      "text/plain": [
       "interactive(children=(Text(value='case0.txt', description='Template Input File:', layout=Layout(width='35%'), …"
      ]
     },
     "metadata": {},
     "output_type": "display_data"
    }
   ],
   "source": [
    "style = {'description_width': '150px'}\n",
    "layout = Layout(width='35%')\n",
    "\n",
    "a = widgets.Text(value='case0.txt', description='Template Input File:',style=style,layout=layout)\n",
    "b = widgets.Text(value='case1.txt', description='New Output File:',style=style,layout=layout)\n",
    "c = widgets.BoundedFloatText(value=0.2, min=0.0, max=2.0, description='v_e/c:',style=style,layout=layout)\n",
    "d = widgets.FloatText(value=1.0,description='a0:',style=style,layout=layout)\n",
    "e = widgets.BoundedFloatText(value=2.0, min=0, max=10.5, description='omega0:',style=style,layout=layout)\n",
    "f = widgets.BoundedFloatText(value=3.14, min=0, max=100, description='Lt:',style=style,layout=layout)\n",
    "g = widgets.BoundedFloatText(value=0, min=0, max=100, description='t_rise:',style=style,layout=layout)\n",
    "h = widgets.BoundedFloatText(value=0, min=0, max=100, description='t_fall:',style=style,layout=layout)\n",
    "nx_pw = widgets.IntText(value=1024, description='nx_p:', style=style, layout=layout)\n",
    "xmaxw = widgets.FloatText(value=102.4, description='xmax:', style=style, layout=layout)\n",
    "ndumpw = widgets.IntText(value=1, description='ndump:', style=style, layout=layout)\n",
    "\n",
    "interact_calc(newifile, iname=a,oname=b,uth=c,a0=d,omega0=e,t_flat=f, \n",
    "              t_rise=g, t_fall=h, nx_p=nx_pw, xmax=xmaxw, ndump=ndumpw);\n"
   ]
  },
  {
   "cell_type": "code",
   "execution_count": 15,
   "metadata": {},
   "outputs": [
    {
     "data": {
      "application/vnd.jupyter.widget-view+json": {
       "model_id": "17b3b430270c448f97f8f86bc728221e",
       "version_major": 2,
       "version_minor": 0
      },
      "text/plain": [
       "interactive(children=(IntSlider(value=0, description='file_no', max=1225, step=5), Output()), _dom_classes=('w…"
      ]
     },
     "metadata": {},
     "output_type": "display_data"
    }
   ],
   "source": [
    "dirname = './case1'\n",
    "tajima(rundir=dirname)"
   ]
  },
  {
   "cell_type": "code",
   "execution_count": null,
   "metadata": {},
   "outputs": [],
   "source": []
  }
 ],
 "metadata": {
  "kernelspec": {
   "display_name": "Python 3",
   "language": "python",
   "name": "python3"
  },
  "language_info": {
   "codemirror_mode": {
    "name": "ipython",
    "version": 3
   },
   "file_extension": ".py",
   "mimetype": "text/x-python",
   "name": "python",
   "nbconvert_exporter": "python",
   "pygments_lexer": "ipython3",
   "version": "3.7.1"
  }
 },
 "nbformat": 4,
 "nbformat_minor": 2
}
