{
 "cells": [
  {
   "cell_type": "markdown",
   "metadata": {},
   "source": [
    "# Tajima and Dawson\n",
    "\n",
    "This notebook enables one to reproduce the simulations of T. Tajima and J. M. Dawson, \"Laser Electron Accelerator.\" Phys. Rev. Lett. **43**, 267 (1979)."
   ]
  },
  {
   "cell_type": "markdown",
   "metadata": {},
   "source": [
    "These are 1D simulations with a relativistic electromagnetic PIC code.\n",
    "\n",
    "* $L_x = 512\\Delta$\n",
    "* $c = 5 v_e$\n",
    "* $k_x = 2\\pi / 15\\Delta$\n",
    "* number of electrons = 5120\n",
    "* particle size = $1\\Delta$\n",
    "\n",
    "where:\n",
    "* $\\Delta$ is the unit spatial grid distance\n",
    "* $v_e$ is the electron thermal speed\n",
    "\n",
    "The following relations are kept fixed:\n",
    "* $eE_0/m\\omega = eB_0/m\\omega = c$\n",
    "* $L_t = \\pi c/\\omega_p$\n",
    "* $p_0 = eE_0/\\omega$\n",
    "* $\\omega = (\\omega_p^2 + k_x^2c^2)^{1/2}$\n",
    "\n",
    "where:\n",
    "* $E_0$ and $B_0$ are the pump wave electric and magnetic field amplitudes\n",
    "* $p_0$ is the corresponding amplitude for the momentum modulation\n"
   ]
  },
  {
   "cell_type": "markdown",
   "metadata": {},
   "source": [
    "Cases are run for $c = [5, 7.25, 10, 14.7]\\omega_p\\Delta$.\n",
    "* $E_y = E_0\\sin k_x(x-x_0)$\n",
    "* $B_z = B_0\\sin k_x(x-x_0)$\n",
    "* $p_y = p^{random}+p_0\\cos k_x(x-x_0)$"
   ]
  },
  {
   "cell_type": "markdown",
   "metadata": {},
   "source": [
    "\"In this series of simulations, a run with larger $c$ means larger $\\omega$, longer photon train $L_t$, and stronger $E_0$, since $\\omega_p$ is taken to be constant.\""
   ]
  },
  {
   "cell_type": "code",
   "execution_count": null,
   "metadata": {},
   "outputs": [],
   "source": [
    "# We first import necessary libraries\n",
    "import osiris\n",
    "import numpy as np\n",
    "import matplotlib.pyplot as plt\n",
    "from matplotlib.colors import LogNorm\n",
    "from osh5vis import new_fig, osplot\n",
    "from osh5io import read_h5\n",
    "from osh5utils import fft\n",
    "import glob\n",
    "from ipywidgets import interact_manual,fixed,Layout\n",
    "import ipywidgets as widgets\n",
    "interact_calc=interact_manual.options(manual_name=\"Make New Input and Run\")"
   ]
  },
  {
   "cell_type": "markdown",
   "metadata": {},
   "source": [
    "We will set a few variables:\n",
    "\n",
    "* By definition in the article, $c = a\\omega_p\\Delta$ with $a=[5, 7.25, 10, 14.7]$\n",
    "* Normalizations for OSIRIS will be set with $\\omega_{p} = 1$ and $c = 1$, so we must recalculate some values.\n",
    "* $v_e = 0.2c = 0.2a\\omega_p\\Delta$\n",
    "* If $c$ is going to be temporarily variable, set $\\Delta$ to be something specific -> $\\Delta = 0.2$..... something seems fishy about these parameter transformations -> must check with others\n",
    "* $L_x = 512\\Delta = 102.4$\n",
    "* 5120 particles gives 10 particles per cell"
   ]
  },
  {
   "cell_type": "code",
   "execution_count": null,
   "metadata": {},
   "outputs": [],
   "source": [
    "dx = 0.2"
   ]
  },
  {
   "cell_type": "code",
   "execution_count": null,
   "metadata": {},
   "outputs": [],
   "source": [
    "# uncomment to get other ve\n",
    "# c = [5, 7.25, 10, 14.7]\n",
    "# for i in c:\n",
    "#     ve = 0.2*i*dx\n",
    "#     print('v_e = {:.2f}'.format(ve))"
   ]
  },
  {
   "cell_type": "markdown",
   "metadata": {},
   "source": [
    "\n",
    "For laser frequency:\n",
    "\n",
    "* $\\omega = (\\omega_p^2 + k_x^2c^2)^{1/2}$\n",
    "* $\\omega^2/\\omega_p^2 = 1 + a^2k_x^2\\Delta^2$\n",
    "* Since $k_x\\Delta = (2\\pi/15)$, we have $\\omega^2/\\omega_p^2 = 1 + a^2(2\\pi/15)^2$"
   ]
  },
  {
   "cell_type": "code",
   "execution_count": null,
   "metadata": {},
   "outputs": [],
   "source": [
    "c = [5, 7.25, 10, 14.7]\n",
    "for i in c:\n",
    "    w2 = 1 + (i**2)*(2*np.pi/15)**2\n",
    "    w = np.sqrt(w2)\n",
    "    print('w^2/wp^2 = {:.2f}, w/wp = {:.2f}'.format(w2, w))"
   ]
  },
  {
   "cell_type": "markdown",
   "metadata": {},
   "source": [
    "For the laser antenna $a_0 = (E_0/\\omega)$\n",
    "\n",
    "Since $E_0$ is kept to be $E_0 = m\\omega c /e$, then $a_0 = mc/e$\n",
    "\n",
    "For $m = e = 1$, $a_0 = a\\omega_p\\Delta = a * 0.2$"
   ]
  },
  {
   "cell_type": "code",
   "execution_count": null,
   "metadata": {},
   "outputs": [],
   "source": [
    "c = [5, 7.25, 10, 14.7]\n",
    "for i in c:\n",
    "    a0 = i*dx\n",
    "    print('a0 = {:.2f}'.format(a0))"
   ]
  },
  {
   "cell_type": "markdown",
   "metadata": {},
   "source": [
    "Finally, the laser train length is $L_t = \\pi c/\\omega_p$\n",
    "\n",
    "$L_t = \\pi/\\omega_p (a\\omega_p\\Delta) = \\pi a \\Delta$"
   ]
  },
  {
   "cell_type": "code",
   "execution_count": null,
   "metadata": {},
   "outputs": [],
   "source": [
    "c = [5, 7.25, 10, 14.7]\n",
    "for i in c:\n",
    "    Lt = i*np.pi*dx\n",
    "    print('Lt = {:.2f}'.format(Lt))"
   ]
  },
  {
   "cell_type": "code",
   "execution_count": null,
   "metadata": {},
   "outputs": [],
   "source": [
    "# function definitions for later\n",
    "\n",
    "def plot_maxgamma_t(simdir):\n",
    "    maxg, time = [], []\n",
    "    for f in sorted(glob.glob(simdir + '/MS/PHA/p1x1/electrons/*.h5')):\n",
    "        data = read_h5(f)\n",
    "        ind = np.nonzero(data)\n",
    "        maxg.append(np.sqrt(1+(data.axes[0][max(ind[0])])**2))\n",
    "        time.append(data.run_attrs['TIME'])\n",
    "    print('max gamma = ', max(maxg))\n",
    "    \n",
    "def newifile(iname='case1.txt', oname='case2.txt', uth=0.1, a0=1.0, omega0=2.0, t_flat=3.14):\n",
    "\n",
    "    with open(iname) as osdata:\n",
    "        data = osdata.readlines()\n",
    "\n",
    "    for i in range(len(data)):\n",
    "        if 'uth(1:3)' in data[i]:\n",
    "            data[i] = 'uth(1:3) = '+str(uth)+'d0 , '+str(uth)+'d0 , '+str(uth)+'d0,\\n'\n",
    "        if 'uth_bnd(1:3,1,1)' in data[i]:\n",
    "            data[i] = 'uth_bnd(1:3,1,1) = '+str(uth)+'d0 , '+str(uth)+'d0 , '+str(uth)+'d0,\\n'\n",
    "        if 'uth_bnd(1:3,2,1)' in data[i]:\n",
    "            data[i] = 'uth_bnd(1:3,2,1) = '+str(uth)+'d0 , '+str(uth)+'d0 , '+str(uth)+'d0,\\n'\n",
    "        if 'a0 =' in data[i] and 'omega0' not in data[i]:\n",
    "            data[i] = 'a0 = '+str(a0)+',\\n'\n",
    "        if 'omega0 =' in data[i]:\n",
    "            data[i] = 'omega0 = '+str(omega0)+',\\n'\n",
    "        if 't_flat =' in data[i]:\n",
    "            data[i] = 't_flat = '+str(t_flat)+',\\n'\n",
    "\n",
    "    with open(oname,'w') as f:\n",
    "        for line in data:\n",
    "            f.write(line)\n",
    "    \n",
    "    print('New file '+oname+' is written.')\n",
    "    dirname = oname.strip('.txt')\n",
    "    print('Running OSIRIS in directory '+dirname+'...')\n",
    "    osiris.runosiris(rundir=dirname,inputfile=oname,print='no')\n",
    "    plot_maxgamma_t(dirname)\n",
    "    print('Done')"
   ]
  },
  {
   "cell_type": "markdown",
   "metadata": {},
   "source": [
    "### our set of parameters to test for Figure 2"
   ]
  },
  {
   "cell_type": "code",
   "execution_count": null,
   "metadata": {},
   "outputs": [],
   "source": [
    "c = [5, 7.25, 10, 14.7]\n",
    "for i in c:\n",
    "#     ve = 0.2*i*dx\n",
    "    ve = 0.2\n",
    "    a0 = i*dx\n",
    "    w = np.sqrt(1 + (i**2)*(2*np.pi/15)**2)\n",
    "    Lt = i*np.pi*dx\n",
    "    print('For c = {:5.2f}, v_e = {:4.2f}, a0 = {:4.2f}, w/wp = {:4.2f}, Lt = {:4.2f}'.format(i,ve,a0,w,Lt))"
   ]
  },
  {
   "cell_type": "code",
   "execution_count": null,
   "metadata": {},
   "outputs": [],
   "source": [
    "style = {'description_width': '150px'}\n",
    "layout = Layout(width='35%')\n",
    "\n",
    "a = widgets.Text(value='case0.txt', description='Template Input File',style=style,layout=layout)\n",
    "b = widgets.Text(value='case1.txt', description='New Output File',style=style,layout=layout)\n",
    "c = widgets.FloatText(value=0.2, min=0.0, max=2.0, description='v_e/c:',style=style,layout=layout)\n",
    "d = widgets.FloatText(value=1.0,description='a0:',style=style,layout=layout)\n",
    "e = widgets.FloatText(value=2.0,description='omega0:',style=style,layout=layout)\n",
    "f = widgets.FloatText(value=3.14, min=0, max=100, description='Lt:',style=style,layout=layout)\n",
    "\n",
    "interact_calc(newifile,iname=a,oname=b,uth=c,a0=d,omega0=e,t_flat=f);"
   ]
  },
  {
   "cell_type": "code",
   "execution_count": null,
   "metadata": {},
   "outputs": [],
   "source": [
    "dirname = './case3'\n",
    "p1x1=read_h5(dirname + '/MS/PHA/p1x1/electrons/p1x1-electrons-000125.h5')\n",
    "new_fig(np.abs(p1x1), norm=LogNorm(), xlim=[0, 102.4], ylim=[-1.5, 20])\n",
    "p2x1=read_h5(dirname + '/MS/PHA/p2x1/electrons/p2x1-electrons-000125.h5')\n",
    "new_fig(np.abs(p2x1), norm=LogNorm(), xlim=[0, 102.4], ylim=[-5, 5])\n",
    "e1 = read_h5(dirname + '/MS/FLD/e1/e1-000125.h5')\n",
    "new_fig(e1, xlim=[0, 102.4])"
   ]
  },
  {
   "cell_type": "code",
   "execution_count": null,
   "metadata": {},
   "outputs": [],
   "source": [
    "dirname = './case2'\n",
    "plt.figure()\n",
    "osplot(np.abs(fft(read_h5(dirname+'/MS/FLD/e2/e2-000030.h5'))), xlim=[0, 6], ylim=[0, 70])\n",
    "osplot(np.abs(fft(read_h5(dirname+'/MS/FLD/e2/e2-000205.h5'))), xlim=[0, 6], ylim=[0, 70])\n",
    "osplot(np.abs(fft(read_h5(dirname+'/MS/FLD/e2/e2-000410.h5'))), xlim=[0, 6], ylim=[0, 70])\n",
    "plt.title('$E_2$')\n",
    "plt.legend(['t=5.9', 't=40', 't=80'])"
   ]
  }
 ],
 "metadata": {
  "kernelspec": {
   "display_name": "Python 3",
   "language": "python",
   "name": "python3"
  },
  "language_info": {
   "codemirror_mode": {
    "name": "ipython",
    "version": 3
   },
   "file_extension": ".py",
   "mimetype": "text/x-python",
   "name": "python",
   "nbconvert_exporter": "python",
   "pygments_lexer": "ipython3",
   "version": "3.7.1"
  }
 },
 "nbformat": 4,
 "nbformat_minor": 2
}
