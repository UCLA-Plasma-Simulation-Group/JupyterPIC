{
 "cells": [
  {
   "cell_type": "markdown",
   "metadata": {},
   "source": [
    "# Project 3a: Waves in Magnetized Plasmas"
   ]
  },
  {
   "cell_type": "markdown",
   "metadata": {},
   "source": [
    "In this project, we are going to look at the dispersion relation for electromagnetic waves in a uniform magnetic field.\n",
    "\n",
    "In this project, you will study the accuracy of the dispersion relation we derived in class for waves that propagate across a constant magnetic field. \n",
    "\n",
    "In class we began by stating that we are interested in waves with frequencies at or near the plasma frequency so that we can assume the ion motion is not important. We let the magnetic field point in the $\\hat z$  direction, $\\vec B_0=\\hat z B_0$. We than assumed the wave moved in the $\\hat x$ direction, $\\vec k=\\hat x k$. Under these conditions we found that there are two types of waves:\n",
    "\n",
    "The O-wave (ordinary wave) in which the electric field of the wave points in the $\\hat z$ direction, $\\vec E=\\hat z E$. For this wave the dispersion relation is:\n",
    "\n",
    "\\begin{equation}\n",
    "\\frac {c^2k^2}{\\omega^2}=1-\\frac{\\omega_p^2}{\\omega^2}\n",
    "\\end{equation}\n",
    "and the X-wave (extraordinary wave) in which the electric field of the wave points in both the $\\hat y$ and $\\hat x$ directions $\\vec E=\\hat x E_x + \\hat y E_y$. For this wave the dispersion relation is:\n",
    "\n",
    "\\begin{equation}\n",
    "\\frac {c^2k^2}{\\omega^2}=1-\\frac{\\omega_p^2}{\\omega^2} \\frac{\\omega^2-\\omega_p^2}{\\omega^2-\\omega_h^2}\n",
    "\\end{equation}\n",
    "\n",
    "For this wave, the ratio of $E_y$ to $E_x$ is:\n",
    "\n",
    "\\begin{equation}\n",
    "\\frac{E_y}{E_x}=i \\frac{\\omega}{\\omega_c} \\frac{\\omega^2-\\omega_h^2}{\\omega_p^2}.  \n",
    "\\end{equation}\n",
    "\n",
    "In addition,  for the X-wave there are several important frequencies. These are the cutoff frequencies where k vanishes and the wave is reflected:\n",
    "\n",
    "\\begin{equation}\n",
    "\\omega_R=\\frac{1}{2}[\\omega_c+(\\omega_c^2+4\\omega_p^2)^{1/2}]\n",
    "\\end{equation}\n",
    "\n",
    "\\begin{equation}\n",
    "\\omega_L=\\frac{1}{2}[-\\omega_c+(\\omega_c^2+4\\omega_p^2)^{1/2}]\n",
    "\\end{equation}\n",
    "\n",
    "and the resonances where k goes to infinity and the wave is absorbed:\n",
    "\n",
    "\\begin{equation}\n",
    "\\omega_h=(\\omega_c^2+\\omega_p^2)^{1/2}\n",
    "\\end{equation}\n",
    "\n",
    "\n",
    "At a resonance the wave becomes longitudinal where $\\vec E$ is parallel to $\\vec k$, the wave only has an $E_x$.\n",
    "\n",
    "\n",
    "In this project you will study the spectrum of waves that exist in a magnetized plasma. The constant magnetic field will point in the $\\hat x_3$ direction $\\hat z$. You will simulate a uniform plasma in which each plasma electron is initialized with positions (only in x or what we call x1). Each electron is also initialized with velocities (v1, v2, v3)=(.005c, .005c, .005c) or momentum (mv1, mv2, mv3) from a Maxwellian in each direction. The particles then begin to move in the self-consistent fields that their current and charge density produce:\n",
    "\n",
    "\n",
    "\n",
    "*\tThe length of the simulation window is $50 \\ c/\\omega_p$.\n",
    "*\tThe simulation will run for a time $400 \\ \\ [1/\\omega_p] $. \n",
    "*\tThe simulation uses 50,000 particles.\n",
    "\n",
    "\n",
    "We will have $\\frac{\\omega_c}{\\omega_p}$= 2.\n",
    "\n",
    "\n"
   ]
  },
  {
   "cell_type": "markdown",
   "metadata": {},
   "source": [
    "# Dispersion Relation:\n",
    "\n",
    "## X-wave and O-wave dispersion\n",
    "\n",
    "Here you can look at the dispersion relations of the X- and O-waves and the frequencies described above."
   ]
  },
  {
   "cell_type": "code",
   "execution_count": null,
   "metadata": {},
   "outputs": [],
   "source": [
    "from scipy.optimize import fsolve \n",
    "import numpy as np\n",
    "import matplotlib.pyplot as plt\n",
    "import ipywidgets\n",
    "%matplotlib inline\n",
    "\n",
    "#\n",
    "# SETUP\n",
    "#\n",
    "\n",
    "# \"k\" here means \"ck\"\n",
    "karray=np.arange(0,5,0.05)\n",
    "nk=karray.shape[0]\n",
    "\n",
    "def xwave_disp(w,omegap,omegac,ck):\n",
    "    ratio=omegac/omegap\n",
    "    y=(ck*ck)/(omegap*omegap)-(w*w)/(omegap*omegap)+(w*w/(omegap*omegap)-1)/(w*w/(omegap*omegap)-(1+ratio*ratio))\n",
    "    return y\n",
    "\n",
    "warrayL=np.zeros(karray.shape[0])\n",
    "warrayR=np.zeros(karray.shape[0])\n",
    "wLarray=np.zeros(karray.shape[0])\n",
    "wRarray=np.zeros(karray.shape[0])\n",
    "wHarray=np.zeros(karray.shape[0])\n",
    "\n",
    "def xodisp(wp,wc):\n",
    "    # here we specify the plasma conditions \n",
    "    #\n",
    "    #wp=1\n",
    "    #wc=0.7\n",
    "    #\n",
    "    #\n",
    "\n",
    "    wR=0.5*(wc+np.sqrt(4*wp*wp+wc*wc))\n",
    "    wL=0.5*(np.sqrt(4*wp*wp+wc*wc)-wc)\n",
    "\n",
    "    wLarray[:]=wL\n",
    "    wRarray[:]=wR\n",
    "    wHarray[:]=np.sqrt(wp*wp+wc*wc)\n",
    "\n",
    "    warrayL[0]=wL\n",
    "    warrayR[0]=wR\n",
    "    for ik in range(1,nk):\n",
    "        warrayL[ik]=fsolve(xwave_disp,warrayL[ik-1],args=(wp,wc,karray[ik]))\n",
    "        warrayR[ik]=fsolve(xwave_disp,warrayR[ik-1],args=(wp,wc,karray[ik]))\n",
    "\n",
    "    plt.figure(figsize=(8,4))\n",
    "    \n",
    "    plt.subplot(1, 2, 1)\n",
    "    plt.plot(karray,warrayR,'b',label='$\\omega$ > $\\omega_R$')\n",
    "    plt.plot(karray,warrayL,'r',label=' $\\omega_L$ < $\\omega$ < $\\omega_H$')\n",
    "    plt.plot(karray,wLarray,'--',label='$\\omega_L$')\n",
    "    plt.plot(karray,wRarray,'--',label='$\\omega_R$')\n",
    "    plt.plot(karray,wHarray,'--',label='$\\omega_H$')\n",
    "    plt.plot(karray, karray,'--', color='fuchsia',label='$\\omega/k=c$')\n",
    "    plt.xlabel('wave number $[ck/\\omega_{pe}]$')\n",
    "    plt.ylabel('frequency $[\\omega_{pe}]$')\n",
    "    plt.title('X wave dispersion relation,')\n",
    "    plt.legend()\n",
    "    plt.xlim([0,karray[nk-1]])\n",
    "    plt.ylim([0,6])#karray[nk-1]+1.0])\n",
    "    plt.grid(b=True, which='major', axis='both')\n",
    "    plt.legend(loc=0, fontsize=8)\n",
    "    #plt.show()\n",
    "    \n",
    "    # Plotting w(k)\n",
    "    N = 5\n",
    "    k = np.linspace(0,N,N*20)\n",
    "    c = 1\n",
    "    w = np.sqrt(wp**2 + c**2 * k**2)\n",
    "    cline = k\n",
    "    plt.subplot(1, 2, 2)\n",
    "    plt.plot(k,w, label='$\\omega$(k)')\n",
    "    plt.plot(k,cline, label='slope = c')\n",
    "    plt.xlabel('k [$c/\\omega_p$]')\n",
    "    plt.ylabel('$\\omega$ (in units of $\\omega_p$)')\n",
    "    plt.title('O wave dispersion relation,')\n",
    "    plt.xlim(0,N)\n",
    "    plt.ylim(0,N+1)\n",
    "    plt.grid(b=True, which='major', axis='both')\n",
    "    plt.legend(loc=0)\n",
    "    \n",
    "    plt.tight_layout()\n",
    "    plt.show()\n",
    "    \n",
    "ipywidgets.interact(xodisp,wp=(0.0,2.0),wc=(0.0,1.0),continuous_update=False);"
   ]
  },
  {
   "cell_type": "markdown",
   "metadata": {},
   "source": [
    "# Simulations with a Particle-in-Cell Code"
   ]
  },
  {
   "cell_type": "markdown",
   "metadata": {},
   "source": [
    "In this project you simulate plasmas with similar conditions as in Project 1a and 2a.\n",
    "\n",
    "Each plasma electron is initialized with positions (only in $x$ or what we call $x_1$) such that the density is uniform. The ions are initialized at the same positions but they have an infinite mass.  Each electron is also initialized with velocities ($v_1$, $v_2$, $v_3$) or momentum ($mv_1$, $mv_2$, $mv_3$) from a Maxwellian in each direction. The particles then begin to move in the self-consistent fields that their current and charge density produce.\n",
    "\n",
    "* The length of the plasmas is 50 $c/\\omega_p$\n",
    "* The simulation will run for a time 400 $1/\\omega_p$.\n",
    "* The simulation uses 50,000 particles.\n",
    "\n",
    "You will be looking at plots of the electric field in the $x_3$ direction, $E_3$, which corresponds to O-waves, and at electric fields in the $x_1$ and $x_2$ directions, $E_1$ and $E_2$, which corresponds to X-waves."
   ]
  },
  {
   "cell_type": "markdown",
   "metadata": {},
   "source": [
    "### The following lines must always be executed before running anything else.\n",
    "\n",
    "Reminder: Hit Shift+Enter to run a cell, or select the cell and click on the \"Run\" button in the top menu bar"
   ]
  },
  {
   "cell_type": "code",
   "execution_count": null,
   "metadata": {},
   "outputs": [],
   "source": [
    "import osiris\n",
    "%matplotlib inline"
   ]
  },
  {
   "cell_type": "markdown",
   "metadata": {},
   "source": [
    "## Run cases in which $\\Omega_{ce} = 0.5 \\omega_{pe}$ and $2.0 \\omega_{pe}$."
   ]
  },
  {
   "cell_type": "code",
   "execution_count": null,
   "metadata": {},
   "outputs": [],
   "source": [
    "dirname = 'therm-b05'\n",
    "osiris.runosiris(rundir=dirname,inputfile='therm-b05.txt')"
   ]
  },
  {
   "cell_type": "code",
   "execution_count": null,
   "metadata": {},
   "outputs": [],
   "source": [
    "dirname = 'therm-b20'\n",
    "osiris.runosiris(rundir=dirname,inputfile='therm-b20.txt')"
   ]
  },
  {
   "cell_type": "markdown",
   "metadata": {},
   "source": [
    "## Case for which $\\Omega_{ce} = 0.5 \\omega_{pe}$."
   ]
  },
  {
   "cell_type": "markdown",
   "metadata": {},
   "source": [
    "After the simulation is finished, plot $E_3(x_1)$ at $t \\approx 100$ (run the next cell). \n",
    "* Do you see any evidence of a coherent wave?\n",
    "* Does the plot make sense?"
   ]
  },
  {
   "cell_type": "code",
   "execution_count": null,
   "metadata": {},
   "outputs": [],
   "source": [
    "dirname = 'therm-b05'\n",
    "osiris.field(rundir=dirname, dataset='e2', time=100)"
   ]
  },
  {
   "cell_type": "markdown",
   "metadata": {},
   "source": [
    "Next, plot $E_3(t)$ at $x_1=5 c/\\omega_p$ (i.e., at cell=100). \n",
    "* Do you see any evidence of a coherent wave? \n",
    "* Does the plot make sense?"
   ]
  },
  {
   "cell_type": "code",
   "execution_count": null,
   "metadata": {},
   "outputs": [],
   "source": [
    "dirname = 'therm-b05'\n",
    "osiris.field(rundir=dirname, dataset='e2', space=100)"
   ]
  },
  {
   "cell_type": "markdown",
   "metadata": {},
   "source": [
    "Next, in the following two cells, we are going to plot $\\omega(k)$.  This is generated by taking $E_3(x_1,t)$ and Fourier analyzing in both position and time."
   ]
  },
  {
   "cell_type": "markdown",
   "metadata": {},
   "source": [
    "-------\n",
    "* $\\omega(k)$ with wavenumber in units of [k] = $\\omega_{pe}/c$: "
   ]
  },
  {
   "cell_type": "code",
   "execution_count": null,
   "metadata": {},
   "outputs": [],
   "source": [
    "# omode\n",
    "dirname = 'therm-b05'\n",
    "osiris.plot_wk(rundir=dirname, wlim=[0,5], klim=[0,15], vth = 0.1, b0_mag=0.5, vmin=-5, vmax=2, plot_or=3) \n",
    "osiris.plot_wk(rundir=dirname, wlim=[0,5], klim=[0,15], vth = 0.1, b0_mag=0.5, vmin=-5, vmax=2, plot_or=3, \n",
    "               show_theory=True) "
   ]
  },
  {
   "cell_type": "markdown",
   "metadata": {},
   "source": [
    "* Do these plots make sense?"
   ]
  },
  {
   "cell_type": "markdown",
   "metadata": {},
   "source": [
    "-------\n",
    "* $\\omega(k)$ with wavenumber in units of [k] = $\\lambda_{De}$: "
   ]
  },
  {
   "cell_type": "code",
   "execution_count": null,
   "metadata": {},
   "outputs": [],
   "source": [
    "# xmode\n",
    "dirname = 'therm-b05'\n",
    "osiris.plot_wk(rundir=dirname, wlim=[0,5], klim=[0,25], vmin=-1, vmax=3, vth = 0.02, b0_mag=0.5, plot_or=2) \n",
    "osiris.plot_wk(rundir=dirname, wlim=[0,5], klim=[0,25], vmin=-1, vmax=3, vth = 0.02, b0_mag=0.5, plot_or=2, \n",
    "               show_theory=True) "
   ]
  },
  {
   "cell_type": "markdown",
   "metadata": {},
   "source": [
    "* What are the range of frequencies where the x-wave exists?\n",
    "* Why do you think you do not see any signal in $E_2$ for $\\frac{kc}{\\omega_p}$ > 10 for the waves near $\\omega_H$?\n",
    "* What is the order of $\\omega_R$, $\\omega_L$, $\\omega_H$, and $\\omega_p$? (highest to lowest)"
   ]
  },
  {
   "cell_type": "code",
   "execution_count": null,
   "metadata": {},
   "outputs": [],
   "source": [
    "# xmode\n",
    "dirname = 'therm-b05'\n",
    "osiris.plot_wk(rundir=dirname, wlim=[0,5], klim=[0,25], vmin=-1, vmax=3, vth=0.02, b0_mag=0.5, plot_or=1) \n",
    "osiris.plot_wk(rundir=dirname, wlim=[0,5], klim=[0,25], vmin=-1, vmax=3, vth=0.02, b0_mag=0.5, plot_or=1, \n",
    "               show_theory=True) "
   ]
  },
  {
   "cell_type": "markdown",
   "metadata": {},
   "source": [
    "* Why don't you see much signal in $E_1$ for the frequencies above $\\omega_R$\n",
    "* Do you have any guesses as to what the extra curve is due to?\n"
   ]
  },
  {
   "cell_type": "markdown",
   "metadata": {},
   "source": [
    "## Case for which $\\Omega_{ce} = 2.0 \\omega_{pe}$."
   ]
  },
  {
   "cell_type": "code",
   "execution_count": null,
   "metadata": {},
   "outputs": [],
   "source": [
    "dirname = 'therm-b20'\n",
    "osiris.plot_wk(rundir=dirname, wlim=[0,5], klim=[0,15], vmin=-5, vmax=2, vth = 0.1, b0_mag=2.0, plot_or=3) \n",
    "osiris.plot_wk(rundir=dirname, wlim=[0,5], klim=[0,15], vmin=-5, vmax=2, vth = 0.1, b0_mag=2.0, plot_or=3, \n",
    "               show_theory=True) "
   ]
  },
  {
   "cell_type": "markdown",
   "metadata": {},
   "source": [
    "* Why didn't the $\\omega (k)$ plots for $E_3$ change when $B_3$ was increased?"
   ]
  },
  {
   "cell_type": "code",
   "execution_count": null,
   "metadata": {},
   "outputs": [],
   "source": [
    "dirname = 'therm-b20'\n",
    "osiris.plot_wk(rundir=dirname, wlim=[0,5], klim=[0,15], vmin=-5, vmax=2, vth=0.02, b0_mag=2.0, plot_or=2) \n",
    "osiris.plot_wk(rundir=dirname, wlim=[0,5], klim=[0,15], vmin=-5, vmax=2, vth=0.02, b0_mag=2.0, plot_or=2, \n",
    "               show_theory=True) "
   ]
  },
  {
   "cell_type": "markdown",
   "metadata": {},
   "source": [
    "* When $B_3$ was increased did the order of $\\omega_R$, $\\omega_L$, $\\omega_H$, and $\\omega_p$ change?"
   ]
  },
  {
   "cell_type": "code",
   "execution_count": null,
   "metadata": {},
   "outputs": [],
   "source": [
    "dirname = 'therm-b20'\n",
    "osiris.plot_wk(rundir=dirname, wlim=[0,5], klim=[0,15], vmin=-5, vmax=2, vth = 0.1, b0_mag=2.0, plot_or=1) \n",
    "osiris.plot_wk(rundir=dirname, wlim=[0,5], klim=[0,15], vmin=-5, vmax=2, vth = 0.1, b0_mag=2.0, plot_or=1, \n",
    "               show_theory=True) "
   ]
  },
  {
   "cell_type": "markdown",
   "metadata": {},
   "source": [
    "* Why is the signal stronger (weaker)  for the modes with $\\omega$ near $\\omega_H$ for $\\frac{kc}{\\omega_p}$>4?"
   ]
  }
 ],
 "metadata": {
  "anaconda-cloud": {},
  "kernelspec": {
   "display_name": "Python 3",
   "language": "python",
   "name": "python3"
  },
  "language_info": {
   "codemirror_mode": {
    "name": "ipython",
    "version": 3
   },
   "file_extension": ".py",
   "mimetype": "text/x-python",
   "name": "python",
   "nbconvert_exporter": "python",
   "pygments_lexer": "ipython3",
   "version": "3.6.6"
  }
 },
 "nbformat": 4,
 "nbformat_minor": 2
}
