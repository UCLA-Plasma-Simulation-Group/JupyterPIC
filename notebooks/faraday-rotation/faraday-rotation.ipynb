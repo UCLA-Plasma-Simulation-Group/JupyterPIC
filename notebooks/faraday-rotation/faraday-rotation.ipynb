{
 "cells": [
  {
   "cell_type": "markdown",
   "metadata": {},
   "source": [
    "# Project 4b: Wave propagation in magnetized plasmas along B -- Faraday Rotation"
   ]
  },
  {
   "cell_type": "markdown",
   "metadata": {},
   "source": [
    "\n",
    "In this project you will study the propagation of an EM wave into a magnetized plasma while moving along the magnetic field. In such a plasma R and L waves exist. As was discussed in class the R and L waves are circularly polarized. So if you launch a linearly polarized wave in to the plasma you have to first decompose it into right and left handed circularly polarized waves to see what happens when it enters the magnetized plasma. If the frequency of the wave is larger than the $\\omega_R$ (which is larger than $\\omega_L$ for the highest density then both R and L waves will exit and it will propagate through. We will consider this case for this project (this situation could also arise if the frequency of the EM wave was below $\\omega_R$ but below $\\omega_{ce}$ and above $\\omega_L$).\n",
    "\n",
    "However, if the frequency of the EM wave is lower then $\\omega_R$ at the highest density but higher than $\\omega_L$ and $\\omega_{ce}$ then the R wave will be reflected and the L wave will propage through. And if the plasma then ends a circularly polarized wave will exit the plasma. It will be right handed circularly polarized.\n",
    "\n",
    "If the frequency of the EM wave is lower than $\\omega_L$ at the highest density but lower than $\\omega_{ce}$ then the L wave will be reflected and the R wave will propagate through. And if the plasma then ends a circularly polarized wave will exit the plasma. It will be left handed circularly polarized.\n",
    "\n",
    "All of these cases can be studied in this project if ones changes the input files. However, for this project we will examine Faraday rotation so the EM wave will have a frequency above both $\\omega_R$ and $\\omega_L$."
   ]
  },
  {
   "cell_type": "markdown",
   "metadata": {},
   "source": [
    "# Simulations with a Particle-in-Cell Code\n",
    "\n",
    "In this project you simulate plasmas that have a uniform applied magnetic field in the $\\hat{x_1}$ (or $\\hat{x}$) direction. The value of B corresponds to $\\omega_{ce}/\\omega_0$=.5 where the incident EM wave has a frequency of $\\omega_0$. Note that this is different normalization than before. You can think of this as where we are sending the same EM wave into plasmas with different plasma densities but with the same magnetic field.\n",
    "\n",
    "Each plasma electron is initialized with positions (only in $x$ or what we call $x_1$) such that the density is non-uniform. The ions are initialized at the same positions but they have an infinite mass.  Each electron is also initialized with velocities ($v_1$, $v_2$, $v_3$)=(.05c,.05c,.05c) or momentum ($mv_1$, $mv_2$, $mv_3$) from a Maxwellian in each direction. The particles then begin to move in the self-consistent fields that their current and charge density produce. The density will start at 0, rise rapidly to a value of $n_0=.14$ or $n_0=.42$  (make sure you understand the units) at $x_1$=300 and then fall back to 0 at $x_1$=480. \n",
    "\n",
    "* The length of the simulation box is 1000 $c/\\omega_0$\n",
    "* The simulation will run for a time 1100 $1/\\omega_0$.\n",
    "* The simulation uses 50,000 particles.\n",
    "\n",
    "An EM wave that is linearly polarized in the $E_3$ direction is launched from the vacuum. You will be looking at plots of the electric field in the two transverse directions, $(E_2,E_3)$.  "
   ]
  },
  {
   "cell_type": "code",
   "execution_count": null,
   "metadata": {},
   "outputs": [],
   "source": [
    "# Here is the density profile,\n",
    "# you can change the length of the plasma or the external magnetic field \n",
    "# to achieve the perfect change of polarization:\n",
    "\n",
    "# Here we plot the density profile:    \n",
    "from scipy.optimize import fsolve \n",
    "import numpy as np\n",
    "import matplotlib.pyplot as plt\n",
    "%matplotlib inline\n",
    "\n",
    "npeak=0.14\n",
    "xstart = 300\n",
    "xend = 480.0\n",
    "xmax =1000.0\n",
    "xarray=np.arange(0,xmax,10.0)\n",
    "nx=xarray.shape[0]\n",
    "den_array=np.zeros(xarray.shape[0])\n",
    "\n",
    "for ik in range(1,nx):\n",
    "    if (xarray[ik] < xstart):\n",
    "        den_array[ik]=0\n",
    "    elif (xarray[ik] < xend):\n",
    "        den_array[ik]=npeak\n",
    "    else:\n",
    "        den_array[ik] = 0.0\n",
    "        \n",
    "plt.plot(xarray, den_array,'b',label='Plasma Density Profile')\n",
    "\n",
    "plt.xlabel('Z $[c/\\omega_{pe}]$'); plt.ylabel('Density $[n_c]$')\n",
    "plt.title('Plasma Density Profile'); plt.legend()\n",
    "plt.xlim([0,xarray[nx-1]]); plt.ylim([0,1.25*npeak])\n",
    "plt.legend(loc=0)\n",
    "plt.grid(b=True, which='major', axis='both')\n",
    "plt.show()"
   ]
  },
  {
   "cell_type": "code",
   "execution_count": null,
   "metadata": {},
   "outputs": [],
   "source": [
    "import osiris\n",
    "%matplotlib inline"
   ]
  },
  {
   "cell_type": "markdown",
   "metadata": {},
   "source": [
    "## Case 1:  90 degree rotation"
   ]
  },
  {
   "cell_type": "code",
   "execution_count": null,
   "metadata": {},
   "outputs": [],
   "source": [
    "# case 1:  90 degree rotation:\n",
    "dirname = 'faraday-rotation'\n",
    "osiris.runosiris(rundir=dirname,inputfile='faraday-rotation.txt')"
   ]
  },
  {
   "cell_type": "code",
   "execution_count": null,
   "metadata": {},
   "outputs": [],
   "source": [
    "dirname = 'faraday-rotation'\n",
    "osiris.plot_tx(rundir=dirname, b0_mag= 0.3, plot_or=2, show_theory=False,cmap='RdBu') \n",
    "osiris.plot_tx(rundir=dirname, b0_mag= 0.3, plot_or=3, show_theory=False,cmap='RdBu') "
   ]
  },
  {
   "cell_type": "markdown",
   "metadata": {},
   "source": [
    "For this case, $n_0=\\omega_{p0}^2/\\omega_0^2=.14$. Here we plot $E_3$ and $E_2$. \n",
    "\n",
    "* Can you explain the information shown in these two plots? "
   ]
  },
  {
   "cell_type": "markdown",
   "metadata": {},
   "source": [
    "Next we make plots of $E_2 (t)$ and $E_3 (t)$ at positions in the vacuum both before ($x_1=40$) and after ($x_1=500$) the plasma."
   ]
  },
  {
   "cell_type": "code",
   "execution_count": null,
   "metadata": {},
   "outputs": [],
   "source": [
    "from h5_utilities import *\n",
    "\n",
    "e2=read_hdf(dirname+'/e2.h5')\n",
    "e3=read_hdf(dirname+'/e3.h5')\n",
    "\n",
    "nt = e2.data.shape[0]\n",
    "tmax=e2.axes[1].axis_max\n",
    "dt=tmax/(nt)\n",
    "time_axis=np.arange(0,tmax,dt)\n",
    "\n",
    "f,(ax1,ax2,ax3,ax4)=plt.subplots(4,sharex=True,sharey=True)\n",
    "ax1.plot(time_axis,e2.data[:,200],label='e2, incident')\n",
    "ax1.legend()\n",
    "ax2.plot(time_axis,e2.data[:,2500],label='e2, transmitted')\n",
    "ax2.legend()\n",
    "ax3.plot(time_axis,e3.data[:,200],label='e3, incident')\n",
    "ax3.legend()\n",
    "ax4.plot(time_axis,e3.data[:,2500],label='e3, transmitted')\n",
    "ax4.legend()\n",
    "plt.show"
   ]
  },
  {
   "cell_type": "markdown",
   "metadata": {},
   "source": [
    "* Can you explain what you see in these plots?"
   ]
  },
  {
   "cell_type": "markdown",
   "metadata": {},
   "source": [
    "## Below we look at the polarization of the EM wave as it moves across the plasma"
   ]
  },
  {
   "cell_type": "markdown",
   "metadata": {},
   "source": [
    "Next we make a graph where we plot dots for the values of the electric field in the $E_2$ vs. $E_3$ plane. Each dot corresponds to a different time. The colors correspond to different values of $x_1$. Blue is for an $x_1$ in the vacuum before the EM wave enters the plasma, red is for an $x_1$ in the plasma, and green is for an $x_1$ in the vacuum after the wave exits the plasma.\n",
    "\n",
    "* the blue line is the polarization as a function of time at $x_1=40$\n",
    "* the red line is the polarization as a function of time at $x_1=420$\n",
    "* the green line is the polarization as a function of time at $x_1=560$"
   ]
  },
  {
   "cell_type": "code",
   "execution_count": null,
   "metadata": {},
   "outputs": [],
   "source": [
    "dirname = 'faraday-rotation'\n",
    "\n",
    "from h5_utilities import *\n",
    "\n",
    "e2=read_hdf(dirname+'/e2.h5')\n",
    "e3=read_hdf(dirname+'/e3.h5')\n",
    "\n",
    "plt.scatter(e2.data[:,200],e3.data[:,200],c='b',label='in vacuum',s=2)\n",
    "plt.scatter(e2.data[:,2100],e3.data[:,2100],c='r',label='in plasma',s=2)\n",
    "plt.scatter(e2.data[:,2800],e3.data[:,2800],c='g',label='in vacuum (out)',s=2)\n",
    "plt.legend()\n",
    "plt.xlabel('$e_2$',fontsize=18)\n",
    "plt.ylabel('$e_3$',fontsize=18)\n",
    "plt.show()"
   ]
  },
  {
   "cell_type": "markdown",
   "metadata": {},
   "source": [
    "\n",
    "\n",
    "* Can you explain this graph?"
   ]
  },
  {
   "cell_type": "markdown",
   "metadata": {},
   "source": [
    "## Case 2:  270 degree rotation --> this is achieved by changing the plasma density here"
   ]
  },
  {
   "cell_type": "markdown",
   "metadata": {},
   "source": [
    "We next do a simulation in which everything is the same except the plasma density is increased to $n_0=\\omega_{p0}^2/\\omega_0^2=.42$. "
   ]
  },
  {
   "cell_type": "code",
   "execution_count": null,
   "metadata": {},
   "outputs": [],
   "source": [
    "# case 1:  90 degree rotation:\n",
    "dirname = 'faraday-rotation-270'\n",
    "osiris.runosiris(rundir=dirname,inputfile='faraday-rotation-270.txt')"
   ]
  },
  {
   "cell_type": "code",
   "execution_count": null,
   "metadata": {},
   "outputs": [],
   "source": [
    "dirname = 'faraday-rotation-270'\n",
    "osiris.plot_tx(rundir=dirname, b0_mag= 0.3, plot_or=2, show_theory=False,cmap='RdBu') \n",
    "osiris.plot_tx(rundir=dirname, b0_mag= 0.3, plot_or=3, show_theory=False,cmap='RdBu') "
   ]
  },
  {
   "cell_type": "markdown",
   "metadata": {},
   "source": [
    " Here we plot $E_3$ and $E_2$. \n",
    "\n",
    "* Can you explain the differences in these plots as compared to the lower density case?"
   ]
  },
  {
   "cell_type": "markdown",
   "metadata": {},
   "source": [
    "Next we make plots of $E_2 (t)$ and $E_3 (t)$ at positions in the vacuum both before ($x_1=40$) and after ($x_1=500$) the plasma."
   ]
  },
  {
   "cell_type": "code",
   "execution_count": null,
   "metadata": {},
   "outputs": [],
   "source": [
    "from h5_utilities import *\n",
    "\n",
    "e2=read_hdf(dirname+'/e2.h5')\n",
    "e3=read_hdf(dirname+'/e3.h5')\n",
    "\n",
    "nt = e2.data.shape[0]\n",
    "tmax=e2.axes[1].axis_max\n",
    "dt=tmax/(nt)\n",
    "time_axis=np.arange(0,tmax,dt)\n",
    "\n",
    "f,(ax1,ax2,ax3,ax4)=plt.subplots(4,sharex=True,sharey=True)\n",
    "ax1.plot(time_axis,e2.data[:,200],label='e2, incident')\n",
    "ax1.legend()\n",
    "ax2.plot(time_axis,e2.data[:,2500],label='e2, transmitted')\n",
    "ax2.legend()\n",
    "ax3.plot(time_axis,e3.data[:,200],label='e3, incident')\n",
    "ax3.legend()\n",
    "ax4.plot(time_axis,e3.data[:,2500],label='e3, transmitted')\n",
    "ax4.legend()\n",
    "plt.show"
   ]
  },
  {
   "cell_type": "markdown",
   "metadata": {},
   "source": [
    "* Can you explain the differences in these plots from the low density case?"
   ]
  },
  {
   "cell_type": "markdown",
   "metadata": {},
   "source": [
    "## Below we look at the polarization of the EM wave as it moves across the plasma"
   ]
  },
  {
   "cell_type": "markdown",
   "metadata": {},
   "source": [
    "Next we make a graph where we plot dots for the values of the electric field in the $E_2$ vs. $E_3$ plane. Each dot corresponds to a different time. The colors correspond to different values of $x_1$. Blue is for an $x_1$ in the vacuum before the EM wave enters the plasma, red is for an $x_1$ in the plasma, and green is for an $x_1$ in the vacuum after the wave exits the plasma.\n",
    "\n",
    "* the blue line is the polarization as a function of time at $x_1=40$\n",
    "* the red line is the polarization as a function of time at $x_1=420$\n",
    "* the green line is the polarization as a function of time at $x_1=560$"
   ]
  },
  {
   "cell_type": "code",
   "execution_count": null,
   "metadata": {},
   "outputs": [],
   "source": [
    "dirname = 'faraday-rotation-270'\n",
    "\n",
    "from h5_utilities import *\n",
    "\n",
    "e2=read_hdf(dirname+'/e2.h5')\n",
    "e3=read_hdf(dirname+'/e3.h5')\n",
    "\n",
    "plt.scatter(e2.data[:,200],e3.data[:,200],c='b',label='in vacuum',s=2)\n",
    "plt.scatter(e2.data[:,2100],e3.data[:,2100],c='r',label='in plasma',s=2)\n",
    "plt.scatter(e2.data[:,2800],e3.data[:,2800],c='g',label='in vacuum (out)',s=2)\n",
    "plt.legend()\n",
    "plt.xlabel('$e_2$',fontsize=18)\n",
    "plt.ylabel('$e_3$',fontsize=18)\n",
    "plt.show()"
   ]
  },
  {
   "cell_type": "markdown",
   "metadata": {},
   "source": [
    "\n",
    "\n",
    "* Can you explain the differences in these plots as compared to the lower density case?"
   ]
  }
 ],
 "metadata": {
  "kernelspec": {
   "display_name": "Python 3",
   "language": "python",
   "name": "python3"
  },
  "language_info": {
   "codemirror_mode": {
    "name": "ipython",
    "version": 3
   },
   "file_extension": ".py",
   "mimetype": "text/x-python",
   "name": "python",
   "nbconvert_exporter": "python",
   "pygments_lexer": "ipython3",
   "version": "3.6.6"
  }
 },
 "nbformat": 4,
 "nbformat_minor": 2
}
