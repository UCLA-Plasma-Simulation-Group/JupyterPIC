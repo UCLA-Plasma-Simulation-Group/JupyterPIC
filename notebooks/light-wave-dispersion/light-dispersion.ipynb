{
 "cells": [
  {
   "cell_type": "markdown",
   "metadata": {},
   "source": [
    "# Project 2: Electromagnetic Waves"
   ]
  },
  {
   "cell_type": "markdown",
   "metadata": {},
   "source": [
    "In this project, we are going to look at the dispersion relation for electromagnetic waves.\n",
    "\n",
    "The dispersion relation, $\\omega(k)$, tells us the natural frequencies of oscillations for these waves, and the information contained in this function about the relationship between $\\omega$ and $k$ can be used to determine the phase and group velocities of these waves.  [There will be a subsequent notebook on wave velocities]"
   ]
  },
  {
   "cell_type": "markdown",
   "metadata": {},
   "source": [
    "For transverse waves have:\n",
    "\n",
    "* $\\nabla \\cdot \\vec{E} = 0$ -- transverse waves  \n",
    "\n",
    "* $T_e = 0$                  -- cold plasma  \n",
    "\n",
    "* $\\vec{B}_0 = 0$            -- unmagnetized"
   ]
  },
  {
   "cell_type": "markdown",
   "metadata": {},
   "source": [
    "From Maxwell's Equations we have:\n",
    "\n",
    "$$ -\\nabla\\times\\vec{E_1} = \\frac{\\partial}{\\partial t} \\vec{B_1}   $$\n",
    "and\n",
    "$$ \\nabla\\times\\vec{B_1} = \\mu_0\\vec{J_1} + \\mu_0 \\epsilon_0 \\frac{\\partial}{\\partial t}\\vec{E_1} $$\n",
    "\n",
    "Taking the curl of the first equation and substituting into it the second equation, we get:\n",
    "\n",
    "$$ -\\nabla\\times\\nabla\\times\\vec{E_1} = \\frac{\\partial}{\\partial t} \\nabla\\times\\vec{B_1} = \\frac{\\partial}{\\partial t}[\\mu_0\\vec{J_1} + \\mu_0 \\epsilon_0 \\frac{\\partial}{\\partial t}\\vec{E_1}] $$\n",
    "\n",
    "Since $-\\nabla\\times\\nabla\\times\\vec{A} = \\nabla^2\\vec{A} - \\nabla(\\nabla \\cdot\\vec{A})$, we have\n",
    "\n",
    "$$ \\nabla^2\\vec{E_1} - \\frac{1}{c^2}\\frac{\\partial^2}{\\partial t^2}\\vec{E_1} - \\nabla(\\nabla \\cdot\\vec{E_1}) = \\mu_0\\frac{\\partial}{\\partial t}\\vec{J_1} $$\n",
    "\n",
    "For transverse waves, $ \\nabla \\cdot\\vec{E_1} = 0 $, so\n",
    "\n",
    "\\begin{align*}\n",
    "    \\nabla^2\\vec{E_1} - \\frac{1}{c^2}\\frac{\\partial^2}{\\partial t^2}\\vec{E_1} \n",
    "    & = \\mu_0 \\frac{\\partial}{\\partial t}\\vec{J_1} \\\\\n",
    "    & = \\mu_0 e n_0 \\frac{\\partial}{\\partial t}[\\vec{v_i}-\\vec{v_e}] \\\\\n",
    "    & = \\mu_0 e \\Big[\\frac{e}{M}\\vec{E_1} + \\frac{e}{m}\\vec{E_1}\\Big]\\frac{\\epsilon_0}{\\epsilon_0} \\\\\n",
    "    & = \\mu_0 \\epsilon_0 \\Big[\\frac{e^2 n_0}{\\epsilon_0 M} + \\frac{e^2 n_0}{\\epsilon_0  m}\\Big]\\vec{E_1}\n",
    "\\end{align*}\n",
    "\n",
    "Where in the third line we used Euler's equations.  Plugging in our definitions for $\\Omega_p$ and $\\omega_p$ and moving everything to the left hand side, we finally have \n",
    "\n",
    "$$ \\nabla^2\\vec{E_1} - \\frac{1}{c^2}\\frac{\\partial^2}{\\partial t^2}\\vec{E_1} - \\frac{1}{c^2} [\\Omega_p^2 + \\omega_p^2] \\vec{E} = 0 . $$\n",
    "\n",
    "Note as in longitudinal waves in cold unmagnetized plasmas the term $[\\Omega_p^2 + \\omega_p^2]$ appears.  As before, we note that this is a high frequency wave and hence approximate the ions as fixed due to their large mass, hence $[\\Omega_p^2 + \\omega_p^2] \\simeq \\omega_p^2$, and we write the above equation as\n",
    "\n",
    "$$ \\nabla^2\\vec{E_1} - \\frac{1}{c^2}\\frac{\\partial^2}{\\partial t^2}\\vec{E_1} - \\frac{1}{c^2} [\\omega_p^2] \\vec{E} = 0 $$\n",
    "\n",
    "\n",
    "Next, assuming $\\vec{E} = \\vec{\\bar{E}} e^{i(\\vec{k} \\cdot \\vec{x} - \\omega t)} $, we finally obtain\n",
    "\n",
    "$$ \\Big[-k^2 + \\frac{\\omega}{c^2} - \\frac{\\omega_p^2}{c^2}\\Big] \\vec{\\bar{E}} e^{i(\\vec{k} \\cdot \\vec{x} - \\omega t)} = 0 $$\n",
    "\n",
    "$$\\Rightarrow \\omega^2 = \\omega_p^2 + c^2k^2,$$\n",
    "\n",
    "the dispersion relation for an electromagnetic wave in an unmagentized plasma!  \n",
    "\n",
    "It is plotted below."
   ]
  },
  {
   "cell_type": "code",
   "execution_count": null,
   "metadata": {},
   "outputs": [],
   "source": [
    "# Plotting w(k) for electromagnetic waves\n",
    "import ipywidgets\n",
    "import numpy as np\n",
    "import matplotlib.pyplot as plt\n",
    "%matplotlib inline\n",
    "\n",
    "def emdisp(wp):\n",
    "    N = 5\n",
    "    k = np.linspace(-N,N,N*20)\n",
    "    c = 1\n",
    "    w = np.sqrt(wp**2 + c**2 * k**2)\n",
    "    cline = k\n",
    "    plt.plot(k,w, label='$\\omega$(k)')\n",
    "    plt.plot(k,cline, label='slope = c')\n",
    "    plt.xlabel('k [$c/\\omega_p$]')\n",
    "    plt.ylabel('$\\omega$ (in units of $\\omega_p$)')\n",
    "    plt.xlim(-N,N)\n",
    "    plt.ylim(0,N+1)\n",
    "    plt.grid(b=True, which='major', axis='both')\n",
    "    plt.legend(loc=0)\n",
    "    plt.show()\n",
    "    \n",
    "ipywidgets.interact(emdisp,wp=(0.0,2.0),continuous_update=False);"
   ]
  },
  {
   "cell_type": "markdown",
   "metadata": {},
   "source": [
    "A couple of things to note about this plot:\n",
    "\n",
    "* recalling expressions for phase velocity, $v_{\\phi}=\\omega/k$, and group velocity, $v_g = \\frac{d\\omega}{dk}$ we obtain\n",
    "$$ v_g = c\\sqrt{1-\\omega_p^2/\\omega^2} $$\n",
    "$$ v_{\\phi} = c / \\sqrt{1-\\omega_p^2/\\omega^2} $$\n",
    "\n",
    "* Comparing this with the plot, confirm that indeed $v_g = 0$ for $k = 0$, and that $v_g \\rightarrow c$ as $k \\rightarrow \\infty$.  Importantly, although $v_{\\phi} > c$, we have $v_g < c$.  Thus special relativity is not violated, since information can only propagate at the group velocity and not at the phase velocity. \n",
    "\n",
    "* Also note, if $\\omega < \\omega_p$ a wave cannot propogate since $k$ becomes imaginary and we get an evanescent wave.  \n"
   ]
  },
  {
   "cell_type": "markdown",
   "metadata": {},
   "source": [
    "# Simulations with a Particle-in-Cell Code"
   ]
  },
  {
   "cell_type": "markdown",
   "metadata": {},
   "source": [
    "In this project you simulate plasmas with exactly the same conditions as in Project 1a.\n",
    "\n",
    "Each plasma electron is initialized with positions (only in $x$ or what we call $x_1$) such that the density is uniform. The ions are initialized at the same positions but they have an infinite mass.  Each electron is also initialized with velocities ($v_1$, $v_2$, $v_3$) or momentum ($mv_1$, $mv_2$, $mv_3$) from a Maxwellian in each direction. The particles then begin to move in the self-consistent fields that their current and charge density produce.\n",
    "\n",
    "* The length of the plasmas is 50 $c/\\omega_p$\n",
    "* The simulation will run for a time 400 $1/\\omega_p$.\n",
    "* The simulation uses 50,000 particles.\n",
    "\n",
    "You will be looking at plots of the electric field in the $x_3$ direction, $E_3$.  In Project 1a you plotted $E_1$."
   ]
  },
  {
   "cell_type": "markdown",
   "metadata": {},
   "source": [
    "### The following lines must always be executed before running anything else.\n",
    "\n",
    "Reminder: Hit Shift+Enter to run a cell, or select the cell and click on the \"Run\" button in the top menu bar"
   ]
  },
  {
   "cell_type": "code",
   "execution_count": null,
   "metadata": {},
   "outputs": [],
   "source": [
    "import osiris\n",
    "%matplotlib inline"
   ]
  },
  {
   "cell_type": "markdown",
   "metadata": {},
   "source": [
    "## Run a case in which $vth_1=vth_2=vth_3=0.02 c$."
   ]
  },
  {
   "cell_type": "code",
   "execution_count": null,
   "metadata": {},
   "outputs": [],
   "source": [
    "# vth/c = 0.02\n",
    "dirname = 'v02'\n",
    "osiris.runosiris(rundir=dirname,inputfile='v02.txt')"
   ]
  },
  {
   "cell_type": "markdown",
   "metadata": {},
   "source": [
    "After the simulation is finished, plot $E_3(x_1)$ at $t \\approx 100$ (run the next cell). \n",
    "* Do you see any evidence of an electromagnetic wave? \n",
    "* Does the plot make sense?"
   ]
  },
  {
   "cell_type": "code",
   "execution_count": null,
   "metadata": {},
   "outputs": [],
   "source": [
    "dirname = 'v02'\n",
    "osiris.field(rundir=dirname, dataset='e3', time=100)"
   ]
  },
  {
   "cell_type": "markdown",
   "metadata": {},
   "source": [
    "Next, plot $E_3(t)$ at $x_1=5 c/\\omega_p$ (i.e., at cell=100). \n",
    "* Do you see any evidence of an electromagnetic wave? \n",
    "* Does the plot make sense?"
   ]
  },
  {
   "cell_type": "code",
   "execution_count": null,
   "metadata": {},
   "outputs": [],
   "source": [
    "dirname = 'v02'\n",
    "osiris.field(rundir=dirname, dataset='e3', space=100)"
   ]
  },
  {
   "cell_type": "markdown",
   "metadata": {},
   "source": [
    "Next, in the following two cells, we are going to plot $\\omega(k)$.  This is generated by taking $E_3(x_1,t)$ and Fourier analyzing in both position and time."
   ]
  },
  {
   "cell_type": "markdown",
   "metadata": {},
   "source": [
    "-------\n",
    "* $\\omega(k)$ with wavenumber in units of [k] = $\\omega_{pe}/c$: "
   ]
  },
  {
   "cell_type": "code",
   "execution_count": null,
   "metadata": {},
   "outputs": [],
   "source": [
    "dirname = 'v02'\n",
    "osiris.plot_wk(rundir=dirname, wlim=[0,10], klim=[0,10], vth = 0.02, vmin=-7, vmax=2, plot_or=3) \n",
    "osiris.plot_wk(rundir=dirname, wlim=[0,10], klim=[0,10], vth = 0.02, vmin=-7, vmax=2, plot_or=3, show_theory=True) "
   ]
  },
  {
   "cell_type": "markdown",
   "metadata": {},
   "source": [
    "-------\n",
    "* $\\omega(k)$ with wavenumber in units of [k] = $\\lambda_{De}$: "
   ]
  },
  {
   "cell_type": "code",
   "execution_count": null,
   "metadata": {},
   "outputs": [],
   "source": [
    "dirname = 'v02'\n",
    "osiris.plot_wk(rundir=dirname, wlim=[0,10], klim=[0,0.4], vth = 0.02, vmin=-7, vmax=2, show_theory=True, \n",
    "               debye=True, plot_or=3) "
   ]
  },
  {
   "cell_type": "markdown",
   "metadata": {},
   "source": [
    "I would like you to think about units:\n",
    "* What do you think are the natural units for $\\omega$? \n",
    "* What about k? \n",
    "\n",
    "We are plotting them in what are called normalized units (not inverse time or inverse distance). We use two choices ($\\omega/\\omega_p$ and $kc/\\omega_p$) and ($\\omega/\\omega_p$ and $kv_{th}/\\omega_p = k\\lambda_D$).\n",
    "\n",
    "We also plot the theory curve:\n",
    "* Does it make sense? \n",
    "* Why do you think it agrees better for all wavenumber than did the plot in Project 1a whichw as for Bohm-Gross waves?"
   ]
  },
  {
   "cell_type": "markdown",
   "metadata": {},
   "source": [
    "## Run a case in which $vth_1=vth_2=vth_3=0.05 c$."
   ]
  },
  {
   "cell_type": "code",
   "execution_count": null,
   "metadata": {},
   "outputs": [],
   "source": [
    "# vth/c = 0.05\n",
    "dirname = 'v05'\n",
    "osiris.runosiris(rundir=dirname,inputfile='v05.txt')"
   ]
  },
  {
   "cell_type": "markdown",
   "metadata": {},
   "source": [
    "Make $\\omega(k)$ plots for this case by running the cells below."
   ]
  },
  {
   "cell_type": "markdown",
   "metadata": {},
   "source": [
    "* $\\omega(k)$ with wavenumber in units of [k] = $\\omega_{pe}/c$: "
   ]
  },
  {
   "cell_type": "code",
   "execution_count": null,
   "metadata": {},
   "outputs": [],
   "source": [
    "dirname = 'v05'\n",
    "osiris.plot_wk(rundir=dirname, wlim=[0,10], klim=[0,10], vth = 0.05, vmin=-7, vmax=2, plot_or=3) \n",
    "osiris.plot_wk(rundir=dirname, wlim=[0,10], klim=[0,10], vth = 0.05, vmin=-7, vmax=2, plot_or=3, show_theory=True) "
   ]
  },
  {
   "cell_type": "markdown",
   "metadata": {},
   "source": [
    "-------\n",
    "* $\\omega(k)$ with wavenumber in units of [k] = $\\lambda_{De}$: "
   ]
  },
  {
   "cell_type": "code",
   "execution_count": null,
   "metadata": {},
   "outputs": [],
   "source": [
    "dirname = 'v05'\n",
    "osiris.plot_wk(rundir=dirname, wlim=[0,10], klim=[0,0.4], vth = 0.05, vmin=-7, vmax=2, show_theory=True, \n",
    "               plot_or=3, debye=True) "
   ]
  },
  {
   "cell_type": "markdown",
   "metadata": {},
   "source": [
    "### Questions\n",
    "* Do the $\\omega(k)$ plots make sense? \n",
    "* For which normalized units do the plots look similar to case b?"
   ]
  },
  {
   "cell_type": "markdown",
   "metadata": {},
   "source": [
    "## Run a case in which $vth_1=vth_2=vth_3=0.20 c$."
   ]
  },
  {
   "cell_type": "code",
   "execution_count": null,
   "metadata": {},
   "outputs": [],
   "source": [
    "# vth/c = 0.2\n",
    "dirname = 'v20'\n",
    "osiris.runosiris(rundir=dirname,inputfile='v20.txt')"
   ]
  },
  {
   "cell_type": "markdown",
   "metadata": {},
   "source": [
    "Make $\\omega(k)$ plots for this case by running the cells below."
   ]
  },
  {
   "cell_type": "markdown",
   "metadata": {},
   "source": [
    "* $\\omega(k)$ with wavenumber in units of [k] = $\\omega_{pe}/c$: "
   ]
  },
  {
   "cell_type": "code",
   "execution_count": null,
   "metadata": {},
   "outputs": [],
   "source": [
    "dirname = 'v20'\n",
    "osiris.plot_wk(rundir=dirname, wlim=[0,10], klim=[0,10], vth = 0.20, vmin=-5, vmax=4, plot_or=3) \n",
    "osiris.plot_wk(rundir=dirname, wlim=[0,10], klim=[0,10], vth = 0.20, vmin=-5, vmax=4, plot_or=3, show_theory=True) "
   ]
  },
  {
   "cell_type": "markdown",
   "metadata": {},
   "source": [
    "-------\n",
    "* $\\omega(k)$ with wavenumber in units of [k] = $\\lambda_{De}$: "
   ]
  },
  {
   "cell_type": "code",
   "execution_count": null,
   "metadata": {},
   "outputs": [],
   "source": [
    "dirname = 'v20'\n",
    "osiris.plot_wk(rundir=dirname, wlim=[0,10], klim=[0,0.4], vth = 0.20, vmin=-5, vmax=4, show_theory=True, plot_or=3, debye=True)"
   ]
  },
  {
   "cell_type": "markdown",
   "metadata": {},
   "source": [
    "### Questions\n",
    "\n",
    "* Do the $\\omega(k)$ plots make sense? \n",
    "\n",
    "* For which normalized units do the plots look similar to case a and b?\n",
    "\n",
    "* Look closely at $k=0$. The frequency does not agree with theory as well as for cases a and b. \n",
    " * Is it higher or lower than theory? \n",
    " * Can you think of a reason why?\n",
    " * Does the agreement with the theory depend much the temperature? Can you justify your answer using some equations?"
   ]
  }
 ],
 "metadata": {
  "anaconda-cloud": {},
  "kernelspec": {
   "display_name": "Python 3",
   "language": "python",
   "name": "python3"
  },
  "language_info": {
   "codemirror_mode": {
    "name": "ipython",
    "version": 3
   },
   "file_extension": ".py",
   "mimetype": "text/x-python",
   "name": "python",
   "nbconvert_exporter": "python",
   "pygments_lexer": "ipython3",
   "version": "3.6.6"
  }
 },
 "nbformat": 4,
 "nbformat_minor": 2
}
