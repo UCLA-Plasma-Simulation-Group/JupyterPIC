{
 "cells": [
  {
   "cell_type": "markdown",
   "metadata": {},
   "source": [
    "# 1. The Beam Driven Plasma Wake Field Acceleration\n",
    "\n",
    "## 1.1 Linear Regime\n",
    "\n",
    "\n",
    "\n",
    "## Some Theory\n",
    "\n",
    "The purpose of this notebook is to introduce linear wakefield theory and to investigate the limits of this theory. The notebook is for beam driven wakefields; a sister notebook for laser driven wakefields will be available at later date for those who are interested.\n",
    "\n",
    "As we have seen the forces from the wakefield on a particle moving near the speed of light can be obtained from a single potential $\\psi\\equiv\\phi-A_z$. This is referred to as the wake or pseudo potential and it is gauge invariant. The accelerating and the focusing forces in the wakefield are the longitudinal and transverse gradient of $\\psi$, respectively. So the problem reduces to calculating $\\psi$.\n",
    "\n",
    "There are a variety of paths for deriving the differential equations for $\\psi$. To be instructive, here we use a different derivation than that given in class.  We start from the the Poisson-like equation for $\\psi$: \n",
    "\n",
    "$-{\\nabla_\\perp}^2 \\psi = {\\rho} - J_z$. \n",
    "\n",
    "We keep to keep in mind that the beam's contribution to the RHS is 0 because the beam moves at (nearly) speed of light. So the contribution to the RHS comes from the first order plasma electrons ($\\rho$ from the zeroth order ion and electron densities cancel). Therefore, the linearized version of the Poisson equation for $\\psi$ is:\n",
    "\n",
    "${\\nabla_\\perp}^2 \\psi = -\\rho_1 - v_{z1}$. \n",
    "\n",
    "We next use an important conservation law: $\\gamma - p_z = 1 + \\psi$ where it is assumed that a plasma electron starts at rest: $\\gamma = 1$ and $p_{z0}=1$. For a  particle beam $\\gamma=(1+p_{\\perp}^2+p_z^2)^{1/2}$, while later in the class we will show that if there is a laser field then this relationship is $\\gamma=(1+p_{\\perp}^2+p_z^2+|e\\vec A_\\perp/mc^2|/2)^{1/2}$.\n",
    "\n",
    "Therefore, to first order,  $1 - v_{z1} = 1 + \\psi$ ($\\gamma_1=0$ for a particle beam, this is different for a laser driver). So $v_{z1} =- \\psi$ from which it follows that\n",
    "\n",
    "$\\left({\\nabla_\\perp}^2 - 1\\right) \\psi= -\\rho_1$. \n",
    "\n",
    "However, we need one more equation to relate the plasma density to the beam density.\n",
    "\n",
    "We start from the continuity equation for plasma electrons: $\\frac{\\partial \\rho}{\\partial t} + \\nabla \\cdot (\\rho v) = 0$. Upon linearizing it, we have: $\\frac{\\partial \\rho_1}{\\partial t} - \\nabla \\cdot \\textbf v_1 = 0$\n",
    "\n",
    "Applying $\\frac{\\partial}{\\partial t}$ to this equation, gives: $\\frac{\\partial^2 \\rho_1}{\\partial t^2} - \\nabla \\cdot \\frac{\\partial \\textbf v_{1}}{\\partial t} = 0$\n",
    "\n",
    "From the linearized Euler equation: $\\frac{\\partial \\textbf v_{1}}{\\partial t} = -\\textbf E_1$ (this is different for a laser driver). Substituting this into the equation above, leads to: $\\frac{\\partial^2 \\rho_1}{\\partial t^2} + \\nabla \\cdot \\textbf E_1 = 0$\n",
    "\n",
    "From the linearized Gauss's law, it follows that: $\\nabla \\cdot \\textbf E_1 = \\rho_1 + \\rho_{b}$.  Substituting this into the equation above, gives: $\\frac{\\partial^2 \\rho_1}{\\partial t^2} + \\rho_1 = -\\rho_{b} $. \n",
    "\n",
    "Applying the QSA, leads to: $\\frac{\\partial^2 \\rho_1}{\\partial \\xi^2} + \\rho_1 = -\\rho_b $,where $\\rho_b$ is given and $\\xi\\equiv ct-z$.\n",
    "\n",
    "We therefore have two coupled equations,\n",
    "\n",
    "$\\displaystyle\\left({\\nabla_\\perp}^2 - 1\\right) \\psi= -\\rho_1$\n",
    "\n",
    "$\\displaystyle\\left(\\frac{\\partial^2 }{\\partial \\xi^2} + 1\\right)\\rho_1 = -\\rho_b $.\n",
    "\n",
    "Eliminating $\\rho_1$ leads to a single equation for $\\psi$,\n",
    "\n",
    "$\\displaystyle\\left(\\frac{\\partial^2 }{\\partial \\xi^2} + 1\\right)\\left({\\nabla_\\perp}^2 - 1\\right) \\psi= \\rho_b$\n",
    "\n",
    "We look for a separable Greens function to this equaton, i.e., we assume $G=G_\\perp(\\mathbf{r})G_{||}(\\xi)$ and $\\rho_b=\\rho_\\perp(\\mathbf{r})\\rho_{||}(\\xi)$. So,\n",
    "\n",
    "$\\displaystyle \\left(\\frac{\\partial^2 }{\\partial \\xi^2} + 1\\right)G(\\xi)=\\delta(\\xi)$\n",
    "\n",
    "$\\left({\\nabla_\\perp}^2 - 1\\right) G(\\mathbf{r})= \\delta(\\mathbf{r})$ ,\n",
    "\n",
    "so that $\\psi = (G(\\xi) * \\rho_{||}(\\xi))( G(\\mathbf{r})*\\rho_\\perp (\\mathbf{r}))$ ($*$ is the convolution). The Greens functions for these operators are\n",
    "\n",
    "$G(\\xi)=\\Theta(\\xi)\\sin(\\xi)$\n",
    "\n",
    "$\\displaystyle G(\\mathbf{r})=-\\frac{K_0(\\mathbf{r})}{2\\pi}$,\n",
    "\n",
    "where $K_0(\\mathbf{r})$ is modified Bessel function of the second kind. We can therefore write out full expression for $\\psi$ as an integral of $\\rho_b$ over the Green's functions, \n",
    "\n",
    "$ \\displaystyle \\psi(\\xi,\\mathbf{r}) = \\frac{1}{2\\pi}\\int_{\\xi}^{\\infty}d\\xi' \\int_{0}^{2\\pi} d\\theta' \\int_{0}^{\\infty} dr'r'\\rho_b\\left(\\textbf r',\\xi'\\right)\\sin\\left(\\xi - \\xi'\\right)K_0\\left(\\left|\\textbf r - \\textbf r'\\right|\\right) $\n",
    "\n",
    "Once we have $\\psi$, we can calculate the fields by taking appropriate derivatives. For $E_z$, we have\n",
    "\n",
    "$E_z(\\xi,\\mathbf{r})=\\dfrac{\\partial \\psi }{\\partial \\xi} =Z'(\\xi)R(\\mathbf{r})$,\n",
    "\n",
    "where\n",
    "\n",
    "$\\displaystyle Z'(\\xi)=-\\int_\\xi^\\infty d\\xi' \\rho_{||} (\\xi')\\cos(\\xi-\\xi')$\n",
    "\n",
    "$\\displaystyle R(\\mathbf{r})=\\frac{1}{2\\pi}\\int_0^{2\\pi}d\\theta'\\int_0^\\infty dr' r' \\rho_\\perp(r')K_0\\left( \\left| \\mathbf{r}-\\mathbf{r}' \\right| \\right)$.\n",
    "\n",
    "The focusing force can be written as\n",
    "\n",
    "$\\displaystyle \\mathbf{F}_\\perp(\\mathbf{r})=\\nabla_\\perp \\psi=Z(\\xi)R'(\\mathbf{r})$.\n",
    "\n",
    "We can take the gradient inside the $R(\\mathbf{r})$ integral and act on the modified Bessel function, to get\n",
    "\n",
    "$\\displaystyle R'(\\mathbf{r})=\\frac{1}{2\\pi}\\int_0^{2\\pi}d\\theta'\\int_0^\\infty dr' r' \\rho_\\perp(r')\\frac{( r'\\cos\\theta' -r)}{\\left| \\mathbf{r}-\\mathbf{r}' \\right|}K_1\\left( \\left| \\mathbf{r}-\\mathbf{r}' \\right| \\right)$.\n",
    "\n",
    "The on-axis $E_z$ for a Gaussian drive beam can be calculated analytically for $\\xi \\gg \\sigma_z$  as\n",
    "\n",
    "$\\displaystyle E_z(\\xi,r=0)=\\sqrt{2\\pi}\\left(\\frac{q}{e}\\right) \\left(\\frac{n_b}{n_p} \\right) \\left( \\frac{k_p^3\\sigma_z\\sigma_r^2}{2} e^{-k_p^2\\sigma_z^2/2}e^{k_p^2\\sigma_r^2/2} \\right) \\Gamma \\left(0,\\frac{k_p^2\\sigma_r^2}{2}\\right)$,\n",
    "\n",
    "where $\\Gamma$ is the upper incomplete Gamma function. Alternatively, one could numerically integrate for $R(r)$ and $Z'(\\xi)$ to expressions for the wake fields. Similarly, for the plasma density we have \n",
    "\n",
    "$\\displaystyle\\rho_1(\\xi,r) = \\rho_\\perp(r)\\int_\\xi^\\infty d\\xi' \\rho_{||}(\\xi')\\sin\\left(\\xi-\\xi'\\right)$.\n",
    "\n",
    "In the following, we will run a one 3D timestep QuickPIC simulation and compare these integrated expressions with the simulation output data.\n",
    "\n",
    "In the final cell, we check the simulation obeys the Panofsky-Wenzel theorem by differentiating the $E_z$ and $F_\\perp$ from the simulation, i.e. checking\n",
    "\n",
    "$\\displaystyle \\frac{\\partial E_z}{\\partial r}=\\frac{\\partial F_\\perp}{\\partial \\xi}$."
   ]
  },
  {
   "cell_type": "markdown",
   "metadata": {},
   "source": [
    "### 1. Make the input file\n",
    "\n",
    "To run the simulation in the linear regime, it is suggested to change $n_{peak}$ to less than 1"
   ]
  },
  {
   "cell_type": "code",
   "execution_count": 2,
   "metadata": {},
   "outputs": [
    {
     "data": {
      "application/vnd.jupyter.widget-view+json": {
       "model_id": "adb7dbff7d1d497ab9fb71b7299da20f",
       "version_major": 2,
       "version_minor": 0
      },
      "text/plain": [
       "interactive(children=(Text(value='qpinput_linear.json', description='Template Input File:', layout=Layout(widt…"
      ]
     },
     "metadata": {},
     "output_type": "display_data"
    }
   ],
   "source": [
    "from importlib import reload\n",
    "import qphelper, os\n",
    "import quickpic\n",
    "import pwcheck\n",
    "import pyVisQP\n",
    "\n",
    "rundir_linear = 'rundir_linear'\n",
    "rundir_nonlinear = 'rundir_nonlinear'\n",
    "qphelper = reload(qphelper)\n",
    "qphelper.makeWidgetsForPWFAInput('linear')"
   ]
  },
  {
   "cell_type": "markdown",
   "metadata": {},
   "source": [
    "### 2. Run QuickPIC simulation"
   ]
  },
  {
   "cell_type": "code",
   "execution_count": 6,
   "metadata": {},
   "outputs": [
    {
     "name": "stdout",
     "output_type": "stream",
     "text": [
      "quickpic completed normally\n"
     ]
    }
   ],
   "source": [
    "qphelper.deleteAllOutput()\n",
    "\n",
    "quickpic.runqpic(rundir=rundir_linear,inputfile='qpinput_linear.json')"
   ]
  },
  {
   "cell_type": "markdown",
   "metadata": {},
   "source": [
    "### 3. Visualize the output data"
   ]
  },
  {
   "cell_type": "code",
   "execution_count": 3,
   "metadata": {},
   "outputs": [
    {
     "data": {
      "application/vnd.jupyter.widget-view+json": {
       "model_id": "e698c55812a44efe836131d5aa6c46cb",
       "version_major": 2,
       "version_minor": 0
      },
      "text/plain": [
       "interactive(children=(FloatSlider(value=0.0, continuous_update=False, description='x_position', max=3.0, min=-…"
      ]
     },
     "metadata": {},
     "output_type": "display_data"
    }
   ],
   "source": [
    "#The numerical integration for some plots may take a while.\n",
    "#We have tuned the numerical parameters so that we maintain decent accuracy while running in real time, more or less.\n",
    "#If you choose very different input parameters for the simulation some of the integrals may break.\n",
    "\n",
    "qphelper = reload(qphelper)\n",
    "qphelper.makeplot(rundir_linear,'qpinput_linear.json',True)"
   ]
  },
  {
   "cell_type": "code",
   "execution_count": 4,
   "metadata": {},
   "outputs": [
    {
     "data": {
      "application/vnd.jupyter.widget-view+json": {
       "model_id": "d0e3f34141e742bd8004cfe94b16fd19",
       "version_major": 2,
       "version_minor": 0
      },
      "text/plain": [
       "interactive(children=(FloatSlider(value=5.75, continuous_update=False, description='xi_position', max=10.0, st…"
      ]
     },
     "metadata": {},
     "output_type": "display_data"
    }
   ],
   "source": [
    "\n",
    "pwcheck=reload(pwcheck)\n",
    "\n",
    "## In this cell we check the Panofsky-Wenzel theorem by differentiating E_z in r and the focusing force in xi and comparing them.\n",
    "# We check the lineout in the x direction.\n",
    "\n",
    "pwcheck.makeplot(rundir_linear)"
   ]
  },
  {
   "cell_type": "code",
   "execution_count": null,
   "metadata": {},
   "outputs": [],
   "source": []
  },
  {
   "cell_type": "code",
   "execution_count": null,
   "metadata": {},
   "outputs": [],
   "source": []
  },
  {
   "cell_type": "code",
   "execution_count": null,
   "metadata": {},
   "outputs": [],
   "source": []
  },
  {
   "cell_type": "markdown",
   "metadata": {},
   "source": [
    "\n",
    "## 1.2 Nonlinear Regime\n",
    "\n",
    "## Calculate the accelerating field: $E_z$ and the focusing force: $\\textbf F_\\perp$\n",
    "\n",
    "Starting from Maxwell equations in Lorentz gauge (We use normalized units): \n",
    "$$(\\frac{\\partial^2}{\\partial t^2}-{\\nabla}^2)\\textbf A =  \\textbf J\\;\\;\\;\\;\\;(\\frac{\\partial^2}{\\partial t^2}-{\\nabla}^2)\\phi = \\rho$$\n",
    "\n",
    "Apply quasistatic approximation: $(x,y,z,t) \\rightarrow (x,y,\\xi = ct - z, s = z )$ and neglect $\\frac{\\partial}{\\partial s}$, we have $\\frac{\\partial}{\\partial z} = -\\frac{\\partial}{\\partial \\xi}$, $\\frac{\\partial}{\\partial t} = \\frac{\\partial}{\\partial \\xi}$, then we get:\n",
    "\n",
    "$$-{\\nabla_\\perp}^2\\textbf A(x,y,\\xi) =  \\textbf J(x,y,\\xi) \\;\\;\\;\\;\\; -{\\nabla_\\perp}^2 \\phi(x,y,\\xi) = \\rho(x,y,\\xi)$$\n",
    "Subtract the $z$ component of the first equation from the second equation, we obtain:\n",
    "\n",
    "$${\\nabla_\\perp}^2 \\psi = -({\\rho} - J_z) \\tag{1}$$ \n",
    "\n",
    "where $\\psi = \\phi - A_z$ is called pseudo potential.\n",
    "\n",
    "Then we calculate the force on a beam electron ( moving at $c$). The Lorentz force equation is:\n",
    "\n",
    "$$\\textbf F = -(\\textbf E + \\hat{z} \\times \\textbf B)$$\n",
    "\n",
    "Plug in \n",
    "\n",
    "$$\\textbf E = -\\nabla \\phi -\\frac{\\partial \\textbf A}{\\partial t}\\;\\;\\;\\;\\;\\;B = \\nabla  \\times \\textbf A$$\n",
    "\n",
    "We get:\n",
    "\n",
    "$$\n",
    "\\textbf F = -[-\\nabla \\phi -\\frac{\\partial \\textbf A}{\\partial t} + \\hat{z} \\times (\\nabla  \\times \\textbf A)] = -[-\\nabla \\phi -\\frac{\\partial \\textbf A}{\\partial t} + \\nabla \\textbf A \\cdot \\hat{z} - \\hat z \\cdot \\nabla \\textbf A] \n",
    "= \\nabla \\phi +\\frac{\\partial \\textbf A}{\\partial t} - \\nabla A_z + \\frac{\\partial \\textbf A}{\\partial z} = \\nabla \\psi\n",
    "$$\n",
    "where we use $\\frac{\\partial}{\\partial t} + \\frac{\\partial}{\\partial z} = \\frac{\\partial}{\\partial \\xi} - \\frac{\\partial}{\\partial \\xi}=0$ in the last step. So we obtain the following conclusions:\n",
    "\n",
    "* The transverse focusing force is : $\\textbf F_\\perp = \\nabla_\\perp \\psi$\n",
    "* The longitudinal accelerating force is : $F_z = \\frac{\\partial \\psi}{\\partial z} = -\\frac{\\partial \\psi}{\\partial \\xi}$ ( Or the accelerating field $E_z = \\frac{\\partial \\psi}{\\partial \\xi}$)\n",
    "\n",
    "Our goal reduces to solving for $\\psi$ using equation (1). It is a 2D Poisson equation! But we need to make some assumptions about the profile of the source term: $-({\\rho} - J_z)$ to give us a mathematical model to work with.\n",
    "\n",
    "We assume the source term to have the following profile:"
   ]
  },
  {
   "cell_type": "code",
   "execution_count": 6,
   "metadata": {},
   "outputs": [
    {
     "data": {
      "image/png": "[encoded data removed]",
      "text/plain": [
       "<Figure size 432x288 with 1 Axes>"
      ]
     },
     "metadata": {
      "needs_background": "light"
     },
     "output_type": "display_data"
    }
   ],
   "source": [
    "import matplotlib.pyplot as plt\n",
    "import numpy as np\n",
    "rb = 2\n",
    "Delta = 0.2\n",
    "epsilon = 0.01\n",
    "peak = rb**2/((rb+Delta)**2 - rb**2)\n",
    "r = [0,rb,rb+epsilon,rb+Delta,rb+Delta+epsilon,3*rb]\n",
    "source = [-1,-1,peak,peak,0,0]\n",
    "plt.plot(r,source)\n",
    "plt.xlabel('$r$')\n",
    "plt.ylabel('$-(\\\\rho - J_z)$')\n",
    "plt.yticks(np.arange(-1, 6, 1))\n",
    "plt.title('$r_b = 2, \\Delta = 0.1$') \n",
    "plt.show()"
   ]
  },
  {
   "cell_type": "markdown",
   "metadata": {},
   "source": [
    "The peak density in the sheath is determined from the continuity equation. For any $\\xi$ we have: $\\int_0^{\\infty}(\\rho - J_z) r dr = 0$. From this we get the peak density in the sheath is: $\\frac{r_b^2}{(r_b + \\Delta)^2 - r_b^2}$\n",
    "\n",
    "So far we have got the source profile. So we can solve the 2D poisson equation (Actually, just 1D in $r$ since we assume azimuthal symmetry) and get $\\psi$. The final solution is:\n",
    "\n",
    "$$\\psi(r,\\xi) = \\psi_0(\\xi) - \\frac{r^2}{4} = \\frac{r_b(\\xi)^2}{4}(1+\\beta) - \\frac{r^2}{4}$$\n",
    "\n",
    "where $\\beta = \\frac{(1+\\alpha)^2 \\ln(1+\\alpha)^2}{(1+\\alpha)^2-1}-1 $, and $\\alpha = \\frac{\\Delta}{r_b}$\n",
    "\n",
    " \n",
    "* The focusing force is : $\\textbf F_\\perp = \\nabla_\\perp \\psi = - \\frac{\\textbf r}{2} $, which is independent of $\\xi$.\n",
    "* The accelerating field is : $E_z = \\frac{\\partial \\psi}{\\partial \\xi}= \\frac{d \\psi_0(\\xi)}{d \\xi}$, which is independent of $r$.\n",
    " \n",
    "In the untrarelativistic limit, $\\alpha$ goes to 0, $\\beta$ goes to 0 as well. Then:\n",
    "\n",
    "$$E_z(\\xi) = \\frac{d}{d \\xi}(\\frac{r_b(\\xi)^2}{4}) = \\frac{1}{2}r_b(\\xi)\\frac{dr_b(\\xi)}{d\\xi}$$\n",
    "\n",
    "Then we may ask: How can we solve for the boundary of the ion bubble: $r_b(\\xi)$? This can be obtained from the equation of motion for an electron on the boundary, but the math is quite complicated. For details, see https://journals.aps.org/prl/abstract/10.1103/PhysRevLett.96.165002\n",
    "\n",
    "In the untrarelativistic limit, $r_b(\\xi)$ is described by:\n",
    "\n",
    "$$r_b\\frac{d^2r_b}{d\\xi^2} + 2[\\frac{dr_b}{d\\xi}]^2+1=\\frac{4\\lambda(\\xi)}{r_b^2}$$\n",
    "\n",
    "where $\\lambda(\\xi) = \\int_0^\\infty rn_b dr$, is the charge per unit length of an electron beam (drive or trailing beam) divided by $2\\pi$."
   ]
  },
  {
   "cell_type": "markdown",
   "metadata": {},
   "source": [
    "### 1. Make the input file\n",
    "\n",
    "To run the simulation in the non-linear regime, it is suggested to change $n_{peak}$ to larger than 5, eg. 5"
   ]
  },
  {
   "cell_type": "code",
   "execution_count": 5,
   "metadata": {},
   "outputs": [
    {
     "data": {
      "application/vnd.jupyter.widget-view+json": {
       "model_id": "23f3a8fdd0c749ec924e9bc0e4f3fcfb",
       "version_major": 2,
       "version_minor": 0
      },
      "text/plain": [
       "interactive(children=(Text(value='qpinput_nonlinear.json', description='Template Input File:', layout=Layout(w…"
      ]
     },
     "metadata": {},
     "output_type": "display_data"
    }
   ],
   "source": [
    "from importlib import reload\n",
    "import qphelper, os\n",
    "import quickpic\n",
    "import pwcheck\n",
    "import pyVisQP\n",
    "\n",
    "rundir_nonlinear = 'rundir_nonlinear'\n",
    "\n",
    "qphelper = reload(qphelper)\n",
    "qphelper.makeWidgetsForPWFAInput('nonlinear')"
   ]
  },
  {
   "cell_type": "markdown",
   "metadata": {},
   "source": [
    "### 2. Run the simulation"
   ]
  },
  {
   "cell_type": "code",
   "execution_count": 2,
   "metadata": {},
   "outputs": [
    {
     "name": "stdout",
     "output_type": "stream",
     "text": [
      "quickpic completed normally\n"
     ]
    }
   ],
   "source": [
    "import quickpic\n",
    "quickpic.runqpic(rundir=rundir_nonlinear,inputfile='qpinput_nonlinear.json')"
   ]
  },
  {
   "cell_type": "markdown",
   "metadata": {},
   "source": [
    "### 3. Visualize the output\n",
    "\n",
    "plot the density, accelerating field and transverse force\n",
    "\n",
    "In the plot, the beam propagates from left to right"
   ]
  },
  {
   "cell_type": "code",
   "execution_count": 6,
   "metadata": {},
   "outputs": [
    {
     "data": {
      "application/vnd.jupyter.widget-view+json": {
       "model_id": "65bb379299984375ab0d39c377d44876",
       "version_major": 2,
       "version_minor": 0
      },
      "text/plain": [
       "interactive(children=(FloatRangeSlider(value=(-5.0, 0.0), continuous_update=False, description='Colorbar:', ma…"
      ]
     },
     "metadata": {},
     "output_type": "display_data"
    }
   ],
   "source": [
    "dirname = rundir_nonlinear\n",
    "\n",
    "# LineoutDir can be chosen from: None, 'transverse', 'longitudinal'\n",
    "\n",
    "# Plot the charge density of plasma and beam\n",
    "filename1 = dirname +'/Species0001/Charge_slice_0001/charge_slice_xz_00000001.h5'\n",
    "filename2 = dirname +'/Beam0001/Charge_slice_0001/charge_slice_xz_00000001.h5'\n",
    "filenameList = [filename1,filename2]\n",
    "scaleList = [1,1]\n",
    "pyVisQP.makeplot(filenameList,scaleList,LineoutDir = 'longitudinal')"
   ]
  },
  {
   "cell_type": "code",
   "execution_count": 7,
   "metadata": {},
   "outputs": [
    {
     "data": {
      "application/vnd.jupyter.widget-view+json": {
       "model_id": "54e99157d82c4cdc8e4f9d5b16f0d49d",
       "version_major": 2,
       "version_minor": 0
      },
      "text/plain": [
       "interactive(children=(FloatRangeSlider(value=(-1.0, 1.0), continuous_update=False, description='Colorbar:', ma…"
      ]
     },
     "metadata": {},
     "output_type": "display_data"
    },
    {
     "data": {
      "application/vnd.jupyter.widget-view+json": {
       "model_id": "02a7b427ed0c4289820b459c201c6dbb",
       "version_major": 2,
       "version_minor": 0
      },
      "text/plain": [
       "interactive(children=(FloatRangeSlider(value=(-1.0, 1.0), continuous_update=False, description='Colorbar:', ma…"
      ]
     },
     "metadata": {},
     "output_type": "display_data"
    }
   ],
   "source": [
    "# Plot the accelerating field with transverse lineout\n",
    "filename = dirname +'/Fields/Ez_slice0001/ezslicexz_00000001.h5'\n",
    "filenameList = [filename]\n",
    "pyVisQP.makeplot(filenameList,LineoutDir = 'transverse',specify_title = '$E_z \\; [mc\\omega_p / e]$')\n",
    "pyVisQP.makeplot(filenameList,LineoutDir = 'longitudinal',specify_title = '$E_z \\; [mc\\omega_p / e]$')"
   ]
  },
  {
   "cell_type": "code",
   "execution_count": 8,
   "metadata": {},
   "outputs": [
    {
     "data": {
      "application/vnd.jupyter.widget-view+json": {
       "model_id": "fcd84fd88e08427b9b1c50d4005cec0b",
       "version_major": 2,
       "version_minor": 0
      },
      "text/plain": [
       "interactive(children=(FloatRangeSlider(value=(-1.0, 1.0), continuous_update=False, description='Colorbar:', ma…"
      ]
     },
     "metadata": {},
     "output_type": "display_data"
    },
    {
     "data": {
      "application/vnd.jupyter.widget-view+json": {
       "model_id": "addfca3bbd5f48e484aaffe3f7b28950",
       "version_major": 2,
       "version_minor": 0
      },
      "text/plain": [
       "interactive(children=(FloatRangeSlider(value=(-1.0, 1.0), continuous_update=False, description='Colorbar:', ma…"
      ]
     },
     "metadata": {},
     "output_type": "display_data"
    }
   ],
   "source": [
    "# Plot the x component of the focusing force : Fx with transverse and longitudinal lineout\n",
    "filename1 = dirname + '/Fields/Ex_slice0001/exslicexz_00000001.h5'\n",
    "filename2 = dirname + '/Fields/By_slice0001/byslicexz_00000001.h5'\n",
    "filenameList = [filename1,filename2]\n",
    "scaleList = [-1,1]\n",
    "pyVisQP.makeplot(filenameList,scaleList,LineoutDir = 'transverse',specify_title = '$F_x \\; [mc\\omega_p]$',Show_theory = 'focus')\n",
    "pyVisQP.makeplot(filenameList,scaleList,LineoutDir = 'longitudinal',specify_title = '$F_x \\; [mc\\omega_p]$',Show_theory = 'focus')"
   ]
  },
  {
   "cell_type": "markdown",
   "metadata": {},
   "source": [
    "We can see that the focusing force $F_x$\n",
    "1. Linear in transverse direction. Linear focusing force preserve the emittance of a monoenergetic beam. Also, due to the linear focusing force, the motion in $x$ and $y$ directions are decoupled.\n",
    "2. Does not depend on the longitudinal position. This ensures that the beam particles at different longitudinal positions will oscillate at the same betatron frequency, if they have the same energy."
   ]
  },
  {
   "cell_type": "markdown",
   "metadata": {},
   "source": [
    "# 2. Laser Driven Plasma Wakefield Acceleration\n",
    "\n",
    "## 2.1 Linear Regime\n",
    "\n",
    "For the laser case, the equation becomes\n",
    "\n",
    "Eliminating $\\rho_1$ leads to a single equation for $\\psi$,\n",
    "\n",
    "$\\displaystyle\\left(\\frac{\\partial^2 }{\\partial \\xi^2} + 1\\right)\\left({\\nabla_\\perp}^2 - 1\\right) \\psi= \\left({\\nabla_\\perp}^2 - 1\\right) \\phi_p$\n",
    "\n",
    "Herem $ \\phi_p = \\frac{a^2}{4}$ is the laser ponderomotive potential. The laser vector potential $\\vec{A} = \\frac{a}{2}(x_\\perp,\\xi)e^{-ik\\xi}+c.c.$\n",
    "\n",
    "We still solve this differential equation using the Green's function:\n",
    "\n",
    "$\\psi = \\int_{-\\infty}^\\xi \\sin{(\\xi-\\xi')} d\\xi'\\int_{-\\infty}^{x_\\perp} dx_\\perp'\\phi_p(x_\\perp',\\xi')$"
   ]
  },
  {
   "cell_type": "code",
   "execution_count": 1,
   "metadata": {},
   "outputs": [],
   "source": [
    "%matplotlib inline\n",
    "import osiris\n",
    "\n",
    "import numpy as np\n",
    "import h5py as h5\n",
    "import matplotlib.pyplot as plt\n",
    "import matplotlib.colors as col\n",
    "\n",
    "from osiris import tajima\n",
    "from laser_helper import *\n",
    "\n",
    "from osh5vis import osplot\n",
    "from osh5io import read_h5\n",
    "from osh5utils import fft\n",
    "from ipywidgets import interact_manual,Layout,interact, FloatSlider\n",
    "import ipywidgets as widgets\n",
    "interact_calc=interact_manual.options(manual_name=\"Make New Input\")"
   ]
  },
  {
   "cell_type": "markdown",
   "metadata": {},
   "source": [
    "### 1. Make the input deck and run the similation\n",
    "\n",
    "Note: The total number of nodes is nodex * nodez. z is the propagation direction and x is the polarization direction.\n",
    "The number should not exceed the total number of cpu (4 if you use JupyterHub)\n",
    "\n",
    "In the linear regime, the normalized vector potential $a_0$ is smaller than 1. "
   ]
  },
  {
   "cell_type": "code",
   "execution_count": 2,
   "metadata": {},
   "outputs": [
    {
     "data": {
      "application/vnd.jupyter.widget-view+json": {
       "model_id": "91a33a1fd1074eceb224f57cbddf9115",
       "version_major": 2,
       "version_minor": 0
      },
      "text/plain": [
       "interactive(children=(Text(value='os-stdin', description='Template Input File:', layout=Layout(width='55%'), s…"
      ]
     },
     "metadata": {},
     "output_type": "display_data"
    }
   ],
   "source": [
    "moving_widget('linear')"
   ]
  },
  {
   "cell_type": "code",
   "execution_count": null,
   "metadata": {},
   "outputs": [],
   "source": []
  },
  {
   "cell_type": "markdown",
   "metadata": {},
   "source": [
    "### 2. Visulization \n",
    "\n",
    "making the density plot and field plots"
   ]
  },
  {
   "cell_type": "code",
   "execution_count": 2,
   "metadata": {},
   "outputs": [
    {
     "data": {
      "application/vnd.jupyter.widget-view+json": {
       "model_id": "32b49cc35f3f411e96eeccdb699fe915",
       "version_major": 2,
       "version_minor": 0
      },
      "text/plain": [
       "interactive(children=(FloatSlider(value=0.0, continuous_update=False, description='x_position', max=5.0, min=-…"
      ]
     },
     "metadata": {},
     "output_type": "display_data"
    },
    {
     "data": {
      "application/vnd.jupyter.widget-view+json": {
       "model_id": "85c437346a8b4c11b00842d6539e5bb2",
       "version_major": 2,
       "version_minor": 0
      },
      "text/plain": [
       "interactive(children=(FloatSlider(value=0.0, continuous_update=False, description='field_id', max=6.0, step=1.…"
      ]
     },
     "metadata": {},
     "output_type": "display_data"
    }
   ],
   "source": [
    "dirname = 'linear'\n",
    "file_id = 3\n",
    "den_path = [dirname +'/MS/DENSITY/H2elec/charge/charge-H2elec-00000'+str(file_id)+'.h5']\n",
    "field_obj = ['e1','e2','e3','b1','b2','b3','psi']\n",
    "field_path = [dirname +'/MS/FLD/'+opt+'/'+opt+'-00000'+str(file_id)+'.h5' for opt in field_obj]\n",
    "path = field_path+den_path\n",
    "makeplot(file_id,path,'density')\n",
    "makeplot(file_id,path,'field')"
   ]
  },
  {
   "cell_type": "markdown",
   "metadata": {},
   "source": [
    "## 2.2 Nonlinear Regime\n",
    "\n",
    "### 1. Make the input file and run the simulation\n",
    "\n",
    "In the blow-out regime, the normalized vector potential $a_0$ is larger than 1. \n",
    "\n",
    "The matched condition for self-focusing is given by $k_p W_0 = 2\\sqrt{a_0}$, $W_0$ is the lser spot size"
   ]
  },
  {
   "cell_type": "code",
   "execution_count": 3,
   "metadata": {},
   "outputs": [
    {
     "data": {
      "application/vnd.jupyter.widget-view+json": {
       "model_id": "c02bc266ff2140b6a44a13fd8e151dac",
       "version_major": 2,
       "version_minor": 0
      },
      "text/plain": [
       "interactive(children=(Text(value='os-stdin', description='Template Input File:', layout=Layout(width='55%'), s…"
      ]
     },
     "metadata": {},
     "output_type": "display_data"
    }
   ],
   "source": [
    "moving_widget('nonlinear')"
   ]
  },
  {
   "cell_type": "markdown",
   "metadata": {},
   "source": [
    "### 2. Visulization"
   ]
  },
  {
   "cell_type": "code",
   "execution_count": 4,
   "metadata": {},
   "outputs": [
    {
     "data": {
      "application/vnd.jupyter.widget-view+json": {
       "model_id": "b3b8a87c5d4c4e39a23ede360c209587",
       "version_major": 2,
       "version_minor": 0
      },
      "text/plain": [
       "interactive(children=(FloatSlider(value=0.0, continuous_update=False, description='x_position', max=5.0, min=-…"
      ]
     },
     "metadata": {},
     "output_type": "display_data"
    },
    {
     "data": {
      "application/vnd.jupyter.widget-view+json": {
       "model_id": "c9534a5a87e34bacbf3c2ed1c0821734",
       "version_major": 2,
       "version_minor": 0
      },
      "text/plain": [
       "interactive(children=(FloatSlider(value=0.0, continuous_update=False, description='field_id', max=6.0, step=1.…"
      ]
     },
     "metadata": {},
     "output_type": "display_data"
    }
   ],
   "source": [
    "dirname = 'nonlinear'\n",
    "file_id = 3\n",
    "den_path = [dirname +'/MS/DENSITY/H2elec/charge/charge-H2elec-00000'+str(file_id)+'.h5']\n",
    "field_obj = ['e1','e2','e3','b1','b2','b3','psi']\n",
    "field_path = [dirname +'/MS/FLD/'+opt+'/'+opt+'-00000'+str(file_id)+'.h5' for opt in field_obj]\n",
    "path = field_path+den_path\n",
    "makeplot(file_id,path,'density')\n",
    "makeplot(file_id,path,'field')"
   ]
  },
  {
   "cell_type": "code",
   "execution_count": null,
   "metadata": {},
   "outputs": [],
   "source": []
  }
 ],
 "metadata": {
  "kernelspec": {
   "display_name": "Python 3",
   "language": "python",
   "name": "python3"
  },
  "language_info": {
   "codemirror_mode": {
    "name": "ipython",
    "version": 3
   },
   "file_extension": ".py",
   "mimetype": "text/x-python",
   "name": "python",
   "nbconvert_exporter": "python",
   "pygments_lexer": "ipython3",
   "version": "3.7.6"
  }
 },
 "nbformat": 4,
 "nbformat_minor": 4
}
